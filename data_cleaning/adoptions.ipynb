{
 "metadata": {
  "language_info": {
   "codemirror_mode": {
    "name": "ipython",
    "version": 3
   },
   "file_extension": ".py",
   "mimetype": "text/x-python",
   "name": "python",
   "nbconvert_exporter": "python",
   "pygments_lexer": "ipython3",
   "version": "3.6.12-final"
  },
  "orig_nbformat": 2,
  "kernelspec": {
   "name": "Python 3.6.12 64-bit ('PythonAdv': conda)",
   "display_name": "Python 3.6.12 64-bit ('PythonAdv': conda)",
   "metadata": {
    "interpreter": {
     "hash": "6340ebdd750fb120c69d52905c3e0f3fc3af95b9464c226bc98001ae2708df00"
    }
   }
  }
 },
 "nbformat": 4,
 "nbformat_minor": 2,
 "cells": [
  {
   "cell_type": "code",
   "execution_count": 1,
   "metadata": {},
   "outputs": [],
   "source": [
    "import pandas as pd"
   ]
  },
  {
   "cell_type": "code",
   "execution_count": 2,
   "metadata": {},
   "outputs": [],
   "source": [
    "from sqlalchemy import create_engine\n",
    "from config import database\n",
    "from config import username\n",
    "from config import password\n",
    "from config import hostname"
   ]
  },
  {
   "cell_type": "code",
   "execution_count": 55,
   "metadata": {},
   "outputs": [
    {
     "output_type": "execute_result",
     "data": {
      "text/plain": [
       "   year  nsw  vic  qld  wa  sa  tas  act  nt\n",
       "0  2010  167   86   40  37  30   14   11   1\n",
       "1  2011  157   73   33  26  24    6   11  11\n",
       "2  2012  159   45   48  42  20   14    6  14\n",
       "3  2013  141   48   34  40  15   12   17  10\n",
       "4  2014  148   38   38  29  17   11    9   2"
      ],
      "text/html": "<div>\n<style scoped>\n    .dataframe tbody tr th:only-of-type {\n        vertical-align: middle;\n    }\n\n    .dataframe tbody tr th {\n        vertical-align: top;\n    }\n\n    .dataframe thead th {\n        text-align: right;\n    }\n</style>\n<table border=\"1\" class=\"dataframe\">\n  <thead>\n    <tr style=\"text-align: right;\">\n      <th></th>\n      <th>year</th>\n      <th>nsw</th>\n      <th>vic</th>\n      <th>qld</th>\n      <th>wa</th>\n      <th>sa</th>\n      <th>tas</th>\n      <th>act</th>\n      <th>nt</th>\n    </tr>\n  </thead>\n  <tbody>\n    <tr>\n      <th>0</th>\n      <td>2010</td>\n      <td>167</td>\n      <td>86</td>\n      <td>40</td>\n      <td>37</td>\n      <td>30</td>\n      <td>14</td>\n      <td>11</td>\n      <td>1</td>\n    </tr>\n    <tr>\n      <th>1</th>\n      <td>2011</td>\n      <td>157</td>\n      <td>73</td>\n      <td>33</td>\n      <td>26</td>\n      <td>24</td>\n      <td>6</td>\n      <td>11</td>\n      <td>11</td>\n    </tr>\n    <tr>\n      <th>2</th>\n      <td>2012</td>\n      <td>159</td>\n      <td>45</td>\n      <td>48</td>\n      <td>42</td>\n      <td>20</td>\n      <td>14</td>\n      <td>6</td>\n      <td>14</td>\n    </tr>\n    <tr>\n      <th>3</th>\n      <td>2013</td>\n      <td>141</td>\n      <td>48</td>\n      <td>34</td>\n      <td>40</td>\n      <td>15</td>\n      <td>12</td>\n      <td>17</td>\n      <td>10</td>\n    </tr>\n    <tr>\n      <th>4</th>\n      <td>2014</td>\n      <td>148</td>\n      <td>38</td>\n      <td>38</td>\n      <td>29</td>\n      <td>17</td>\n      <td>11</td>\n      <td>9</td>\n      <td>2</td>\n    </tr>\n  </tbody>\n</table>\n</div>"
     },
     "metadata": {},
     "execution_count": 55
    }
   ],
   "source": [
    "# Read in csv\n",
    "tableS1 = \"finaldata/Table_S1.csv\"\n",
    "numberchildrenadopted = pd.read_csv(tableS1)\n",
    "numberchildrenadopted.head()"
   ]
  },
  {
   "cell_type": "code",
   "execution_count": 56,
   "metadata": {},
   "outputs": [
    {
     "output_type": "stream",
     "name": "stdout",
     "text": [
      "<class 'pandas.core.frame.DataFrame'>\nRangeIndex: 9 entries, 0 to 8\nData columns (total 9 columns):\n #   Column  Non-Null Count  Dtype\n---  ------  --------------  -----\n 0   year    9 non-null      int64\n 1   nsw     9 non-null      int64\n 2   vic     9 non-null      int64\n 3   qld     9 non-null      int64\n 4   wa      9 non-null      int64\n 5   sa      9 non-null      int64\n 6   tas     9 non-null      int64\n 7   act     9 non-null      int64\n 8   nt      9 non-null      int64\ndtypes: int64(9)\nmemory usage: 776.0 bytes\n"
     ]
    }
   ],
   "source": [
    "# Check data types \n",
    "numberchildrenadopted.info()"
   ]
  },
  {
   "cell_type": "code",
   "execution_count": 6,
   "metadata": {},
   "outputs": [
    {
     "output_type": "execute_result",
     "data": {
      "text/plain": [
       "   year  children_adopted_from_australia  percent_from_australia  \\\n",
       "0  2010                              169                    43.8   \n",
       "1  2011                              184                    54.0   \n",
       "2  2012                              210                    60.3   \n",
       "3  2013                              203                    64.0   \n",
       "4  2014                              209                    71.6   \n",
       "\n",
       "   children_adopted_from_overseas  percent_from_overseas  \n",
       "0                             217                   56.2  \n",
       "1                             157                   46.0  \n",
       "2                             138                   39.7  \n",
       "3                             114                   36.0  \n",
       "4                              83                   28.4  "
      ],
      "text/html": "<div>\n<style scoped>\n    .dataframe tbody tr th:only-of-type {\n        vertical-align: middle;\n    }\n\n    .dataframe tbody tr th {\n        vertical-align: top;\n    }\n\n    .dataframe thead th {\n        text-align: right;\n    }\n</style>\n<table border=\"1\" class=\"dataframe\">\n  <thead>\n    <tr style=\"text-align: right;\">\n      <th></th>\n      <th>year</th>\n      <th>children_adopted_from_australia</th>\n      <th>percent_from_australia</th>\n      <th>children_adopted_from_overseas</th>\n      <th>percent_from_overseas</th>\n    </tr>\n  </thead>\n  <tbody>\n    <tr>\n      <th>0</th>\n      <td>2010</td>\n      <td>169</td>\n      <td>43.8</td>\n      <td>217</td>\n      <td>56.2</td>\n    </tr>\n    <tr>\n      <th>1</th>\n      <td>2011</td>\n      <td>184</td>\n      <td>54.0</td>\n      <td>157</td>\n      <td>46.0</td>\n    </tr>\n    <tr>\n      <th>2</th>\n      <td>2012</td>\n      <td>210</td>\n      <td>60.3</td>\n      <td>138</td>\n      <td>39.7</td>\n    </tr>\n    <tr>\n      <th>3</th>\n      <td>2013</td>\n      <td>203</td>\n      <td>64.0</td>\n      <td>114</td>\n      <td>36.0</td>\n    </tr>\n    <tr>\n      <th>4</th>\n      <td>2014</td>\n      <td>209</td>\n      <td>71.6</td>\n      <td>83</td>\n      <td>28.4</td>\n    </tr>\n  </tbody>\n</table>\n</div>"
     },
     "metadata": {},
     "execution_count": 6
    }
   ],
   "source": [
    "# Read in csv\n",
    "tableS27 = \"finaldata/Table_S27.csv\"\n",
    "adoptionsbytype = pd.read_csv(tableS27)\n",
    "adoptionsbytype.head()"
   ]
  },
  {
   "cell_type": "code",
   "execution_count": 8,
   "metadata": {},
   "outputs": [
    {
     "output_type": "stream",
     "name": "stdout",
     "text": [
      "<class 'pandas.core.frame.DataFrame'>\nRangeIndex: 9 entries, 0 to 8\nData columns (total 5 columns):\n #   Column                           Non-Null Count  Dtype  \n---  ------                           --------------  -----  \n 0   year                             9 non-null      int64  \n 1   children_adopted_from_australia  9 non-null      int64  \n 2   percent_from_australia           9 non-null      float64\n 3   children_adopted_from_overseas   9 non-null      int64  \n 4   percent_from_overseas            9 non-null      float64\ndtypes: float64(2), int64(3)\nmemory usage: 488.0 bytes\n"
     ]
    }
   ],
   "source": [
    "# Check data types \n",
    "adoptionsbytype.info()"
   ]
  },
  {
   "cell_type": "code",
   "execution_count": 44,
   "metadata": {},
   "outputs": [
    {
     "output_type": "execute_result",
     "data": {
      "text/plain": [
       "   year marital_status  twenty  twentyfour  twentynine  thirtyfour  \\\n",
       "0  2010        Married       1           1           2           0   \n",
       "1  2010    Not Married      10          15           8           2   \n",
       "2  2011        Married       0           1           1           3   \n",
       "3  2011    Not Married      14          19           8           2   \n",
       "4  2012        Married       0           1           1           0   \n",
       "\n",
       "   thirtynine  fourty  \n",
       "0           1       0  \n",
       "1           3       0  \n",
       "2           3       0  \n",
       "3           2       2  \n",
       "4           0       1  "
      ],
      "text/html": "<div>\n<style scoped>\n    .dataframe tbody tr th:only-of-type {\n        vertical-align: middle;\n    }\n\n    .dataframe tbody tr th {\n        vertical-align: top;\n    }\n\n    .dataframe thead th {\n        text-align: right;\n    }\n</style>\n<table border=\"1\" class=\"dataframe\">\n  <thead>\n    <tr style=\"text-align: right;\">\n      <th></th>\n      <th>year</th>\n      <th>marital_status</th>\n      <th>twenty</th>\n      <th>twentyfour</th>\n      <th>twentynine</th>\n      <th>thirtyfour</th>\n      <th>thirtynine</th>\n      <th>fourty</th>\n    </tr>\n  </thead>\n  <tbody>\n    <tr>\n      <th>0</th>\n      <td>2010</td>\n      <td>Married</td>\n      <td>1</td>\n      <td>1</td>\n      <td>2</td>\n      <td>0</td>\n      <td>1</td>\n      <td>0</td>\n    </tr>\n    <tr>\n      <th>1</th>\n      <td>2010</td>\n      <td>Not Married</td>\n      <td>10</td>\n      <td>15</td>\n      <td>8</td>\n      <td>2</td>\n      <td>3</td>\n      <td>0</td>\n    </tr>\n    <tr>\n      <th>2</th>\n      <td>2011</td>\n      <td>Married</td>\n      <td>0</td>\n      <td>1</td>\n      <td>1</td>\n      <td>3</td>\n      <td>3</td>\n      <td>0</td>\n    </tr>\n    <tr>\n      <th>3</th>\n      <td>2011</td>\n      <td>Not Married</td>\n      <td>14</td>\n      <td>19</td>\n      <td>8</td>\n      <td>2</td>\n      <td>2</td>\n      <td>2</td>\n    </tr>\n    <tr>\n      <th>4</th>\n      <td>2012</td>\n      <td>Married</td>\n      <td>0</td>\n      <td>1</td>\n      <td>1</td>\n      <td>0</td>\n      <td>0</td>\n      <td>1</td>\n    </tr>\n  </tbody>\n</table>\n</div>"
     },
     "metadata": {},
     "execution_count": 44
    }
   ],
   "source": [
    "# Read in csv\n",
    "tableLA4 = \"finaldata/Table_LA4.csv\"\n",
    "ageofbirthmother = pd.read_csv(tableLA4)\n",
    "ageofbirthmother.head()"
   ]
  },
  {
   "cell_type": "code",
   "execution_count": 45,
   "metadata": {},
   "outputs": [
    {
     "output_type": "stream",
     "name": "stdout",
     "text": [
      "<class 'pandas.core.frame.DataFrame'>\nRangeIndex: 18 entries, 0 to 17\nData columns (total 8 columns):\n #   Column          Non-Null Count  Dtype \n---  ------          --------------  ----- \n 0   year            18 non-null     int64 \n 1   marital_status  18 non-null     object\n 2   twenty          18 non-null     int64 \n 3   twentyfour      18 non-null     int64 \n 4   twentynine      18 non-null     int64 \n 5   thirtyfour      18 non-null     int64 \n 6   thirtynine      18 non-null     int64 \n 7   fourty          18 non-null     int64 \ndtypes: int64(7), object(1)\nmemory usage: 1.2+ KB\n"
     ]
    }
   ],
   "source": [
    "# Check data types \n",
    "ageofbirthmother.info()"
   ]
  },
  {
   "cell_type": "code",
   "execution_count": 46,
   "metadata": {},
   "outputs": [
    {
     "output_type": "execute_result",
     "data": {
      "text/plain": [
       "   year     sex  one  four  nine  ten  total\n",
       "0  2010    Male   44    83    29   48    204\n",
       "1  2010  Female   36    76    26   44    182\n",
       "2  2011    Male   27    79    36   30    172\n",
       "3  2011  Female   27    66    31   45    169\n",
       "4  2012    Male   27    80    49   35    191"
      ],
      "text/html": "<div>\n<style scoped>\n    .dataframe tbody tr th:only-of-type {\n        vertical-align: middle;\n    }\n\n    .dataframe tbody tr th {\n        vertical-align: top;\n    }\n\n    .dataframe thead th {\n        text-align: right;\n    }\n</style>\n<table border=\"1\" class=\"dataframe\">\n  <thead>\n    <tr style=\"text-align: right;\">\n      <th></th>\n      <th>year</th>\n      <th>sex</th>\n      <th>one</th>\n      <th>four</th>\n      <th>nine</th>\n      <th>ten</th>\n      <th>total</th>\n    </tr>\n  </thead>\n  <tbody>\n    <tr>\n      <th>0</th>\n      <td>2010</td>\n      <td>Male</td>\n      <td>44</td>\n      <td>83</td>\n      <td>29</td>\n      <td>48</td>\n      <td>204</td>\n    </tr>\n    <tr>\n      <th>1</th>\n      <td>2010</td>\n      <td>Female</td>\n      <td>36</td>\n      <td>76</td>\n      <td>26</td>\n      <td>44</td>\n      <td>182</td>\n    </tr>\n    <tr>\n      <th>2</th>\n      <td>2011</td>\n      <td>Male</td>\n      <td>27</td>\n      <td>79</td>\n      <td>36</td>\n      <td>30</td>\n      <td>172</td>\n    </tr>\n    <tr>\n      <th>3</th>\n      <td>2011</td>\n      <td>Female</td>\n      <td>27</td>\n      <td>66</td>\n      <td>31</td>\n      <td>45</td>\n      <td>169</td>\n    </tr>\n    <tr>\n      <th>4</th>\n      <td>2012</td>\n      <td>Male</td>\n      <td>27</td>\n      <td>80</td>\n      <td>49</td>\n      <td>35</td>\n      <td>191</td>\n    </tr>\n  </tbody>\n</table>\n</div>"
     },
     "metadata": {},
     "execution_count": 46
    }
   ],
   "source": [
    "# Read in csv\n",
    "tableOV2 = \"finaldata/Table_OV2.csv\"\n",
    "adoptionbyageandgender = pd.read_csv(tableOV2)\n",
    "adoptionbyageandgender.head()"
   ]
  },
  {
   "cell_type": "code",
   "execution_count": 47,
   "metadata": {},
   "outputs": [
    {
     "output_type": "stream",
     "name": "stdout",
     "text": [
      "<class 'pandas.core.frame.DataFrame'>\nRangeIndex: 18 entries, 0 to 17\nData columns (total 7 columns):\n #   Column  Non-Null Count  Dtype \n---  ------  --------------  ----- \n 0   year    18 non-null     int64 \n 1   sex     18 non-null     object\n 2   one     18 non-null     int64 \n 3   four    18 non-null     int64 \n 4   nine    18 non-null     int64 \n 5   ten     18 non-null     int64 \n 6   total   18 non-null     int64 \ndtypes: int64(6), object(1)\nmemory usage: 1.1+ KB\n"
     ]
    }
   ],
   "source": [
    "# Check data types \n",
    "adoptionbyageandgender.info()"
   ]
  },
  {
   "cell_type": "code",
   "execution_count": 21,
   "metadata": {},
   "outputs": [
    {
     "output_type": "execute_result",
     "data": {
      "text/plain": [
       "   year  step_parent  relatives  carer  other  total\n",
       "0  2010           73          1     49      1    124\n",
       "1  2011           52          2     70      5    129\n",
       "2  2012           70          2     81      3    156\n",
       "3  2013           64          2     89      2    157\n",
       "4  2014           52          4     94      3    153"
      ],
      "text/html": "<div>\n<style scoped>\n    .dataframe tbody tr th:only-of-type {\n        vertical-align: middle;\n    }\n\n    .dataframe tbody tr th {\n        vertical-align: top;\n    }\n\n    .dataframe thead th {\n        text-align: right;\n    }\n</style>\n<table border=\"1\" class=\"dataframe\">\n  <thead>\n    <tr style=\"text-align: right;\">\n      <th></th>\n      <th>year</th>\n      <th>step_parent</th>\n      <th>relatives</th>\n      <th>carer</th>\n      <th>other</th>\n      <th>total</th>\n    </tr>\n  </thead>\n  <tbody>\n    <tr>\n      <th>0</th>\n      <td>2010</td>\n      <td>73</td>\n      <td>1</td>\n      <td>49</td>\n      <td>1</td>\n      <td>124</td>\n    </tr>\n    <tr>\n      <th>1</th>\n      <td>2011</td>\n      <td>52</td>\n      <td>2</td>\n      <td>70</td>\n      <td>5</td>\n      <td>129</td>\n    </tr>\n    <tr>\n      <th>2</th>\n      <td>2012</td>\n      <td>70</td>\n      <td>2</td>\n      <td>81</td>\n      <td>3</td>\n      <td>156</td>\n    </tr>\n    <tr>\n      <th>3</th>\n      <td>2013</td>\n      <td>64</td>\n      <td>2</td>\n      <td>89</td>\n      <td>2</td>\n      <td>157</td>\n    </tr>\n    <tr>\n      <th>4</th>\n      <td>2014</td>\n      <td>52</td>\n      <td>4</td>\n      <td>94</td>\n      <td>3</td>\n      <td>153</td>\n    </tr>\n  </tbody>\n</table>\n</div>"
     },
     "metadata": {},
     "execution_count": 21
    }
   ],
   "source": [
    "# Read in csv\n",
    "tableS25 = \"finaldata/Table_S25.csv\"\n",
    "parentrelationship = pd.read_csv(tableS25)\n",
    "parentrelationship.head()"
   ]
  },
  {
   "cell_type": "code",
   "execution_count": 22,
   "metadata": {},
   "outputs": [
    {
     "output_type": "stream",
     "name": "stdout",
     "text": [
      "<class 'pandas.core.frame.DataFrame'>\nRangeIndex: 9 entries, 0 to 8\nData columns (total 6 columns):\n #   Column       Non-Null Count  Dtype\n---  ------       --------------  -----\n 0   year         9 non-null      int64\n 1   step_parent  9 non-null      int64\n 2   relatives    9 non-null      int64\n 3   carer        9 non-null      int64\n 4   other        9 non-null      int64\n 5   total        9 non-null      int64\ndtypes: int64(6)\nmemory usage: 560.0 bytes\n"
     ]
    }
   ],
   "source": [
    "# Check data types \n",
    "parentrelationship.info()"
   ]
  },
  {
   "cell_type": "code",
   "execution_count": 23,
   "metadata": {},
   "outputs": [
    {
     "output_type": "execute_result",
     "data": {
      "text/plain": [
       "   year  adoption_by_relatives  adoption_by_non_relatives  total\n",
       "0  2010                     75                         94    169\n",
       "1  2011                     59                        125    184\n",
       "2  2012                     72                        138    210\n",
       "3  2013                     66                        137    203\n",
       "4  2014                     56                        153    209"
      ],
      "text/html": "<div>\n<style scoped>\n    .dataframe tbody tr th:only-of-type {\n        vertical-align: middle;\n    }\n\n    .dataframe tbody tr th {\n        vertical-align: top;\n    }\n\n    .dataframe thead th {\n        text-align: right;\n    }\n</style>\n<table border=\"1\" class=\"dataframe\">\n  <thead>\n    <tr style=\"text-align: right;\">\n      <th></th>\n      <th>year</th>\n      <th>adoption_by_relatives</th>\n      <th>adoption_by_non_relatives</th>\n      <th>total</th>\n    </tr>\n  </thead>\n  <tbody>\n    <tr>\n      <th>0</th>\n      <td>2010</td>\n      <td>75</td>\n      <td>94</td>\n      <td>169</td>\n    </tr>\n    <tr>\n      <th>1</th>\n      <td>2011</td>\n      <td>59</td>\n      <td>125</td>\n      <td>184</td>\n    </tr>\n    <tr>\n      <th>2</th>\n      <td>2012</td>\n      <td>72</td>\n      <td>138</td>\n      <td>210</td>\n    </tr>\n    <tr>\n      <th>3</th>\n      <td>2013</td>\n      <td>66</td>\n      <td>137</td>\n      <td>203</td>\n    </tr>\n    <tr>\n      <th>4</th>\n      <td>2014</td>\n      <td>56</td>\n      <td>153</td>\n      <td>209</td>\n    </tr>\n  </tbody>\n</table>\n</div>"
     },
     "metadata": {},
     "execution_count": 23
    }
   ],
   "source": [
    "# Read in csv\n",
    "tableS28 = \"finaldata/Table_S28.csv\"\n",
    "adoptiveparentrelationship = pd.read_csv(tableS28)\n",
    "adoptiveparentrelationship.head()"
   ]
  },
  {
   "cell_type": "code",
   "execution_count": 24,
   "metadata": {},
   "outputs": [
    {
     "output_type": "stream",
     "name": "stdout",
     "text": [
      "<class 'pandas.core.frame.DataFrame'>\nRangeIndex: 9 entries, 0 to 8\nData columns (total 4 columns):\n #   Column                     Non-Null Count  Dtype\n---  ------                     --------------  -----\n 0   year                       9 non-null      int64\n 1   adoption_by_relatives      9 non-null      int64\n 2   adoption_by_non_relatives  9 non-null      int64\n 3   total                      9 non-null      int64\ndtypes: int64(4)\nmemory usage: 416.0 bytes\n"
     ]
    }
   ],
   "source": [
    "# Check data types \n",
    "adoptiveparentrelationship.info()"
   ]
  },
  {
   "cell_type": "code",
   "execution_count": 25,
   "metadata": {},
   "outputs": [
    {
     "output_type": "execute_result",
     "data": {
      "text/plain": [
       "   year  intercountry  local  known  total\n",
       "0  2010           217     45    124    386\n",
       "1  2011           157     55    129    341\n",
       "2  2012           138     54    156    348\n",
       "3  2013           114     46    157    317\n",
       "4  2014            83     56    153    292"
      ],
      "text/html": "<div>\n<style scoped>\n    .dataframe tbody tr th:only-of-type {\n        vertical-align: middle;\n    }\n\n    .dataframe tbody tr th {\n        vertical-align: top;\n    }\n\n    .dataframe thead th {\n        text-align: right;\n    }\n</style>\n<table border=\"1\" class=\"dataframe\">\n  <thead>\n    <tr style=\"text-align: right;\">\n      <th></th>\n      <th>year</th>\n      <th>intercountry</th>\n      <th>local</th>\n      <th>known</th>\n      <th>total</th>\n    </tr>\n  </thead>\n  <tbody>\n    <tr>\n      <th>0</th>\n      <td>2010</td>\n      <td>217</td>\n      <td>45</td>\n      <td>124</td>\n      <td>386</td>\n    </tr>\n    <tr>\n      <th>1</th>\n      <td>2011</td>\n      <td>157</td>\n      <td>55</td>\n      <td>129</td>\n      <td>341</td>\n    </tr>\n    <tr>\n      <th>2</th>\n      <td>2012</td>\n      <td>138</td>\n      <td>54</td>\n      <td>156</td>\n      <td>348</td>\n    </tr>\n    <tr>\n      <th>3</th>\n      <td>2013</td>\n      <td>114</td>\n      <td>46</td>\n      <td>157</td>\n      <td>317</td>\n    </tr>\n    <tr>\n      <th>4</th>\n      <td>2014</td>\n      <td>83</td>\n      <td>56</td>\n      <td>153</td>\n      <td>292</td>\n    </tr>\n  </tbody>\n</table>\n</div>"
     },
     "metadata": {},
     "execution_count": 25
    }
   ],
   "source": [
    "# Read in csv\n",
    "tableOV1 = \"finaldata/Table_OV1.csv\"\n",
    "typeofadoption = pd.read_csv(tableOV1)\n",
    "typeofadoption.head()"
   ]
  },
  {
   "cell_type": "code",
   "execution_count": 26,
   "metadata": {},
   "outputs": [
    {
     "output_type": "stream",
     "name": "stdout",
     "text": [
      "<class 'pandas.core.frame.DataFrame'>\nRangeIndex: 9 entries, 0 to 8\nData columns (total 5 columns):\n #   Column        Non-Null Count  Dtype\n---  ------        --------------  -----\n 0   year          9 non-null      int64\n 1   intercountry  9 non-null      int64\n 2   local         9 non-null      int64\n 3   known         9 non-null      int64\n 4   total         9 non-null      int64\ndtypes: int64(5)\nmemory usage: 488.0 bytes\n"
     ]
    }
   ],
   "source": [
    "# Check data types \n",
    "typeofadoption.info()"
   ]
  },
  {
   "cell_type": "code",
   "execution_count": 50,
   "metadata": {},
   "outputs": [
    {
     "output_type": "execute_result",
     "data": {
      "text/plain": [
       "  country_of_birth  year_2010  year_2011  year_2012  year_2013  year_2014  \\\n",
       "0            China         51         24         14         11          4   \n",
       "1            India         19          8          3          7          2   \n",
       "2      Philippines         37         29         20         18         22   \n",
       "3      South Korea         19         26         14         13          4   \n",
       "4           Taiwan         27         29         46         41         30   \n",
       "\n",
       "   year_2015  year_2016  year_2017  year_2018  total  \n",
       "0          3          1          0          0    108  \n",
       "1          0          0          2          0     41  \n",
       "2         20         18          9         15    188  \n",
       "3         14         14         19         17    140  \n",
       "4         16         24         21         15    249  "
      ],
      "text/html": "<div>\n<style scoped>\n    .dataframe tbody tr th:only-of-type {\n        vertical-align: middle;\n    }\n\n    .dataframe tbody tr th {\n        vertical-align: top;\n    }\n\n    .dataframe thead th {\n        text-align: right;\n    }\n</style>\n<table border=\"1\" class=\"dataframe\">\n  <thead>\n    <tr style=\"text-align: right;\">\n      <th></th>\n      <th>country_of_birth</th>\n      <th>year_2010</th>\n      <th>year_2011</th>\n      <th>year_2012</th>\n      <th>year_2013</th>\n      <th>year_2014</th>\n      <th>year_2015</th>\n      <th>year_2016</th>\n      <th>year_2017</th>\n      <th>year_2018</th>\n      <th>total</th>\n    </tr>\n  </thead>\n  <tbody>\n    <tr>\n      <th>0</th>\n      <td>China</td>\n      <td>51</td>\n      <td>24</td>\n      <td>14</td>\n      <td>11</td>\n      <td>4</td>\n      <td>3</td>\n      <td>1</td>\n      <td>0</td>\n      <td>0</td>\n      <td>108</td>\n    </tr>\n    <tr>\n      <th>1</th>\n      <td>India</td>\n      <td>19</td>\n      <td>8</td>\n      <td>3</td>\n      <td>7</td>\n      <td>2</td>\n      <td>0</td>\n      <td>0</td>\n      <td>2</td>\n      <td>0</td>\n      <td>41</td>\n    </tr>\n    <tr>\n      <th>2</th>\n      <td>Philippines</td>\n      <td>37</td>\n      <td>29</td>\n      <td>20</td>\n      <td>18</td>\n      <td>22</td>\n      <td>20</td>\n      <td>18</td>\n      <td>9</td>\n      <td>15</td>\n      <td>188</td>\n    </tr>\n    <tr>\n      <th>3</th>\n      <td>South Korea</td>\n      <td>19</td>\n      <td>26</td>\n      <td>14</td>\n      <td>13</td>\n      <td>4</td>\n      <td>14</td>\n      <td>14</td>\n      <td>19</td>\n      <td>17</td>\n      <td>140</td>\n    </tr>\n    <tr>\n      <th>4</th>\n      <td>Taiwan</td>\n      <td>27</td>\n      <td>29</td>\n      <td>46</td>\n      <td>41</td>\n      <td>30</td>\n      <td>16</td>\n      <td>24</td>\n      <td>21</td>\n      <td>15</td>\n      <td>249</td>\n    </tr>\n  </tbody>\n</table>\n</div>"
     },
     "metadata": {},
     "execution_count": 50
    }
   ],
   "source": [
    "# Read in csv\n",
    "tableS8 = \"finaldata/Table_S8.csv\"\n",
    "intercountry_bycountryoforigin = pd.read_csv(tableS8)\n",
    "intercountry_bycountryoforigin.head()"
   ]
  },
  {
   "cell_type": "code",
   "execution_count": 51,
   "metadata": {},
   "outputs": [
    {
     "output_type": "stream",
     "name": "stdout",
     "text": [
      "<class 'pandas.core.frame.DataFrame'>\nRangeIndex: 8 entries, 0 to 7\nData columns (total 11 columns):\n #   Column            Non-Null Count  Dtype \n---  ------            --------------  ----- \n 0   country_of_birth  8 non-null      object\n 1   year_2010         8 non-null      int64 \n 2   year_2011         8 non-null      int64 \n 3   year_2012         8 non-null      int64 \n 4   year_2013         8 non-null      int64 \n 5   year_2014         8 non-null      int64 \n 6   year_2015         8 non-null      int64 \n 7   year_2016         8 non-null      int64 \n 8   year_2017         8 non-null      int64 \n 9   year_2018         8 non-null      int64 \n 10  total             8 non-null      int64 \ndtypes: int64(10), object(1)\nmemory usage: 832.0+ bytes\n"
     ]
    }
   ],
   "source": [
    "# Check data types \n",
    "intercountry_bycountryoforigin.info()"
   ]
  },
  {
   "cell_type": "code",
   "execution_count": 52,
   "metadata": {},
   "outputs": [
    {
     "output_type": "execute_result",
     "data": {
      "text/plain": [
       "   year  one  four  nine  ten  total\n",
       "0  2010   63   125    25    4    217\n",
       "1  2011   34    91    25    7    157\n",
       "2  2012   27    82    26    3    138\n",
       "3  2013   16    66    31    1    114\n",
       "4  2014    8    48    27    0     83"
      ],
      "text/html": "<div>\n<style scoped>\n    .dataframe tbody tr th:only-of-type {\n        vertical-align: middle;\n    }\n\n    .dataframe tbody tr th {\n        vertical-align: top;\n    }\n\n    .dataframe thead th {\n        text-align: right;\n    }\n</style>\n<table border=\"1\" class=\"dataframe\">\n  <thead>\n    <tr style=\"text-align: right;\">\n      <th></th>\n      <th>year</th>\n      <th>one</th>\n      <th>four</th>\n      <th>nine</th>\n      <th>ten</th>\n      <th>total</th>\n    </tr>\n  </thead>\n  <tbody>\n    <tr>\n      <th>0</th>\n      <td>2010</td>\n      <td>63</td>\n      <td>125</td>\n      <td>25</td>\n      <td>4</td>\n      <td>217</td>\n    </tr>\n    <tr>\n      <th>1</th>\n      <td>2011</td>\n      <td>34</td>\n      <td>91</td>\n      <td>25</td>\n      <td>7</td>\n      <td>157</td>\n    </tr>\n    <tr>\n      <th>2</th>\n      <td>2012</td>\n      <td>27</td>\n      <td>82</td>\n      <td>26</td>\n      <td>3</td>\n      <td>138</td>\n    </tr>\n    <tr>\n      <th>3</th>\n      <td>2013</td>\n      <td>16</td>\n      <td>66</td>\n      <td>31</td>\n      <td>1</td>\n      <td>114</td>\n    </tr>\n    <tr>\n      <th>4</th>\n      <td>2014</td>\n      <td>8</td>\n      <td>48</td>\n      <td>27</td>\n      <td>0</td>\n      <td>83</td>\n    </tr>\n  </tbody>\n</table>\n</div>"
     },
     "metadata": {},
     "execution_count": 52
    }
   ],
   "source": [
    "# Read in csv\n",
    "tableS9 = \"finaldata/Table_S9.csv\"\n",
    "intercountry_byagegroup = pd.read_csv(tableS9)\n",
    "intercountry_byagegroup.head()"
   ]
  },
  {
   "cell_type": "code",
   "execution_count": 53,
   "metadata": {},
   "outputs": [
    {
     "output_type": "stream",
     "name": "stdout",
     "text": [
      "<class 'pandas.core.frame.DataFrame'>\nRangeIndex: 9 entries, 0 to 8\nData columns (total 6 columns):\n #   Column  Non-Null Count  Dtype\n---  ------  --------------  -----\n 0   year    9 non-null      int64\n 1   one     9 non-null      int64\n 2   four    9 non-null      int64\n 3   nine    9 non-null      int64\n 4   ten     9 non-null      int64\n 5   total   9 non-null      int64\ndtypes: int64(6)\nmemory usage: 560.0 bytes\n"
     ]
    }
   ],
   "source": [
    "# Check data types \n",
    "intercountry_byagegroup.info()"
   ]
  },
  {
   "cell_type": "code",
   "execution_count": 34,
   "metadata": {},
   "outputs": [
    {
     "output_type": "execute_result",
     "data": {
      "text/plain": [
       "   year  number_sibling_groups  children_adopted_in_sibling_group\n",
       "0  2010                     15                                 35\n",
       "1  2011                      8                                 18\n",
       "2  2012                      9                                 19\n",
       "3  2013                      9                                 18\n",
       "4  2014                     11                                 23"
      ],
      "text/html": "<div>\n<style scoped>\n    .dataframe tbody tr th:only-of-type {\n        vertical-align: middle;\n    }\n\n    .dataframe tbody tr th {\n        vertical-align: top;\n    }\n\n    .dataframe thead th {\n        text-align: right;\n    }\n</style>\n<table border=\"1\" class=\"dataframe\">\n  <thead>\n    <tr style=\"text-align: right;\">\n      <th></th>\n      <th>year</th>\n      <th>number_sibling_groups</th>\n      <th>children_adopted_in_sibling_group</th>\n    </tr>\n  </thead>\n  <tbody>\n    <tr>\n      <th>0</th>\n      <td>2010</td>\n      <td>15</td>\n      <td>35</td>\n    </tr>\n    <tr>\n      <th>1</th>\n      <td>2011</td>\n      <td>8</td>\n      <td>18</td>\n    </tr>\n    <tr>\n      <th>2</th>\n      <td>2012</td>\n      <td>9</td>\n      <td>19</td>\n    </tr>\n    <tr>\n      <th>3</th>\n      <td>2013</td>\n      <td>9</td>\n      <td>18</td>\n    </tr>\n    <tr>\n      <th>4</th>\n      <td>2014</td>\n      <td>11</td>\n      <td>23</td>\n    </tr>\n  </tbody>\n</table>\n</div>"
     },
     "metadata": {},
     "execution_count": 34
    }
   ],
   "source": [
    "# Read in csv\n",
    "tableS13 = \"finaldata/Table_S13.csv\"\n",
    "intercountry_bysiblinggroup = pd.read_csv(tableS13)\n",
    "intercountry_bysiblinggroup.head()"
   ]
  },
  {
   "cell_type": "code",
   "execution_count": 35,
   "metadata": {},
   "outputs": [
    {
     "output_type": "stream",
     "name": "stdout",
     "text": [
      "<class 'pandas.core.frame.DataFrame'>\nRangeIndex: 9 entries, 0 to 8\nData columns (total 3 columns):\n #   Column                             Non-Null Count  Dtype\n---  ------                             --------------  -----\n 0   year                               9 non-null      int64\n 1   number_sibling_groups              9 non-null      int64\n 2   children_adopted_in_sibling_group  9 non-null      int64\ndtypes: int64(3)\nmemory usage: 344.0 bytes\n"
     ]
    }
   ],
   "source": [
    "# Check data types \n",
    "intercountry_bysiblinggroup.info()"
   ]
  },
  {
   "cell_type": "code",
   "execution_count": 41,
   "metadata": {},
   "outputs": [
    {
     "output_type": "execute_result",
     "data": {
      "text/plain": [
       "   year  age_group  months_for_approval  months_before_file_sent  \\\n",
       "0  2010          1                   13                        3   \n",
       "1  2010          4                    8                        3   \n",
       "2  2010          9                   13                        3   \n",
       "3  2010         10                   12                        1   \n",
       "4  2011          1                    7                        4   \n",
       "\n",
       "   months_from_file_sent_to_child_allocated  \\\n",
       "0                                        22   \n",
       "1                                        31   \n",
       "2                                        26   \n",
       "3                                         8   \n",
       "4                                        13   \n",
       "\n",
       "   months_from_time_child_allocated_to_placed  overall_months_to_adopt  \n",
       "0                                           5                       53  \n",
       "1                                           4                       49  \n",
       "2                                           7                       52  \n",
       "3                                           5                       45  \n",
       "4                                           5                       31  "
      ],
      "text/html": "<div>\n<style scoped>\n    .dataframe tbody tr th:only-of-type {\n        vertical-align: middle;\n    }\n\n    .dataframe tbody tr th {\n        vertical-align: top;\n    }\n\n    .dataframe thead th {\n        text-align: right;\n    }\n</style>\n<table border=\"1\" class=\"dataframe\">\n  <thead>\n    <tr style=\"text-align: right;\">\n      <th></th>\n      <th>year</th>\n      <th>age_group</th>\n      <th>months_for_approval</th>\n      <th>months_before_file_sent</th>\n      <th>months_from_file_sent_to_child_allocated</th>\n      <th>months_from_time_child_allocated_to_placed</th>\n      <th>overall_months_to_adopt</th>\n    </tr>\n  </thead>\n  <tbody>\n    <tr>\n      <th>0</th>\n      <td>2010</td>\n      <td>1</td>\n      <td>13</td>\n      <td>3</td>\n      <td>22</td>\n      <td>5</td>\n      <td>53</td>\n    </tr>\n    <tr>\n      <th>1</th>\n      <td>2010</td>\n      <td>4</td>\n      <td>8</td>\n      <td>3</td>\n      <td>31</td>\n      <td>4</td>\n      <td>49</td>\n    </tr>\n    <tr>\n      <th>2</th>\n      <td>2010</td>\n      <td>9</td>\n      <td>13</td>\n      <td>3</td>\n      <td>26</td>\n      <td>7</td>\n      <td>52</td>\n    </tr>\n    <tr>\n      <th>3</th>\n      <td>2010</td>\n      <td>10</td>\n      <td>12</td>\n      <td>1</td>\n      <td>8</td>\n      <td>5</td>\n      <td>45</td>\n    </tr>\n    <tr>\n      <th>4</th>\n      <td>2011</td>\n      <td>1</td>\n      <td>7</td>\n      <td>4</td>\n      <td>13</td>\n      <td>5</td>\n      <td>31</td>\n    </tr>\n  </tbody>\n</table>\n</div>"
     },
     "metadata": {},
     "execution_count": 41
    }
   ],
   "source": [
    "# Read in csv\n",
    "tablePT1 = \"finaldata/Table_PT1.csv\"\n",
    "adoptionprocesstime = pd.read_csv(tablePT1)\n",
    "adoptionprocesstime.head()"
   ]
  },
  {
   "cell_type": "code",
   "execution_count": 37,
   "metadata": {},
   "outputs": [
    {
     "output_type": "stream",
     "name": "stdout",
     "text": [
      "<class 'pandas.core.frame.DataFrame'>\nRangeIndex: 30 entries, 0 to 29\nData columns (total 7 columns):\n #   Column                                      Non-Null Count  Dtype\n---  ------                                      --------------  -----\n 0   year                                        30 non-null     int64\n 1   age_group                                   30 non-null     int64\n 2   months_for_approval                         30 non-null     int64\n 3   months_before_file_sent                     30 non-null     int64\n 4   months_from_file_sent_to_child_allocated    30 non-null     int64\n 5   months_from_time_child_allocated_to_placed  30 non-null     int64\n 6   overall_months_to_adopt                     30 non-null     int64\ndtypes: int64(7)\nmemory usage: 1.8 KB\n"
     ]
    }
   ],
   "source": [
    "# Check data types \n",
    "adoptionprocesstime.info()"
   ]
  },
  {
   "cell_type": "code",
   "execution_count": 42,
   "metadata": {},
   "outputs": [],
   "source": [
    "# Connect to postgres database\n",
    "connection_string = (f'{username}:{password}@{hostname}:5432/mothersandbabies')\n",
    "engine = create_engine(f'postgresql://{connection_string}')"
   ]
  },
  {
   "cell_type": "code",
   "execution_count": 54,
   "metadata": {},
   "outputs": [
    {
     "output_type": "execute_result",
     "data": {
      "text/plain": [
       "['babies',\n",
       " 'numberchildrenadopted',\n",
       " 'adoptionsbytype',\n",
       " 'mothers',\n",
       " 'mothersbirthcountry',\n",
       " 'birthlocation',\n",
       " 'ageofbirthmother',\n",
       " 'adoptionbyageandgender',\n",
       " 'parentrelationship',\n",
       " 'adoptiveparentrelationship',\n",
       " 'typeofadoption',\n",
       " 'intercountry_bycountryoforigin',\n",
       " 'intercountry_byagegroup',\n",
       " 'intercountry_bysiblinggroup',\n",
       " 'adoptionprocesstime']"
      ]
     },
     "metadata": {},
     "execution_count": 54
    }
   ],
   "source": [
    "# Check available tables in postgres database\n",
    "engine.table_names()"
   ]
  },
  {
   "cell_type": "code",
   "execution_count": 57,
   "metadata": {},
   "outputs": [],
   "source": [
    "# Load panda's dataframe to postgres sql table\n",
    "numberchildrenadopted.to_sql(name='numberchildrenadopted', con=engine, if_exists='append', index=True)\n",
    "\n",
    "adoptionsbytype.to_sql(name='adoptionsbytype', con=engine, if_exists='append', index=True)\n",
    "\n",
    "ageofbirthmother.to_sql(name='ageofbirthmother', con=engine, if_exists='append', index=True)\n",
    "\n",
    "adoptionbyageandgender.to_sql(name='adoptionbyageandgender', con=engine, if_exists='append', index=True)\n",
    "\n",
    "parentrelationship.to_sql(name='parentrelationship', con=engine, if_exists='append', index=True)\n",
    "\n",
    "adoptiveparentrelationship.to_sql(name='adoptiveparentrelationship', con=engine, if_exists='append', index=True)\n",
    "\n",
    "typeofadoption.to_sql(name='typeofadoption', con=engine, if_exists='append', index=True)\n",
    "\n",
    "intercountry_bycountryoforigin.to_sql(name='intercountry_bycountryoforigin', con=engine, if_exists='append', index=True)\n",
    "\n",
    "intercountry_byagegroup.to_sql(name='intercountry_byagegroup', con=engine, if_exists='append', index=True)\n",
    "\n",
    "intercountry_bysiblinggroup.to_sql(name='intercountry_bysiblinggroup', con=engine, if_exists='append', index=True)\n",
    "\n",
    "adoptionprocesstime.to_sql(name='adoptionprocesstime', con=engine, if_exists='append', index=True)\n"
   ]
  },
  {
   "cell_type": "code",
   "execution_count": null,
   "metadata": {},
   "outputs": [],
   "source": [
    "# Pull info from db to create dataframes to plot"
   ]
  },
  {
   "cell_type": "code",
   "execution_count": null,
   "metadata": {},
   "outputs": [],
   "source": []
  },
  {
   "cell_type": "code",
   "execution_count": null,
   "metadata": {},
   "outputs": [],
   "source": []
  },
  {
   "cell_type": "code",
   "execution_count": null,
   "metadata": {},
   "outputs": [],
   "source": [
    "# Count the total number of woman who gave birth between 2010 and 2018\n",
    "# total_births = mothers_df[\"count\"].sum()\n",
    "# total_births_df = pd.DataFrame ({\"Number of Woman who Gave Birth\":[total_births]})\n",
    "\n",
    "# # Display the data frame\n",
    "# total_births_df"
   ]
  },
  {
   "cell_type": "code",
   "execution_count": null,
   "metadata": {},
   "outputs": [],
   "source": [
    "# # Group data by age\n",
    "# age = mothers_df.groupby(\"age_group\")\n",
    "\n",
    "# # Find the total count of each age\n",
    "# age_count = age[\"count\"].sum()\n",
    "\n",
    "# # Find the percentage of each age\n",
    "# age_percent = age_count/total_births*100\n",
    "\n",
    "# # # Create a new dataframe to hold calculations for percentage and count of each gender\n",
    "# age_df = pd.DataFrame({\"Number of Woman who Gave Birth\": age_count, \"Percentage of Each Age Group 2010 - 2018\": age_percent})\n",
    "\n",
    "# # # Sort values in descedning order \n",
    "# age_df.sort_values(by=[\"Number of Woman who Gave Birth\"], inplace = True, ascending = False)\n",
    "\n",
    "# # # Convert Percentage of births to float, then format\n",
    "# age_df[\"Percentage of Each Age Group 2010 - 2018\"] = age_df[\"Percentage of Each Age Group 2010 - 2018\"].astype(float).map(\"{:,.2f}%\".format)\n",
    "\n",
    "# # Add index name and sort by Age\n",
    "# age_df.index.name = \"age_group\"\n",
    "# age_df.sort_values(by=[\"age_group\"], inplace = True, ascending = True)\n",
    "\n",
    "# # # Display the data frame\n",
    "# age_df"
   ]
  },
  {
   "cell_type": "code",
   "execution_count": null,
   "metadata": {},
   "outputs": [],
   "source": [
    "# # Add Data in to show per year\n",
    "\n",
    "# # Group data by age\n",
    "# age = mothers_df.groupby([\"year\", \"age_group\"])\n",
    "\n",
    "# # Find the total count of each age\n",
    "# age_count = age[\"count\"].sum()\n",
    "# age_count\n",
    "# # Find the total count of births per year\n",
    "# year = mothers_df.groupby(\"year\")\n",
    "# year_count = year[\"count\"].sum()\n",
    "# # year_count\n",
    "\n",
    "# # Find the percentage of each age\n",
    "# age_percent = age_count/year_count*100\n",
    "\n",
    "# # # # Create a new dataframe to hold calculations for percentage and count of each gender\n",
    "# age_df = pd.DataFrame({\"Number of Woman who Gave Birth\": age_count, \"Percentage per Year\": age_percent})\n",
    "\n",
    "# # # # Sort values in descedning order \n",
    "# age_df.sort_values(by=[\"Number of Woman who Gave Birth\"], inplace = True, ascending = False)\n",
    "\n",
    "# # # Convert Percentage of births to float, then format\n",
    "# age_df[\"Percentage per Year\"] = age_df[\"Percentage per Year\"].astype(float).map(\"{:,.2f}%\".format)\n",
    "\n",
    "# # Add index name and sort by year then age_group\n",
    "# age_df.sort_values(by=[\"year\", \"age_group\"], inplace = True, ascending = True)\n",
    "\n",
    "# # # Display the data frame\n",
    "# age_df.tail(60)"
   ]
  },
  {
   "cell_type": "code",
   "execution_count": null,
   "metadata": {},
   "outputs": [],
   "source": [
    "# # Average ages per year - REMOVE 0 Values first - 0 was not known information\n",
    "\n",
    "# # Drop any 0's in the age_group column\n",
    "# droped = mothers_df.loc[mothers_df[\"age_group\"]!= \"0\"]\n",
    "\n",
    "# # Group data by year\n",
    "# year = droped.groupby([\"year\"])\n",
    "\n",
    "# # Find the average age\n",
    "# age_count = year[\"age_group\"].mean()\n",
    "\n",
    "# # Create a new dataframe to hold calculations for percentage and count of each gender\n",
    "# avg_age = pd.DataFrame({\"Average Age\": age_count})\n",
    "\n",
    "# # Add index name and sort by year then age_group\n",
    "# avg_age.sort_values(by=[\"year\"], inplace = True, ascending = True)\n",
    "\n",
    "# # # Display the data frame\n",
    "# avg_age"
   ]
  },
  {
   "cell_type": "code",
   "execution_count": null,
   "metadata": {},
   "outputs": [],
   "source": [
    "# # Total Births Per Year \n",
    "\n",
    "# # Group data by year\n",
    "# year = mothers_df.groupby(\"year\")\n",
    "\n",
    "# # Find the total sum of births for each year\n",
    "# totalperyear = year[\"count\"].sum()\n",
    "\n",
    "# # Find the percentage of each age\n",
    "# total_percent = totalperyear/total_births*100\n",
    "\n",
    "# # Find the average age\n",
    "# age_count = year[\"age_group\"].mean()\n",
    "\n",
    "# # # Create a new dataframe to hold calculations for percentage and count of each gender\n",
    "# year_df = pd.DataFrame({\"Number of Woman who Gave Birth\": totalperyear, \"Percentage of Each Year\": total_percent, \"Average Age of Mothers at Birth\" : age_count})\n",
    "\n",
    "# # # Sort values in descedning order \n",
    "# year_df.sort_values(by=[\"Number of Woman who Gave Birth\"], inplace = True, ascending = False)\n",
    "\n",
    "# # # Convert Percentage of births each year to float, and format. Format average age\n",
    "# year_df[\"Percentage of Each Year\"] = year_df[\"Percentage of Each Year\"].astype(float).map(\"{:,.2f}%\".format)\n",
    "# year_df[\"Average Age of Mothers at Birth\"] = year_df[\"Average Age of Mothers at Birth\"].map(\"{:,.2f}\".format)\n",
    "\n",
    "# # Add index name and sort by year then age_group\n",
    "# year_df.sort_values(by=[\"year\"], inplace = True, ascending = True)\n",
    "\n",
    "# # # Display the data frame\n",
    "# year_df"
   ]
  },
  {
   "cell_type": "code",
   "execution_count": null,
   "metadata": {},
   "outputs": [],
   "source": [
    "# # Drop any 0's in the age_group column\n",
    "# droped = mothers_df.loc[mothers_df[\"age_group\"]!= \"0\"]\n",
    "\n",
    "# # Group data by year\n",
    "# year = droped.groupby([\"year\"])\n",
    "\n",
    "# # Find the average age\n",
    "# age_count = year[\"age_group\"].mean()\n",
    "\n",
    "# # Create a new dataframe to hold calculations for percentage and count of each gender\n",
    "# avg_age = pd.DataFrame({\"Average Age\": age_count})\n",
    "\n",
    "# # Add index name and sort by year then age_group\n",
    "# avg_age.sort_values(by=[\"year\"], inplace = True, ascending = True)\n",
    "\n",
    "# # # Display the data frame\n",
    "# avg_age"
   ]
  },
  {
   "cell_type": "code",
   "execution_count": null,
   "metadata": {},
   "outputs": [],
   "source": [
    "# # Count the total number of woman who gave birth between 2010 and 2018 in either private or public hospitals\n",
    "# dropped = mothers_df.loc[mothers_df[\"topic\"]== \"Hospital sector\"]\n",
    "# dropped = dropped.loc[dropped[\"topic_disaggregation\"]!= \"Not stated\"]\n",
    "\n",
    "# # Group by private or public\n",
    "# birth_locations = dropped.groupby([\"topic_disaggregation\"])\n",
    "\n",
    "# birth_locations_count = birth_locations[\"count\"].sum()\n",
    "\n",
    "# birth_locations_df = pd.DataFrame ({\"Number of Woman Who Gave Birth\":birth_locations_count})\n",
    "\n",
    "# # Display the data frame\n",
    "# birth_locations_df"
   ]
  },
  {
   "cell_type": "code",
   "execution_count": null,
   "metadata": {},
   "outputs": [],
   "source": [
    "# # Count the total number of woman who gave birth between 2010 and 2018 each year in either private or public hospitals\n",
    "# dropped = mothers_df.loc[mothers_df[\"topic\"]== \"Hospital sector\"]\n",
    "# dropped = dropped.loc[dropped[\"topic_disaggregation\"]!= \"Not stated\"]\n",
    "\n",
    "# # Group by private or public\n",
    "# birth_locations = dropped.groupby([\"year\", \"topic_disaggregation\"])\n",
    "\n",
    "# birth_locations_count = birth_locations[\"count\"].sum()\n",
    "\n",
    "# birth_locations_df = pd.DataFrame ({\"Number of Woman Who Gave Birth\":birth_locations_count})\n",
    "\n",
    "# # Display the data frame\n",
    "# birth_locations_df"
   ]
  },
  {
   "cell_type": "code",
   "execution_count": null,
   "metadata": {},
   "outputs": [],
   "source": [
    "# # Count the total number of indigenous woman who gave birth between 2010 and 2018\n",
    "# drop = mothers_df.loc[mothers_df[\"topic\"]== \"Indigenous status (mother)\"]\n",
    "# # dropped = dropped.loc[dropped[\"topic_disaggregation\"]!= \"Not stated\"]\n",
    "\n",
    "# # Group by Indigenous Status\n",
    "# indigenous = drop.groupby([\"topic_disaggregation\"])\n",
    "\n",
    "# indigenous_status = indigenous[\"count\"].sum()\n",
    "\n",
    "# indigenous_df = pd.DataFrame ({\"Number of Indigenous Woman Who Gave Birth\":indigenous_status})\n",
    "\n",
    "# # Display the data frame\n",
    "# indigenous_df"
   ]
  },
  {
   "cell_type": "code",
   "execution_count": null,
   "metadata": {},
   "outputs": [],
   "source": [
    "# # Count the total number of indigenous woman who gave birth between 2010 and 2018 per year\n",
    "# drop = mothers_df.loc[mothers_df[\"topic\"]== \"Indigenous status (mother)\"]\n",
    "\n",
    "# # Group by year and Indigenous Status\n",
    "# indigenous_year = drop.groupby([\"year\", \"topic_disaggregation\"])\n",
    "\n",
    "# indigenous_status_year = indigenous_year[\"count\"].sum()\n",
    "\n",
    "# indigenous_year_df = pd.DataFrame ({\"Number of Indigenous Woman Who Gave Birth\":indigenous_status_year})\n",
    "\n",
    "# # Display the data frame\n",
    "# indigenous_year_df"
   ]
  },
  {
   "cell_type": "code",
   "execution_count": null,
   "metadata": {},
   "outputs": [],
   "source": [
    "# # Count the total number of woman who gave birth in each state between 2010 and 2018\n",
    "# statedropped = mothers_df.loc[mothers_df[\"topic\"]== \"State and territory of birth\"]\n",
    "# # dropped = dropped.loc[dropped[\"topic_disaggregation\"]!= \"Not stated\"]\n",
    "\n",
    "# # Group by state\n",
    "# birth_state = statedropped.groupby([\"topic_disaggregation\"])\n",
    "\n",
    "# birth_state_count = birth_state[\"count\"].sum()\n",
    "\n",
    "# birth_state_df = pd.DataFrame ({\"Number of Woman Who Gave Birth\":birth_state_count})\n",
    "\n",
    "# # Display the data frame\n",
    "# birth_state_df"
   ]
  },
  {
   "cell_type": "code",
   "execution_count": null,
   "metadata": {},
   "outputs": [],
   "source": [
    "# # Count the total number of woman who gave birth in each state between 2010 and 2018\n",
    "# statedropped = mothers_df.loc[mothers_df[\"topic\"]== \"State and territory of birth\"]\n",
    "# # dropped = dropped.loc[dropped[\"topic_disaggregation\"]!= \"Not stated\"]\n",
    "\n",
    "# # Group by year and state\n",
    "# birth_state = statedropped.groupby([\"year\", \"topic_disaggregation\"])\n",
    "\n",
    "# birth_state_count = birth_state[\"count\"].sum()\n",
    "\n",
    "# birth_state_df = pd.DataFrame ({\"Number of Woman Who Gave Birth\":birth_state_count})\n",
    "\n",
    "# # Display the data frame\n",
    "# birth_state_df"
   ]
  },
  {
   "cell_type": "code",
   "execution_count": null,
   "metadata": {},
   "outputs": [],
   "source": [
    "# # Read in csv for Mothers Birth Country\n",
    "# mothersbirth = \"finaldata/Table_4.1.csv\"\n",
    "# mothersbirth_df = pd.read_csv(mothersbirth)\n",
    "# mothersbirth_df.head()"
   ]
  },
  {
   "cell_type": "code",
   "execution_count": null,
   "metadata": {},
   "outputs": [],
   "source": [
    "# # View all columns for df to decide what to keep\n",
    "# mothersbirth_df.columns"
   ]
  },
  {
   "cell_type": "code",
   "execution_count": null,
   "metadata": {},
   "outputs": [],
   "source": [
    "# # Print datatypes\n",
    "# mothersbirth_df.info()"
   ]
  },
  {
   "cell_type": "code",
   "execution_count": null,
   "metadata": {},
   "outputs": [],
   "source": [
    "# # Drop any values's in the topic column that don't relate to the mothers birth country\n",
    "# dropped = mothersbirth_df.loc[mothersbirth_df[\"topic\"]== \"Country of birth (mother)\"]\n",
    "\n",
    "# # Group data by maternal country of birth\n",
    "# countryofbirth = dropped.groupby(\"topic_disaggregation\")\n",
    "\n",
    "# # Find the total count of each mother per country\n",
    "# countofmothers = countryofbirth[\"count\"].sum()\n",
    "\n",
    "# # Create a new dataframe to hold calculations for percentage and count of each gender\n",
    "# countofmothers_df = pd.DataFrame({\"number_women_gave_birth\": countofmothers})\n",
    "\n",
    "\n",
    "# # Add index name and sort by Age\n",
    "# countofmothers_df.index.name = \"maternal_birth_country\"\n",
    "\n",
    "\n",
    "# # Display the data frame\n",
    "# countofmothers_df"
   ]
  },
  {
   "cell_type": "code",
   "execution_count": null,
   "metadata": {},
   "outputs": [],
   "source": [
    "# # Drop any values's in the topic column that don't relate to the mothers birth country\n",
    "# dropped = mothersbirth_df.loc[mothersbirth_df[\"topic\"]== \"Country of birth (mother)\"]\n",
    "\n",
    "# # Group data by maternal country of birth and year\n",
    "# countryofbirth = dropped.groupby([\"year\", \"topic_disaggregation\"])\n",
    "\n",
    "# # Find the total count of each mother per country\n",
    "# countofmothers = countryofbirth[\"count\"].sum()\n",
    "\n",
    "# # Create a new dataframe to hold calculations for percentage and count of each gender\n",
    "# countofmothers_df = pd.DataFrame({\"number_women_gave_birth\": countofmothers})\n",
    "\n",
    "# # Add index name and sort by Age\n",
    "# countofmothers_df.index.name = \"maternal_birth_country\"\n",
    "\n",
    "\n",
    "# # Display the data frame\n",
    "# countofmothers_df"
   ]
  },
  {
   "cell_type": "code",
   "execution_count": null,
   "metadata": {},
   "outputs": [],
   "source": [
    "# # Read in csv for birth location\n",
    "# birthlocation = \"finaldata/Table_3.1.csv\"\n",
    "# birthlocation_df = pd.read_csv(birthlocation)\n",
    "# birthlocation_df.head()"
   ]
  },
  {
   "cell_type": "code",
   "execution_count": null,
   "metadata": {},
   "outputs": [],
   "source": [
    "# # Print datatypes\n",
    "# birthlocation_df.info()"
   ]
  },
  {
   "cell_type": "code",
   "execution_count": null,
   "metadata": {},
   "outputs": [],
   "source": [
    "# # Isolate one set of data, as data is replicated across multiple topics \n",
    "# placeofbirthfilter = birthlocation_df.loc[birthlocation_df[\"topic\"]== \"Country of birth (mother)\"]\n",
    "\n",
    "# # Find the total count of each mother that gave birth in different locations\n",
    "# totalcount = placeofbirthfilter[\"count\"].sum()\n",
    "# totalcount"
   ]
  },
  {
   "cell_type": "code",
   "execution_count": null,
   "metadata": {},
   "outputs": [],
   "source": [
    "# # Group data by place of birth\n",
    "# placeofbirth = placeofbirthfilter.groupby(\"place_of_birth\")\n",
    "\n",
    "# # Find the total count of each mother per place of birth\n",
    "# countofbirthplace = placeofbirth[\"count\"].sum()\n",
    "\n",
    "# # # Create a new dataframe to hold the number of women who gave birth per place of birth\n",
    "# countofbirthplace_df = pd.DataFrame({\"number_of_women_per_birthplace\": countofbirthplace})\n",
    "\n",
    "# # Display the data frame\n",
    "# countofbirthplace_df"
   ]
  },
  {
   "cell_type": "code",
   "execution_count": null,
   "metadata": {},
   "outputs": [],
   "source": [
    "# # Group data by year\n",
    "# yearfilter = placeofbirthfilter.groupby([\"year\"])\n",
    "\n",
    "# # Find the total count of each mother that gave birth in different locations each year\n",
    "# totalyearcount = yearfilter[\"count\"].sum()\n",
    "\n",
    "# # Create a new dataframe to hold the number of women who gave birth per place of birth\n",
    "# countofyear_df = pd.DataFrame({\"number_of_women_per_year\": totalyearcount})\n",
    "# countofyear_df"
   ]
  },
  {
   "cell_type": "code",
   "execution_count": null,
   "metadata": {},
   "outputs": [],
   "source": [
    "# # Group data by place of birth and year\n",
    "# placeofbirth = placeofbirthfilter.groupby([\"year\", \"place_of_birth\"])\n",
    "\n",
    "# # Find the total count of each mother per place of birth\n",
    "# countofbirthplace = placeofbirth[\"count\"].sum()\n",
    "\n",
    "# # # Create a new dataframe to hold the number of women who gave birth per place of birth\n",
    "# countofbirthplace_df = pd.DataFrame({\"number_of_women_per_birthplace\": countofbirthplace})\n",
    "\n",
    "# # Display the data frame\n",
    "# countofbirthplace_df"
   ]
  }
 ]
}