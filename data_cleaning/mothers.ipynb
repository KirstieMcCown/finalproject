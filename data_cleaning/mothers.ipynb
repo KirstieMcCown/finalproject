{
 "metadata": {
  "language_info": {
   "codemirror_mode": {
    "name": "ipython",
    "version": 3
   },
   "file_extension": ".py",
   "mimetype": "text/x-python",
   "name": "python",
   "nbconvert_exporter": "python",
   "pygments_lexer": "ipython3",
   "version": "3.6.12-final"
  },
  "orig_nbformat": 2,
  "kernelspec": {
   "name": "Python 3.6.12 64-bit ('PythonAdv': conda)",
   "display_name": "Python 3.6.12 64-bit ('PythonAdv': conda)",
   "metadata": {
    "interpreter": {
     "hash": "6340ebdd750fb120c69d52905c3e0f3fc3af95b9464c226bc98001ae2708df00"
    }
   }
  }
 },
 "nbformat": 4,
 "nbformat_minor": 2,
 "cells": [
  {
   "cell_type": "code",
   "execution_count": 1,
   "metadata": {},
   "outputs": [],
   "source": [
    "import pandas as pd"
   ]
  },
  {
   "cell_type": "code",
   "execution_count": 2,
   "metadata": {},
   "outputs": [],
   "source": [
    "from sqlalchemy import create_engine\n",
    "from config import database\n",
    "from config import username\n",
    "from config import password\n",
    "from config import hostname"
   ]
  },
  {
   "cell_type": "code",
   "execution_count": 3,
   "metadata": {},
   "outputs": [
    {
     "output_type": "execute_result",
     "data": {
      "text/plain": [
       "                     Chapter         Group     Sub-group  \\\n",
       "0  Overview and demographics  Maternal age  Maternal age   \n",
       "1  Overview and demographics  Maternal age  Maternal age   \n",
       "2  Overview and demographics  Maternal age  Maternal age   \n",
       "3  Overview and demographics  Maternal age  Maternal age   \n",
       "4  Overview and demographics  Maternal age  Maternal age   \n",
       "\n",
       "   Sub-group disaggregation                    Topic Topic disaggregation  \\\n",
       "0                        20  Patient election status               Public   \n",
       "1                        20  Patient election status              Private   \n",
       "2                        20  Patient election status           Not stated   \n",
       "3                        24  Patient election status               Public   \n",
       "4                        24  Patient election status              Private   \n",
       "\n",
       "  Current/Trend  Year  Numerator  Denominator  Per cent  \n",
       "0       Current  2018       5557       203484       2.7  \n",
       "1       Current  2018        191        83317       0.2  \n",
       "2       Current  2018         13          788       1.6  \n",
       "3       Current  2018      29944       203484      14.7  \n",
       "4       Current  2018       2368        83317       2.8  "
      ],
      "text/html": "<div>\n<style scoped>\n    .dataframe tbody tr th:only-of-type {\n        vertical-align: middle;\n    }\n\n    .dataframe tbody tr th {\n        vertical-align: top;\n    }\n\n    .dataframe thead th {\n        text-align: right;\n    }\n</style>\n<table border=\"1\" class=\"dataframe\">\n  <thead>\n    <tr style=\"text-align: right;\">\n      <th></th>\n      <th>Chapter</th>\n      <th>Group</th>\n      <th>Sub-group</th>\n      <th>Sub-group disaggregation</th>\n      <th>Topic</th>\n      <th>Topic disaggregation</th>\n      <th>Current/Trend</th>\n      <th>Year</th>\n      <th>Numerator</th>\n      <th>Denominator</th>\n      <th>Per cent</th>\n    </tr>\n  </thead>\n  <tbody>\n    <tr>\n      <th>0</th>\n      <td>Overview and demographics</td>\n      <td>Maternal age</td>\n      <td>Maternal age</td>\n      <td>20</td>\n      <td>Patient election status</td>\n      <td>Public</td>\n      <td>Current</td>\n      <td>2018</td>\n      <td>5557</td>\n      <td>203484</td>\n      <td>2.7</td>\n    </tr>\n    <tr>\n      <th>1</th>\n      <td>Overview and demographics</td>\n      <td>Maternal age</td>\n      <td>Maternal age</td>\n      <td>20</td>\n      <td>Patient election status</td>\n      <td>Private</td>\n      <td>Current</td>\n      <td>2018</td>\n      <td>191</td>\n      <td>83317</td>\n      <td>0.2</td>\n    </tr>\n    <tr>\n      <th>2</th>\n      <td>Overview and demographics</td>\n      <td>Maternal age</td>\n      <td>Maternal age</td>\n      <td>20</td>\n      <td>Patient election status</td>\n      <td>Not stated</td>\n      <td>Current</td>\n      <td>2018</td>\n      <td>13</td>\n      <td>788</td>\n      <td>1.6</td>\n    </tr>\n    <tr>\n      <th>3</th>\n      <td>Overview and demographics</td>\n      <td>Maternal age</td>\n      <td>Maternal age</td>\n      <td>24</td>\n      <td>Patient election status</td>\n      <td>Public</td>\n      <td>Current</td>\n      <td>2018</td>\n      <td>29944</td>\n      <td>203484</td>\n      <td>14.7</td>\n    </tr>\n    <tr>\n      <th>4</th>\n      <td>Overview and demographics</td>\n      <td>Maternal age</td>\n      <td>Maternal age</td>\n      <td>24</td>\n      <td>Patient election status</td>\n      <td>Private</td>\n      <td>Current</td>\n      <td>2018</td>\n      <td>2368</td>\n      <td>83317</td>\n      <td>2.8</td>\n    </tr>\n  </tbody>\n</table>\n</div>"
     },
     "metadata": {},
     "execution_count": 3
    }
   ],
   "source": [
    "# Read in csv\n",
    "table = \"finaldata/Table_1.2.csv\"\n",
    "table_df = pd.read_csv(table)\n",
    "table_df.head()"
   ]
  },
  {
   "cell_type": "code",
   "execution_count": 4,
   "metadata": {},
   "outputs": [
    {
     "output_type": "execute_result",
     "data": {
      "text/plain": [
       "Index(['Chapter', 'Group', 'Sub-group', 'Sub-group disaggregation', 'Topic',\n",
       "       'Topic disaggregation', 'Current/Trend', 'Year', 'Numerator',\n",
       "       'Denominator', 'Per cent'],\n",
       "      dtype='object')"
      ]
     },
     "metadata": {},
     "execution_count": 4
    }
   ],
   "source": [
    "# View all columns for df to decide what to keep\n",
    "table_df.columns"
   ]
  },
  {
   "cell_type": "code",
   "execution_count": 5,
   "metadata": {},
   "outputs": [
    {
     "output_type": "stream",
     "name": "stdout",
     "text": [
      "<class 'pandas.core.frame.DataFrame'>\nRangeIndex: 1559 entries, 0 to 1558\nData columns (total 11 columns):\n #   Column                    Non-Null Count  Dtype  \n---  ------                    --------------  -----  \n 0   Chapter                   1559 non-null   object \n 1   Group                     1559 non-null   object \n 2   Sub-group                 1559 non-null   object \n 3   Sub-group disaggregation  1559 non-null   int64  \n 4   Topic                     1559 non-null   object \n 5   Topic disaggregation      1559 non-null   object \n 6   Current/Trend             1559 non-null   object \n 7   Year                      1559 non-null   int64  \n 8   Numerator                 1559 non-null   int64  \n 9   Denominator               1559 non-null   int64  \n 10  Per cent                  1559 non-null   float64\ndtypes: float64(1), int64(4), object(6)\nmemory usage: 134.1+ KB\n"
     ]
    }
   ],
   "source": [
    "# Print \n",
    "table_df.info()"
   ]
  },
  {
   "cell_type": "code",
   "execution_count": 6,
   "metadata": {},
   "outputs": [
    {
     "output_type": "execute_result",
     "data": {
      "text/plain": [
       "      Sub-group disaggregation                         Topic  \\\n",
       "0                           20       Patient election status   \n",
       "1                           20       Patient election status   \n",
       "2                           20       Patient election status   \n",
       "3                           24       Patient election status   \n",
       "4                           24       Patient election status   \n",
       "...                        ...                           ...   \n",
       "1554                         0  State and territory of birth   \n",
       "1555                         0  State and territory of birth   \n",
       "1556                         0  State and territory of birth   \n",
       "1557                         0  State and territory of birth   \n",
       "1558                         0  State and territory of birth   \n",
       "\n",
       "     Topic disaggregation  Year  Numerator  Denominator  Per cent  \n",
       "0                  Public  2018       5557       203484       2.7  \n",
       "1                 Private  2018        191        83317       0.2  \n",
       "2              Not stated  2018         13          788       1.6  \n",
       "3                  Public  2018      29944       203484      14.7  \n",
       "4                 Private  2018       2368        83317       2.8  \n",
       "...                   ...   ...        ...          ...       ...  \n",
       "1554                   WA  2018          0        32974       0.0  \n",
       "1555                   SA  2018          0        19044       0.0  \n",
       "1556                  TAS  2018          0         5436       0.0  \n",
       "1557                  ACT  2018          0         5929       0.0  \n",
       "1558                   NT  2018          0         3727       0.0  \n",
       "\n",
       "[1559 rows x 7 columns]"
      ],
      "text/html": "<div>\n<style scoped>\n    .dataframe tbody tr th:only-of-type {\n        vertical-align: middle;\n    }\n\n    .dataframe tbody tr th {\n        vertical-align: top;\n    }\n\n    .dataframe thead th {\n        text-align: right;\n    }\n</style>\n<table border=\"1\" class=\"dataframe\">\n  <thead>\n    <tr style=\"text-align: right;\">\n      <th></th>\n      <th>Sub-group disaggregation</th>\n      <th>Topic</th>\n      <th>Topic disaggregation</th>\n      <th>Year</th>\n      <th>Numerator</th>\n      <th>Denominator</th>\n      <th>Per cent</th>\n    </tr>\n  </thead>\n  <tbody>\n    <tr>\n      <th>0</th>\n      <td>20</td>\n      <td>Patient election status</td>\n      <td>Public</td>\n      <td>2018</td>\n      <td>5557</td>\n      <td>203484</td>\n      <td>2.7</td>\n    </tr>\n    <tr>\n      <th>1</th>\n      <td>20</td>\n      <td>Patient election status</td>\n      <td>Private</td>\n      <td>2018</td>\n      <td>191</td>\n      <td>83317</td>\n      <td>0.2</td>\n    </tr>\n    <tr>\n      <th>2</th>\n      <td>20</td>\n      <td>Patient election status</td>\n      <td>Not stated</td>\n      <td>2018</td>\n      <td>13</td>\n      <td>788</td>\n      <td>1.6</td>\n    </tr>\n    <tr>\n      <th>3</th>\n      <td>24</td>\n      <td>Patient election status</td>\n      <td>Public</td>\n      <td>2018</td>\n      <td>29944</td>\n      <td>203484</td>\n      <td>14.7</td>\n    </tr>\n    <tr>\n      <th>4</th>\n      <td>24</td>\n      <td>Patient election status</td>\n      <td>Private</td>\n      <td>2018</td>\n      <td>2368</td>\n      <td>83317</td>\n      <td>2.8</td>\n    </tr>\n    <tr>\n      <th>...</th>\n      <td>...</td>\n      <td>...</td>\n      <td>...</td>\n      <td>...</td>\n      <td>...</td>\n      <td>...</td>\n      <td>...</td>\n    </tr>\n    <tr>\n      <th>1554</th>\n      <td>0</td>\n      <td>State and territory of birth</td>\n      <td>WA</td>\n      <td>2018</td>\n      <td>0</td>\n      <td>32974</td>\n      <td>0.0</td>\n    </tr>\n    <tr>\n      <th>1555</th>\n      <td>0</td>\n      <td>State and territory of birth</td>\n      <td>SA</td>\n      <td>2018</td>\n      <td>0</td>\n      <td>19044</td>\n      <td>0.0</td>\n    </tr>\n    <tr>\n      <th>1556</th>\n      <td>0</td>\n      <td>State and territory of birth</td>\n      <td>TAS</td>\n      <td>2018</td>\n      <td>0</td>\n      <td>5436</td>\n      <td>0.0</td>\n    </tr>\n    <tr>\n      <th>1557</th>\n      <td>0</td>\n      <td>State and territory of birth</td>\n      <td>ACT</td>\n      <td>2018</td>\n      <td>0</td>\n      <td>5929</td>\n      <td>0.0</td>\n    </tr>\n    <tr>\n      <th>1558</th>\n      <td>0</td>\n      <td>State and territory of birth</td>\n      <td>NT</td>\n      <td>2018</td>\n      <td>0</td>\n      <td>3727</td>\n      <td>0.0</td>\n    </tr>\n  </tbody>\n</table>\n<p>1559 rows × 7 columns</p>\n</div>"
     },
     "metadata": {},
     "execution_count": 6
    }
   ],
   "source": [
    "# Remove any unnecessary columns from df\n",
    "columns_list = ['Sub-group disaggregation', 'Topic','Topic disaggregation', 'Year', 'Numerator','Denominator', 'Per cent']\n",
    "\n",
    "\n",
    "mothers = table_df[columns_list].copy()\n",
    "mothers\n"
   ]
  },
  {
   "cell_type": "code",
   "execution_count": 7,
   "metadata": {},
   "outputs": [
    {
     "output_type": "execute_result",
     "data": {
      "text/plain": [
       "    age_group                    topic topic_disaggregation  year  count  \\\n",
       "0          20  Patient election status               Public  2018   5557   \n",
       "1          20  Patient election status              Private  2018    191   \n",
       "2          20  Patient election status           Not stated  2018     13   \n",
       "3          24  Patient election status               Public  2018  29944   \n",
       "4          24  Patient election status              Private  2018   2368   \n",
       "5          24  Patient election status           Not stated  2018     78   \n",
       "6          29  Patient election status               Public  2018  59992   \n",
       "7          29  Patient election status              Private  2018  15739   \n",
       "8          29  Patient election status           Not stated  2018    207   \n",
       "9          34  Patient election status               Public  2018  67181   \n",
       "10         34  Patient election status              Private  2018  36045   \n",
       "11         34  Patient election status           Not stated  2018    286   \n",
       "12         39  Patient election status               Public  2018  33482   \n",
       "13         39  Patient election status              Private  2018  23566   \n",
       "14         39  Patient election status           Not stated  2018    156   \n",
       "15         40  Patient election status               Public  2018   7326   \n",
       "16         40  Patient election status              Private  2018   5397   \n",
       "17         40  Patient election status           Not stated  2018     47   \n",
       "18          0  Patient election status               Public  2018      2   \n",
       "19          0  Patient election status              Private  2018     11   \n",
       "\n",
       "    year_total  percent_total  \n",
       "0       203484            2.7  \n",
       "1        83317            0.2  \n",
       "2          788            1.6  \n",
       "3       203484           14.7  \n",
       "4        83317            2.8  \n",
       "5          788            9.9  \n",
       "6       203484           29.5  \n",
       "7        83317           18.9  \n",
       "8          788           26.3  \n",
       "9       203484           33.0  \n",
       "10       83317           43.3  \n",
       "11         788           36.3  \n",
       "12      203484           16.5  \n",
       "13       83317           28.3  \n",
       "14         788           19.8  \n",
       "15      203484            3.6  \n",
       "16       83317            6.5  \n",
       "17         788            6.0  \n",
       "18      203484            0.0  \n",
       "19       83317            0.0  "
      ],
      "text/html": "<div>\n<style scoped>\n    .dataframe tbody tr th:only-of-type {\n        vertical-align: middle;\n    }\n\n    .dataframe tbody tr th {\n        vertical-align: top;\n    }\n\n    .dataframe thead th {\n        text-align: right;\n    }\n</style>\n<table border=\"1\" class=\"dataframe\">\n  <thead>\n    <tr style=\"text-align: right;\">\n      <th></th>\n      <th>age_group</th>\n      <th>topic</th>\n      <th>topic_disaggregation</th>\n      <th>year</th>\n      <th>count</th>\n      <th>year_total</th>\n      <th>percent_total</th>\n    </tr>\n  </thead>\n  <tbody>\n    <tr>\n      <th>0</th>\n      <td>20</td>\n      <td>Patient election status</td>\n      <td>Public</td>\n      <td>2018</td>\n      <td>5557</td>\n      <td>203484</td>\n      <td>2.7</td>\n    </tr>\n    <tr>\n      <th>1</th>\n      <td>20</td>\n      <td>Patient election status</td>\n      <td>Private</td>\n      <td>2018</td>\n      <td>191</td>\n      <td>83317</td>\n      <td>0.2</td>\n    </tr>\n    <tr>\n      <th>2</th>\n      <td>20</td>\n      <td>Patient election status</td>\n      <td>Not stated</td>\n      <td>2018</td>\n      <td>13</td>\n      <td>788</td>\n      <td>1.6</td>\n    </tr>\n    <tr>\n      <th>3</th>\n      <td>24</td>\n      <td>Patient election status</td>\n      <td>Public</td>\n      <td>2018</td>\n      <td>29944</td>\n      <td>203484</td>\n      <td>14.7</td>\n    </tr>\n    <tr>\n      <th>4</th>\n      <td>24</td>\n      <td>Patient election status</td>\n      <td>Private</td>\n      <td>2018</td>\n      <td>2368</td>\n      <td>83317</td>\n      <td>2.8</td>\n    </tr>\n    <tr>\n      <th>5</th>\n      <td>24</td>\n      <td>Patient election status</td>\n      <td>Not stated</td>\n      <td>2018</td>\n      <td>78</td>\n      <td>788</td>\n      <td>9.9</td>\n    </tr>\n    <tr>\n      <th>6</th>\n      <td>29</td>\n      <td>Patient election status</td>\n      <td>Public</td>\n      <td>2018</td>\n      <td>59992</td>\n      <td>203484</td>\n      <td>29.5</td>\n    </tr>\n    <tr>\n      <th>7</th>\n      <td>29</td>\n      <td>Patient election status</td>\n      <td>Private</td>\n      <td>2018</td>\n      <td>15739</td>\n      <td>83317</td>\n      <td>18.9</td>\n    </tr>\n    <tr>\n      <th>8</th>\n      <td>29</td>\n      <td>Patient election status</td>\n      <td>Not stated</td>\n      <td>2018</td>\n      <td>207</td>\n      <td>788</td>\n      <td>26.3</td>\n    </tr>\n    <tr>\n      <th>9</th>\n      <td>34</td>\n      <td>Patient election status</td>\n      <td>Public</td>\n      <td>2018</td>\n      <td>67181</td>\n      <td>203484</td>\n      <td>33.0</td>\n    </tr>\n    <tr>\n      <th>10</th>\n      <td>34</td>\n      <td>Patient election status</td>\n      <td>Private</td>\n      <td>2018</td>\n      <td>36045</td>\n      <td>83317</td>\n      <td>43.3</td>\n    </tr>\n    <tr>\n      <th>11</th>\n      <td>34</td>\n      <td>Patient election status</td>\n      <td>Not stated</td>\n      <td>2018</td>\n      <td>286</td>\n      <td>788</td>\n      <td>36.3</td>\n    </tr>\n    <tr>\n      <th>12</th>\n      <td>39</td>\n      <td>Patient election status</td>\n      <td>Public</td>\n      <td>2018</td>\n      <td>33482</td>\n      <td>203484</td>\n      <td>16.5</td>\n    </tr>\n    <tr>\n      <th>13</th>\n      <td>39</td>\n      <td>Patient election status</td>\n      <td>Private</td>\n      <td>2018</td>\n      <td>23566</td>\n      <td>83317</td>\n      <td>28.3</td>\n    </tr>\n    <tr>\n      <th>14</th>\n      <td>39</td>\n      <td>Patient election status</td>\n      <td>Not stated</td>\n      <td>2018</td>\n      <td>156</td>\n      <td>788</td>\n      <td>19.8</td>\n    </tr>\n    <tr>\n      <th>15</th>\n      <td>40</td>\n      <td>Patient election status</td>\n      <td>Public</td>\n      <td>2018</td>\n      <td>7326</td>\n      <td>203484</td>\n      <td>3.6</td>\n    </tr>\n    <tr>\n      <th>16</th>\n      <td>40</td>\n      <td>Patient election status</td>\n      <td>Private</td>\n      <td>2018</td>\n      <td>5397</td>\n      <td>83317</td>\n      <td>6.5</td>\n    </tr>\n    <tr>\n      <th>17</th>\n      <td>40</td>\n      <td>Patient election status</td>\n      <td>Not stated</td>\n      <td>2018</td>\n      <td>47</td>\n      <td>788</td>\n      <td>6.0</td>\n    </tr>\n    <tr>\n      <th>18</th>\n      <td>0</td>\n      <td>Patient election status</td>\n      <td>Public</td>\n      <td>2018</td>\n      <td>2</td>\n      <td>203484</td>\n      <td>0.0</td>\n    </tr>\n    <tr>\n      <th>19</th>\n      <td>0</td>\n      <td>Patient election status</td>\n      <td>Private</td>\n      <td>2018</td>\n      <td>11</td>\n      <td>83317</td>\n      <td>0.0</td>\n    </tr>\n  </tbody>\n</table>\n</div>"
     },
     "metadata": {},
     "execution_count": 7
    }
   ],
   "source": [
    "# Rename columns\n",
    "\n",
    "mothers_df = mothers.rename(columns={\"Sub-group disaggregation\" : \"age_group\", \"Topic\" : \"topic\", \"Topic disaggregation\" : \"topic_disaggregation\", \"Current/Trend\" : \"current/trend\", \"Year\" : \"year\", \"Numerator\" : \"count\", \"Denominator\" : \"year_total\", \"Per cent\" : \"percent_total\"})\n",
    "\n",
    "mothers_df.head(20)"
   ]
  },
  {
   "cell_type": "code",
   "execution_count": 8,
   "metadata": {},
   "outputs": [
    {
     "output_type": "execute_result",
     "data": {
      "text/plain": [
       "age_group                 int64\n",
       "topic                    object\n",
       "topic_disaggregation     object\n",
       "year                      int64\n",
       "count                     int64\n",
       "year_total                int64\n",
       "percent_total           float64\n",
       "dtype: object"
      ]
     },
     "metadata": {},
     "execution_count": 8
    }
   ],
   "source": [
    "# Check and change data types if required\n",
    "mothers_df.dtypes"
   ]
  },
  {
   "cell_type": "code",
   "execution_count": 9,
   "metadata": {},
   "outputs": [
    {
     "output_type": "execute_result",
     "data": {
      "text/plain": [
       "   Number of Woman who Gave Birth\n",
       "0                        14938091"
      ],
      "text/html": "<div>\n<style scoped>\n    .dataframe tbody tr th:only-of-type {\n        vertical-align: middle;\n    }\n\n    .dataframe tbody tr th {\n        vertical-align: top;\n    }\n\n    .dataframe thead th {\n        text-align: right;\n    }\n</style>\n<table border=\"1\" class=\"dataframe\">\n  <thead>\n    <tr style=\"text-align: right;\">\n      <th></th>\n      <th>Number of Woman who Gave Birth</th>\n    </tr>\n  </thead>\n  <tbody>\n    <tr>\n      <th>0</th>\n      <td>14938091</td>\n    </tr>\n  </tbody>\n</table>\n</div>"
     },
     "metadata": {},
     "execution_count": 9
    }
   ],
   "source": [
    "# Count the total number of woman who gave birth between 2010 and 2018\n",
    "total_births = mothers_df[\"count\"].sum()\n",
    "total_births_df = pd.DataFrame ({\"Number of Woman who Gave Birth\":[total_births]})\n",
    "\n",
    "# Display the data frame\n",
    "total_births_df"
   ]
  },
  {
   "cell_type": "code",
   "execution_count": 10,
   "metadata": {},
   "outputs": [
    {
     "output_type": "execute_result",
     "data": {
      "text/plain": [
       "           Number of Woman who Gave Birth  \\\n",
       "age_group                                   \n",
       "0                                    2140   \n",
       "20                                 431622   \n",
       "24                                1897586   \n",
       "29                                4072689   \n",
       "34                                5106212   \n",
       "39                                2791813   \n",
       "40                                 636029   \n",
       "\n",
       "          Percentage of Each Age Group 2010 - 2018  \n",
       "age_group                                           \n",
       "0                                            0.01%  \n",
       "20                                           2.89%  \n",
       "24                                          12.70%  \n",
       "29                                          27.26%  \n",
       "34                                          34.18%  \n",
       "39                                          18.69%  \n",
       "40                                           4.26%  "
      ],
      "text/html": "<div>\n<style scoped>\n    .dataframe tbody tr th:only-of-type {\n        vertical-align: middle;\n    }\n\n    .dataframe tbody tr th {\n        vertical-align: top;\n    }\n\n    .dataframe thead th {\n        text-align: right;\n    }\n</style>\n<table border=\"1\" class=\"dataframe\">\n  <thead>\n    <tr style=\"text-align: right;\">\n      <th></th>\n      <th>Number of Woman who Gave Birth</th>\n      <th>Percentage of Each Age Group 2010 - 2018</th>\n    </tr>\n    <tr>\n      <th>age_group</th>\n      <th></th>\n      <th></th>\n    </tr>\n  </thead>\n  <tbody>\n    <tr>\n      <th>0</th>\n      <td>2140</td>\n      <td>0.01%</td>\n    </tr>\n    <tr>\n      <th>20</th>\n      <td>431622</td>\n      <td>2.89%</td>\n    </tr>\n    <tr>\n      <th>24</th>\n      <td>1897586</td>\n      <td>12.70%</td>\n    </tr>\n    <tr>\n      <th>29</th>\n      <td>4072689</td>\n      <td>27.26%</td>\n    </tr>\n    <tr>\n      <th>34</th>\n      <td>5106212</td>\n      <td>34.18%</td>\n    </tr>\n    <tr>\n      <th>39</th>\n      <td>2791813</td>\n      <td>18.69%</td>\n    </tr>\n    <tr>\n      <th>40</th>\n      <td>636029</td>\n      <td>4.26%</td>\n    </tr>\n  </tbody>\n</table>\n</div>"
     },
     "metadata": {},
     "execution_count": 10
    }
   ],
   "source": [
    "# Group data by age\n",
    "age = mothers_df.groupby(\"age_group\")\n",
    "\n",
    "# Find the total count of each age\n",
    "age_count = age[\"count\"].sum()\n",
    "\n",
    "# Find the percentage of each age\n",
    "age_percent = age_count/total_births*100\n",
    "\n",
    "# # Create a new dataframe to hold calculations for percentage and count of each gender\n",
    "age_df = pd.DataFrame({\"Number of Woman who Gave Birth\": age_count, \"Percentage of Each Age Group 2010 - 2018\": age_percent})\n",
    "\n",
    "# # Sort values in descedning order \n",
    "age_df.sort_values(by=[\"Number of Woman who Gave Birth\"], inplace = True, ascending = False)\n",
    "\n",
    "# # Convert Percentage of births to float, then format\n",
    "age_df[\"Percentage of Each Age Group 2010 - 2018\"] = age_df[\"Percentage of Each Age Group 2010 - 2018\"].astype(float).map(\"{:,.2f}%\".format)\n",
    "\n",
    "# Add index name and sort by Age\n",
    "age_df.index.name = \"age_group\"\n",
    "age_df.sort_values(by=[\"age_group\"], inplace = True, ascending = True)\n",
    "\n",
    "# # Display the data frame\n",
    "age_df"
   ]
  },
  {
   "cell_type": "code",
   "execution_count": 11,
   "metadata": {},
   "outputs": [
    {
     "output_type": "execute_result",
     "data": {
      "text/plain": [
       "                Number of Woman who Gave Birth Percentage per Year\n",
       "year age_group                                                    \n",
       "2010 29                                 402192              27.57%\n",
       "     34                                 457336              31.35%\n",
       "     39                                 276113              18.93%\n",
       "     40                                  59864               4.10%\n",
       "2011 0                                     537               0.04%\n",
       "     20                                  54584               3.72%\n",
       "     24                                 203216              13.84%\n",
       "     29                                 410497              27.96%\n",
       "     34                                 466796              31.79%\n",
       "     39                                 269533              18.36%\n",
       "     40                                  63200               4.30%\n",
       "2012 0                                     265               0.02%\n",
       "     20                                  54594               3.59%\n",
       "     24                                 206551              13.60%\n",
       "     29                                 422103              27.79%\n",
       "     34                                 494186              32.54%\n",
       "     39                                 275097              18.11%\n",
       "     40                                  65967               4.34%\n",
       "2013 0                                     267               0.02%\n",
       "     20                                  50502               3.35%\n",
       "     24                                 203761              13.53%\n",
       "     29                                 414866              27.55%\n",
       "     34                                 502372              33.36%\n",
       "     39                                 269354              17.88%\n",
       "     40                                  64917               4.31%\n",
       "2014 0                                      74               0.00%\n",
       "     20                                  46279               3.04%\n",
       "     24                                 197606              12.98%\n",
       "     29                                 421998              27.72%\n",
       "     34                                 521252              34.23%\n",
       "     39                                 271812              17.85%\n",
       "     40                                  63590               4.18%\n",
       "2015 0                                      79               0.01%\n",
       "     20                                  40638               2.70%\n",
       "     24                                 190482              12.66%\n",
       "     29                                 409963              27.25%\n",
       "     34                                 528040              35.09%\n",
       "     39                                 272640              18.12%\n",
       "     40                                  62781               4.17%\n",
       "2016 0                                     190               0.01%\n",
       "     20                                  36664               2.39%\n",
       "     24                                 185209              12.07%\n",
       "     29                                 413977              26.98%\n",
       "     34                                 548892              35.78%\n",
       "     39                                 284833              18.57%\n",
       "     40                                  64380               4.20%\n",
       "2017 0                                     128               0.01%\n",
       "     20                                  32943               2.22%\n",
       "     24                                 172200              11.59%\n",
       "     29                                 398795              26.85%\n",
       "     34                                 528380              35.57%\n",
       "     39                                 288439              19.42%\n",
       "     40                                  64504               4.34%\n",
       "2018 0                                     164               0.01%\n",
       "     20                                  59116               2.01%\n",
       "     24                                 331964              11.29%\n",
       "     29                                 778298              26.48%\n",
       "     34                                1058958              36.03%\n",
       "     39                                 583992              19.87%\n",
       "     40                                 126826               4.31%"
      ],
      "text/html": "<div>\n<style scoped>\n    .dataframe tbody tr th:only-of-type {\n        vertical-align: middle;\n    }\n\n    .dataframe tbody tr th {\n        vertical-align: top;\n    }\n\n    .dataframe thead th {\n        text-align: right;\n    }\n</style>\n<table border=\"1\" class=\"dataframe\">\n  <thead>\n    <tr style=\"text-align: right;\">\n      <th></th>\n      <th></th>\n      <th>Number of Woman who Gave Birth</th>\n      <th>Percentage per Year</th>\n    </tr>\n    <tr>\n      <th>year</th>\n      <th>age_group</th>\n      <th></th>\n      <th></th>\n    </tr>\n  </thead>\n  <tbody>\n    <tr>\n      <th rowspan=\"4\" valign=\"top\">2010</th>\n      <th>29</th>\n      <td>402192</td>\n      <td>27.57%</td>\n    </tr>\n    <tr>\n      <th>34</th>\n      <td>457336</td>\n      <td>31.35%</td>\n    </tr>\n    <tr>\n      <th>39</th>\n      <td>276113</td>\n      <td>18.93%</td>\n    </tr>\n    <tr>\n      <th>40</th>\n      <td>59864</td>\n      <td>4.10%</td>\n    </tr>\n    <tr>\n      <th rowspan=\"7\" valign=\"top\">2011</th>\n      <th>0</th>\n      <td>537</td>\n      <td>0.04%</td>\n    </tr>\n    <tr>\n      <th>20</th>\n      <td>54584</td>\n      <td>3.72%</td>\n    </tr>\n    <tr>\n      <th>24</th>\n      <td>203216</td>\n      <td>13.84%</td>\n    </tr>\n    <tr>\n      <th>29</th>\n      <td>410497</td>\n      <td>27.96%</td>\n    </tr>\n    <tr>\n      <th>34</th>\n      <td>466796</td>\n      <td>31.79%</td>\n    </tr>\n    <tr>\n      <th>39</th>\n      <td>269533</td>\n      <td>18.36%</td>\n    </tr>\n    <tr>\n      <th>40</th>\n      <td>63200</td>\n      <td>4.30%</td>\n    </tr>\n    <tr>\n      <th rowspan=\"7\" valign=\"top\">2012</th>\n      <th>0</th>\n      <td>265</td>\n      <td>0.02%</td>\n    </tr>\n    <tr>\n      <th>20</th>\n      <td>54594</td>\n      <td>3.59%</td>\n    </tr>\n    <tr>\n      <th>24</th>\n      <td>206551</td>\n      <td>13.60%</td>\n    </tr>\n    <tr>\n      <th>29</th>\n      <td>422103</td>\n      <td>27.79%</td>\n    </tr>\n    <tr>\n      <th>34</th>\n      <td>494186</td>\n      <td>32.54%</td>\n    </tr>\n    <tr>\n      <th>39</th>\n      <td>275097</td>\n      <td>18.11%</td>\n    </tr>\n    <tr>\n      <th>40</th>\n      <td>65967</td>\n      <td>4.34%</td>\n    </tr>\n    <tr>\n      <th rowspan=\"7\" valign=\"top\">2013</th>\n      <th>0</th>\n      <td>267</td>\n      <td>0.02%</td>\n    </tr>\n    <tr>\n      <th>20</th>\n      <td>50502</td>\n      <td>3.35%</td>\n    </tr>\n    <tr>\n      <th>24</th>\n      <td>203761</td>\n      <td>13.53%</td>\n    </tr>\n    <tr>\n      <th>29</th>\n      <td>414866</td>\n      <td>27.55%</td>\n    </tr>\n    <tr>\n      <th>34</th>\n      <td>502372</td>\n      <td>33.36%</td>\n    </tr>\n    <tr>\n      <th>39</th>\n      <td>269354</td>\n      <td>17.88%</td>\n    </tr>\n    <tr>\n      <th>40</th>\n      <td>64917</td>\n      <td>4.31%</td>\n    </tr>\n    <tr>\n      <th rowspan=\"7\" valign=\"top\">2014</th>\n      <th>0</th>\n      <td>74</td>\n      <td>0.00%</td>\n    </tr>\n    <tr>\n      <th>20</th>\n      <td>46279</td>\n      <td>3.04%</td>\n    </tr>\n    <tr>\n      <th>24</th>\n      <td>197606</td>\n      <td>12.98%</td>\n    </tr>\n    <tr>\n      <th>29</th>\n      <td>421998</td>\n      <td>27.72%</td>\n    </tr>\n    <tr>\n      <th>34</th>\n      <td>521252</td>\n      <td>34.23%</td>\n    </tr>\n    <tr>\n      <th>39</th>\n      <td>271812</td>\n      <td>17.85%</td>\n    </tr>\n    <tr>\n      <th>40</th>\n      <td>63590</td>\n      <td>4.18%</td>\n    </tr>\n    <tr>\n      <th rowspan=\"7\" valign=\"top\">2015</th>\n      <th>0</th>\n      <td>79</td>\n      <td>0.01%</td>\n    </tr>\n    <tr>\n      <th>20</th>\n      <td>40638</td>\n      <td>2.70%</td>\n    </tr>\n    <tr>\n      <th>24</th>\n      <td>190482</td>\n      <td>12.66%</td>\n    </tr>\n    <tr>\n      <th>29</th>\n      <td>409963</td>\n      <td>27.25%</td>\n    </tr>\n    <tr>\n      <th>34</th>\n      <td>528040</td>\n      <td>35.09%</td>\n    </tr>\n    <tr>\n      <th>39</th>\n      <td>272640</td>\n      <td>18.12%</td>\n    </tr>\n    <tr>\n      <th>40</th>\n      <td>62781</td>\n      <td>4.17%</td>\n    </tr>\n    <tr>\n      <th rowspan=\"7\" valign=\"top\">2016</th>\n      <th>0</th>\n      <td>190</td>\n      <td>0.01%</td>\n    </tr>\n    <tr>\n      <th>20</th>\n      <td>36664</td>\n      <td>2.39%</td>\n    </tr>\n    <tr>\n      <th>24</th>\n      <td>185209</td>\n      <td>12.07%</td>\n    </tr>\n    <tr>\n      <th>29</th>\n      <td>413977</td>\n      <td>26.98%</td>\n    </tr>\n    <tr>\n      <th>34</th>\n      <td>548892</td>\n      <td>35.78%</td>\n    </tr>\n    <tr>\n      <th>39</th>\n      <td>284833</td>\n      <td>18.57%</td>\n    </tr>\n    <tr>\n      <th>40</th>\n      <td>64380</td>\n      <td>4.20%</td>\n    </tr>\n    <tr>\n      <th rowspan=\"7\" valign=\"top\">2017</th>\n      <th>0</th>\n      <td>128</td>\n      <td>0.01%</td>\n    </tr>\n    <tr>\n      <th>20</th>\n      <td>32943</td>\n      <td>2.22%</td>\n    </tr>\n    <tr>\n      <th>24</th>\n      <td>172200</td>\n      <td>11.59%</td>\n    </tr>\n    <tr>\n      <th>29</th>\n      <td>398795</td>\n      <td>26.85%</td>\n    </tr>\n    <tr>\n      <th>34</th>\n      <td>528380</td>\n      <td>35.57%</td>\n    </tr>\n    <tr>\n      <th>39</th>\n      <td>288439</td>\n      <td>19.42%</td>\n    </tr>\n    <tr>\n      <th>40</th>\n      <td>64504</td>\n      <td>4.34%</td>\n    </tr>\n    <tr>\n      <th rowspan=\"7\" valign=\"top\">2018</th>\n      <th>0</th>\n      <td>164</td>\n      <td>0.01%</td>\n    </tr>\n    <tr>\n      <th>20</th>\n      <td>59116</td>\n      <td>2.01%</td>\n    </tr>\n    <tr>\n      <th>24</th>\n      <td>331964</td>\n      <td>11.29%</td>\n    </tr>\n    <tr>\n      <th>29</th>\n      <td>778298</td>\n      <td>26.48%</td>\n    </tr>\n    <tr>\n      <th>34</th>\n      <td>1058958</td>\n      <td>36.03%</td>\n    </tr>\n    <tr>\n      <th>39</th>\n      <td>583992</td>\n      <td>19.87%</td>\n    </tr>\n    <tr>\n      <th>40</th>\n      <td>126826</td>\n      <td>4.31%</td>\n    </tr>\n  </tbody>\n</table>\n</div>"
     },
     "metadata": {},
     "execution_count": 11
    }
   ],
   "source": [
    "# Add Data in to show per year\n",
    "\n",
    "# Group data by age\n",
    "age = mothers_df.groupby([\"year\", \"age_group\"])\n",
    "\n",
    "# Find the total count of each age\n",
    "age_count = age[\"count\"].sum()\n",
    "age_count\n",
    "# Find the total count of births per year\n",
    "year = mothers_df.groupby(\"year\")\n",
    "year_count = year[\"count\"].sum()\n",
    "# year_count\n",
    "\n",
    "# Find the percentage of each age\n",
    "age_percent = age_count/year_count*100\n",
    "\n",
    "# # # Create a new dataframe to hold calculations for percentage and count of each gender\n",
    "age_df = pd.DataFrame({\"Number of Woman who Gave Birth\": age_count, \"Percentage per Year\": age_percent})\n",
    "\n",
    "# # # Sort values in descedning order \n",
    "age_df.sort_values(by=[\"Number of Woman who Gave Birth\"], inplace = True, ascending = False)\n",
    "\n",
    "# # Convert Percentage of births to float, then format\n",
    "age_df[\"Percentage per Year\"] = age_df[\"Percentage per Year\"].astype(float).map(\"{:,.2f}%\".format)\n",
    "\n",
    "# Add index name and sort by year then age_group\n",
    "age_df.sort_values(by=[\"year\", \"age_group\"], inplace = True, ascending = True)\n",
    "\n",
    "# # Display the data frame\n",
    "age_df.tail(60)"
   ]
  },
  {
   "cell_type": "code",
   "execution_count": 12,
   "metadata": {},
   "outputs": [
    {
     "output_type": "execute_result",
     "data": {
      "text/plain": [
       "      Average Age\n",
       "year             \n",
       "2010    26.571429\n",
       "2011    27.013333\n",
       "2012    26.993631\n",
       "2013    26.484076\n",
       "2014    26.484076\n",
       "2015    26.526316\n",
       "2016    26.484076\n",
       "2017    26.571429\n",
       "2018    26.484076"
      ],
      "text/html": "<div>\n<style scoped>\n    .dataframe tbody tr th:only-of-type {\n        vertical-align: middle;\n    }\n\n    .dataframe tbody tr th {\n        vertical-align: top;\n    }\n\n    .dataframe thead th {\n        text-align: right;\n    }\n</style>\n<table border=\"1\" class=\"dataframe\">\n  <thead>\n    <tr style=\"text-align: right;\">\n      <th></th>\n      <th>Average Age</th>\n    </tr>\n    <tr>\n      <th>year</th>\n      <th></th>\n    </tr>\n  </thead>\n  <tbody>\n    <tr>\n      <th>2010</th>\n      <td>26.571429</td>\n    </tr>\n    <tr>\n      <th>2011</th>\n      <td>27.013333</td>\n    </tr>\n    <tr>\n      <th>2012</th>\n      <td>26.993631</td>\n    </tr>\n    <tr>\n      <th>2013</th>\n      <td>26.484076</td>\n    </tr>\n    <tr>\n      <th>2014</th>\n      <td>26.484076</td>\n    </tr>\n    <tr>\n      <th>2015</th>\n      <td>26.526316</td>\n    </tr>\n    <tr>\n      <th>2016</th>\n      <td>26.484076</td>\n    </tr>\n    <tr>\n      <th>2017</th>\n      <td>26.571429</td>\n    </tr>\n    <tr>\n      <th>2018</th>\n      <td>26.484076</td>\n    </tr>\n  </tbody>\n</table>\n</div>"
     },
     "metadata": {},
     "execution_count": 12
    }
   ],
   "source": [
    "# Average ages per year - REMOVE 0 Values first - 0 was not known information\n",
    "\n",
    "# Drop any 0's in the age_group column\n",
    "droped = mothers_df.loc[mothers_df[\"age_group\"]!= \"0\"]\n",
    "\n",
    "# Group data by year\n",
    "year = droped.groupby([\"year\"])\n",
    "\n",
    "# Find the average age\n",
    "age_count = year[\"age_group\"].mean()\n",
    "\n",
    "# Create a new dataframe to hold calculations for percentage and count of each gender\n",
    "avg_age = pd.DataFrame({\"Average Age\": age_count})\n",
    "\n",
    "# Add index name and sort by year then age_group\n",
    "avg_age.sort_values(by=[\"year\"], inplace = True, ascending = True)\n",
    "\n",
    "# # Display the data frame\n",
    "avg_age"
   ]
  },
  {
   "cell_type": "code",
   "execution_count": 13,
   "metadata": {},
   "outputs": [
    {
     "output_type": "execute_result",
     "data": {
      "text/plain": [
       "      Number of Woman who Gave Birth Percentage of Each Year  \\\n",
       "year                                                           \n",
       "2010                         1458840                   9.77%   \n",
       "2011                         1468363                   9.83%   \n",
       "2012                         1518763                  10.17%   \n",
       "2013                         1506039                  10.08%   \n",
       "2014                         1522611                  10.19%   \n",
       "2015                         1504623                  10.07%   \n",
       "2016                         1534145                  10.27%   \n",
       "2017                         1485389                   9.94%   \n",
       "2018                         2939318                  19.68%   \n",
       "\n",
       "     Average Age of Mothers at Birth  \n",
       "year                                  \n",
       "2010                           26.57  \n",
       "2011                           27.01  \n",
       "2012                           26.99  \n",
       "2013                           26.48  \n",
       "2014                           26.48  \n",
       "2015                           26.53  \n",
       "2016                           26.48  \n",
       "2017                           26.57  \n",
       "2018                           26.48  "
      ],
      "text/html": "<div>\n<style scoped>\n    .dataframe tbody tr th:only-of-type {\n        vertical-align: middle;\n    }\n\n    .dataframe tbody tr th {\n        vertical-align: top;\n    }\n\n    .dataframe thead th {\n        text-align: right;\n    }\n</style>\n<table border=\"1\" class=\"dataframe\">\n  <thead>\n    <tr style=\"text-align: right;\">\n      <th></th>\n      <th>Number of Woman who Gave Birth</th>\n      <th>Percentage of Each Year</th>\n      <th>Average Age of Mothers at Birth</th>\n    </tr>\n    <tr>\n      <th>year</th>\n      <th></th>\n      <th></th>\n      <th></th>\n    </tr>\n  </thead>\n  <tbody>\n    <tr>\n      <th>2010</th>\n      <td>1458840</td>\n      <td>9.77%</td>\n      <td>26.57</td>\n    </tr>\n    <tr>\n      <th>2011</th>\n      <td>1468363</td>\n      <td>9.83%</td>\n      <td>27.01</td>\n    </tr>\n    <tr>\n      <th>2012</th>\n      <td>1518763</td>\n      <td>10.17%</td>\n      <td>26.99</td>\n    </tr>\n    <tr>\n      <th>2013</th>\n      <td>1506039</td>\n      <td>10.08%</td>\n      <td>26.48</td>\n    </tr>\n    <tr>\n      <th>2014</th>\n      <td>1522611</td>\n      <td>10.19%</td>\n      <td>26.48</td>\n    </tr>\n    <tr>\n      <th>2015</th>\n      <td>1504623</td>\n      <td>10.07%</td>\n      <td>26.53</td>\n    </tr>\n    <tr>\n      <th>2016</th>\n      <td>1534145</td>\n      <td>10.27%</td>\n      <td>26.48</td>\n    </tr>\n    <tr>\n      <th>2017</th>\n      <td>1485389</td>\n      <td>9.94%</td>\n      <td>26.57</td>\n    </tr>\n    <tr>\n      <th>2018</th>\n      <td>2939318</td>\n      <td>19.68%</td>\n      <td>26.48</td>\n    </tr>\n  </tbody>\n</table>\n</div>"
     },
     "metadata": {},
     "execution_count": 13
    }
   ],
   "source": [
    "# Total Births Per Year \n",
    "\n",
    "# Group data by year\n",
    "year = mothers_df.groupby(\"year\")\n",
    "\n",
    "# Find the total sum of births for each year\n",
    "totalperyear = year[\"count\"].sum()\n",
    "\n",
    "# Find the percentage of each age\n",
    "total_percent = totalperyear/total_births*100\n",
    "\n",
    "# Find the average age\n",
    "age_count = year[\"age_group\"].mean()\n",
    "\n",
    "# # Create a new dataframe to hold calculations for percentage and count of each gender\n",
    "year_df = pd.DataFrame({\"Number of Woman who Gave Birth\": totalperyear, \"Percentage of Each Year\": total_percent, \"Average Age of Mothers at Birth\" : age_count})\n",
    "\n",
    "# # Sort values in descedning order \n",
    "year_df.sort_values(by=[\"Number of Woman who Gave Birth\"], inplace = True, ascending = False)\n",
    "\n",
    "# # Convert Percentage of births each year to float, and format. Format average age\n",
    "year_df[\"Percentage of Each Year\"] = year_df[\"Percentage of Each Year\"].astype(float).map(\"{:,.2f}%\".format)\n",
    "year_df[\"Average Age of Mothers at Birth\"] = year_df[\"Average Age of Mothers at Birth\"].map(\"{:,.2f}\".format)\n",
    "\n",
    "# Add index name and sort by year then age_group\n",
    "year_df.sort_values(by=[\"year\"], inplace = True, ascending = True)\n",
    "\n",
    "# # Display the data frame\n",
    "year_df"
   ]
  },
  {
   "cell_type": "code",
   "execution_count": 14,
   "metadata": {},
   "outputs": [
    {
     "output_type": "execute_result",
     "data": {
      "text/plain": [
       "      Average Age\n",
       "year             \n",
       "2010    26.571429\n",
       "2011    27.013333\n",
       "2012    26.993631\n",
       "2013    26.484076\n",
       "2014    26.484076\n",
       "2015    26.526316\n",
       "2016    26.484076\n",
       "2017    26.571429\n",
       "2018    26.484076"
      ],
      "text/html": "<div>\n<style scoped>\n    .dataframe tbody tr th:only-of-type {\n        vertical-align: middle;\n    }\n\n    .dataframe tbody tr th {\n        vertical-align: top;\n    }\n\n    .dataframe thead th {\n        text-align: right;\n    }\n</style>\n<table border=\"1\" class=\"dataframe\">\n  <thead>\n    <tr style=\"text-align: right;\">\n      <th></th>\n      <th>Average Age</th>\n    </tr>\n    <tr>\n      <th>year</th>\n      <th></th>\n    </tr>\n  </thead>\n  <tbody>\n    <tr>\n      <th>2010</th>\n      <td>26.571429</td>\n    </tr>\n    <tr>\n      <th>2011</th>\n      <td>27.013333</td>\n    </tr>\n    <tr>\n      <th>2012</th>\n      <td>26.993631</td>\n    </tr>\n    <tr>\n      <th>2013</th>\n      <td>26.484076</td>\n    </tr>\n    <tr>\n      <th>2014</th>\n      <td>26.484076</td>\n    </tr>\n    <tr>\n      <th>2015</th>\n      <td>26.526316</td>\n    </tr>\n    <tr>\n      <th>2016</th>\n      <td>26.484076</td>\n    </tr>\n    <tr>\n      <th>2017</th>\n      <td>26.571429</td>\n    </tr>\n    <tr>\n      <th>2018</th>\n      <td>26.484076</td>\n    </tr>\n  </tbody>\n</table>\n</div>"
     },
     "metadata": {},
     "execution_count": 14
    }
   ],
   "source": [
    "# Drop any 0's in the age_group column\n",
    "droped = mothers_df.loc[mothers_df[\"age_group\"]!= \"0\"]\n",
    "\n",
    "# Group data by year\n",
    "year = droped.groupby([\"year\"])\n",
    "\n",
    "# Find the average age\n",
    "age_count = year[\"age_group\"].mean()\n",
    "\n",
    "# Create a new dataframe to hold calculations for percentage and count of each gender\n",
    "avg_age = pd.DataFrame({\"Average Age\": age_count})\n",
    "\n",
    "# Add index name and sort by year then age_group\n",
    "avg_age.sort_values(by=[\"year\"], inplace = True, ascending = True)\n",
    "\n",
    "# # Display the data frame\n",
    "avg_age"
   ]
  },
  {
   "cell_type": "code",
   "execution_count": 15,
   "metadata": {},
   "outputs": [
    {
     "output_type": "execute_result",
     "data": {
      "text/plain": [
       "                      Number of Woman Who Gave Birth\n",
       "topic_disaggregation                                \n",
       "Private                                       800544\n",
       "Public                                       2134144"
      ],
      "text/html": "<div>\n<style scoped>\n    .dataframe tbody tr th:only-of-type {\n        vertical-align: middle;\n    }\n\n    .dataframe tbody tr th {\n        vertical-align: top;\n    }\n\n    .dataframe thead th {\n        text-align: right;\n    }\n</style>\n<table border=\"1\" class=\"dataframe\">\n  <thead>\n    <tr style=\"text-align: right;\">\n      <th></th>\n      <th>Number of Woman Who Gave Birth</th>\n    </tr>\n    <tr>\n      <th>topic_disaggregation</th>\n      <th></th>\n    </tr>\n  </thead>\n  <tbody>\n    <tr>\n      <th>Private</th>\n      <td>800544</td>\n    </tr>\n    <tr>\n      <th>Public</th>\n      <td>2134144</td>\n    </tr>\n  </tbody>\n</table>\n</div>"
     },
     "metadata": {},
     "execution_count": 15
    }
   ],
   "source": [
    "# Count the total number of woman who gave birth between 2010 and 2018 in either private or public hospitals\n",
    "dropped = mothers_df.loc[mothers_df[\"topic\"]== \"Hospital sector\"]\n",
    "dropped = dropped.loc[dropped[\"topic_disaggregation\"]!= \"Not stated\"]\n",
    "\n",
    "# Group by private or public\n",
    "birth_locations = dropped.groupby([\"topic_disaggregation\"])\n",
    "\n",
    "birth_locations_count = birth_locations[\"count\"].sum()\n",
    "\n",
    "birth_locations_df = pd.DataFrame ({\"Number of Woman Who Gave Birth\":birth_locations_count})\n",
    "\n",
    "# Display the data frame\n",
    "birth_locations_df"
   ]
  },
  {
   "cell_type": "code",
   "execution_count": 16,
   "metadata": {},
   "outputs": [
    {
     "output_type": "execute_result",
     "data": {
      "text/plain": [
       "                           Number of Woman Who Gave Birth\n",
       "year topic_disaggregation                                \n",
       "2010 Private                                        85404\n",
       "     Public                                        200833\n",
       "2011 Private                                        83699\n",
       "     Public                                        204481\n",
       "2012 Private                                        86471\n",
       "     Public                                        211612\n",
       "2013 Private                                        83516\n",
       "     Public                                        213095\n",
       "2014 Private                                        82366\n",
       "     Public                                        217916\n",
       "2015 Private                                        79525\n",
       "     Public                                        217077\n",
       "2016 Private                                        78980\n",
       "     Public                                        223483\n",
       "2017 Private                                        75437\n",
       "     Public                                        215615\n",
       "2018 Private                                       145146\n",
       "     Public                                        430032"
      ],
      "text/html": "<div>\n<style scoped>\n    .dataframe tbody tr th:only-of-type {\n        vertical-align: middle;\n    }\n\n    .dataframe tbody tr th {\n        vertical-align: top;\n    }\n\n    .dataframe thead th {\n        text-align: right;\n    }\n</style>\n<table border=\"1\" class=\"dataframe\">\n  <thead>\n    <tr style=\"text-align: right;\">\n      <th></th>\n      <th></th>\n      <th>Number of Woman Who Gave Birth</th>\n    </tr>\n    <tr>\n      <th>year</th>\n      <th>topic_disaggregation</th>\n      <th></th>\n    </tr>\n  </thead>\n  <tbody>\n    <tr>\n      <th rowspan=\"2\" valign=\"top\">2010</th>\n      <th>Private</th>\n      <td>85404</td>\n    </tr>\n    <tr>\n      <th>Public</th>\n      <td>200833</td>\n    </tr>\n    <tr>\n      <th rowspan=\"2\" valign=\"top\">2011</th>\n      <th>Private</th>\n      <td>83699</td>\n    </tr>\n    <tr>\n      <th>Public</th>\n      <td>204481</td>\n    </tr>\n    <tr>\n      <th rowspan=\"2\" valign=\"top\">2012</th>\n      <th>Private</th>\n      <td>86471</td>\n    </tr>\n    <tr>\n      <th>Public</th>\n      <td>211612</td>\n    </tr>\n    <tr>\n      <th rowspan=\"2\" valign=\"top\">2013</th>\n      <th>Private</th>\n      <td>83516</td>\n    </tr>\n    <tr>\n      <th>Public</th>\n      <td>213095</td>\n    </tr>\n    <tr>\n      <th rowspan=\"2\" valign=\"top\">2014</th>\n      <th>Private</th>\n      <td>82366</td>\n    </tr>\n    <tr>\n      <th>Public</th>\n      <td>217916</td>\n    </tr>\n    <tr>\n      <th rowspan=\"2\" valign=\"top\">2015</th>\n      <th>Private</th>\n      <td>79525</td>\n    </tr>\n    <tr>\n      <th>Public</th>\n      <td>217077</td>\n    </tr>\n    <tr>\n      <th rowspan=\"2\" valign=\"top\">2016</th>\n      <th>Private</th>\n      <td>78980</td>\n    </tr>\n    <tr>\n      <th>Public</th>\n      <td>223483</td>\n    </tr>\n    <tr>\n      <th rowspan=\"2\" valign=\"top\">2017</th>\n      <th>Private</th>\n      <td>75437</td>\n    </tr>\n    <tr>\n      <th>Public</th>\n      <td>215615</td>\n    </tr>\n    <tr>\n      <th rowspan=\"2\" valign=\"top\">2018</th>\n      <th>Private</th>\n      <td>145146</td>\n    </tr>\n    <tr>\n      <th>Public</th>\n      <td>430032</td>\n    </tr>\n  </tbody>\n</table>\n</div>"
     },
     "metadata": {},
     "execution_count": 16
    }
   ],
   "source": [
    "# Count the total number of woman who gave birth between 2010 and 2018 each year in either private or public hospitals\n",
    "dropped = mothers_df.loc[mothers_df[\"topic\"]== \"Hospital sector\"]\n",
    "dropped = dropped.loc[dropped[\"topic_disaggregation\"]!= \"Not stated\"]\n",
    "\n",
    "# Group by private or public\n",
    "birth_locations = dropped.groupby([\"year\", \"topic_disaggregation\"])\n",
    "\n",
    "birth_locations_count = birth_locations[\"count\"].sum()\n",
    "\n",
    "birth_locations_df = pd.DataFrame ({\"Number of Woman Who Gave Birth\":birth_locations_count})\n",
    "\n",
    "# Display the data frame\n",
    "birth_locations_df"
   ]
  },
  {
   "cell_type": "code",
   "execution_count": 17,
   "metadata": {},
   "outputs": [
    {
     "output_type": "execute_result",
     "data": {
      "text/plain": [
       "                      Number of Indigenous Woman Who Gave Birth\n",
       "topic_disaggregation                                           \n",
       "Indigenous                                               128386\n",
       "Non-Indigenous                                          2890536\n",
       "Not stated                                                 6937"
      ],
      "text/html": "<div>\n<style scoped>\n    .dataframe tbody tr th:only-of-type {\n        vertical-align: middle;\n    }\n\n    .dataframe tbody tr th {\n        vertical-align: top;\n    }\n\n    .dataframe thead th {\n        text-align: right;\n    }\n</style>\n<table border=\"1\" class=\"dataframe\">\n  <thead>\n    <tr style=\"text-align: right;\">\n      <th></th>\n      <th>Number of Indigenous Woman Who Gave Birth</th>\n    </tr>\n    <tr>\n      <th>topic_disaggregation</th>\n      <th></th>\n    </tr>\n  </thead>\n  <tbody>\n    <tr>\n      <th>Indigenous</th>\n      <td>128386</td>\n    </tr>\n    <tr>\n      <th>Non-Indigenous</th>\n      <td>2890536</td>\n    </tr>\n    <tr>\n      <th>Not stated</th>\n      <td>6937</td>\n    </tr>\n  </tbody>\n</table>\n</div>"
     },
     "metadata": {},
     "execution_count": 17
    }
   ],
   "source": [
    "# Count the total number of indigenous woman who gave birth between 2010 and 2018\n",
    "drop = mothers_df.loc[mothers_df[\"topic\"]== \"Indigenous status (mother)\"]\n",
    "# dropped = dropped.loc[dropped[\"topic_disaggregation\"]!= \"Not stated\"]\n",
    "\n",
    "# Group by Indigenous Status\n",
    "indigenous = drop.groupby([\"topic_disaggregation\"])\n",
    "\n",
    "indigenous_status = indigenous[\"count\"].sum()\n",
    "\n",
    "indigenous_df = pd.DataFrame ({\"Number of Indigenous Woman Who Gave Birth\":indigenous_status})\n",
    "\n",
    "# Display the data frame\n",
    "indigenous_df"
   ]
  },
  {
   "cell_type": "code",
   "execution_count": 18,
   "metadata": {},
   "outputs": [
    {
     "output_type": "execute_result",
     "data": {
      "text/plain": [
       "                           Number of Indigenous Woman Who Gave Birth\n",
       "year topic_disaggregation                                           \n",
       "2010 Indigenous                                                11488\n",
       "     Non-Indigenous                                           283172\n",
       "     Not stated                                                  795\n",
       "2011 Indigenous                                                11731\n",
       "     Non-Indigenous                                           284909\n",
       "     Not stated                                                  703\n",
       "2012 Indigenous                                                12286\n",
       "     Non-Indigenous                                           294619\n",
       "     Not stated                                                  665\n",
       "2013 Indigenous                                                12380\n",
       "     Non-Indigenous                                           291700\n",
       "     Not stated                                                  697\n",
       "2014 Indigenous                                                12817\n",
       "     Non-Indigenous                                           294521\n",
       "     Not stated                                                  506\n",
       "2015 Indigenous                                                13017\n",
       "     Non-Indigenous                                           290888\n",
       "     Not stated                                                  363\n",
       "2016 Indigenous                                                13608\n",
       "     Non-Indigenous                                           295629\n",
       "     Not stated                                                 1010\n",
       "2017 Indigenous                                                13551\n",
       "     Non-Indigenous                                           286762\n",
       "     Not stated                                                  782\n",
       "2018 Indigenous                                                27508\n",
       "     Non-Indigenous                                           568336\n",
       "     Not stated                                                 1416"
      ],
      "text/html": "<div>\n<style scoped>\n    .dataframe tbody tr th:only-of-type {\n        vertical-align: middle;\n    }\n\n    .dataframe tbody tr th {\n        vertical-align: top;\n    }\n\n    .dataframe thead th {\n        text-align: right;\n    }\n</style>\n<table border=\"1\" class=\"dataframe\">\n  <thead>\n    <tr style=\"text-align: right;\">\n      <th></th>\n      <th></th>\n      <th>Number of Indigenous Woman Who Gave Birth</th>\n    </tr>\n    <tr>\n      <th>year</th>\n      <th>topic_disaggregation</th>\n      <th></th>\n    </tr>\n  </thead>\n  <tbody>\n    <tr>\n      <th rowspan=\"3\" valign=\"top\">2010</th>\n      <th>Indigenous</th>\n      <td>11488</td>\n    </tr>\n    <tr>\n      <th>Non-Indigenous</th>\n      <td>283172</td>\n    </tr>\n    <tr>\n      <th>Not stated</th>\n      <td>795</td>\n    </tr>\n    <tr>\n      <th rowspan=\"3\" valign=\"top\">2011</th>\n      <th>Indigenous</th>\n      <td>11731</td>\n    </tr>\n    <tr>\n      <th>Non-Indigenous</th>\n      <td>284909</td>\n    </tr>\n    <tr>\n      <th>Not stated</th>\n      <td>703</td>\n    </tr>\n    <tr>\n      <th rowspan=\"3\" valign=\"top\">2012</th>\n      <th>Indigenous</th>\n      <td>12286</td>\n    </tr>\n    <tr>\n      <th>Non-Indigenous</th>\n      <td>294619</td>\n    </tr>\n    <tr>\n      <th>Not stated</th>\n      <td>665</td>\n    </tr>\n    <tr>\n      <th rowspan=\"3\" valign=\"top\">2013</th>\n      <th>Indigenous</th>\n      <td>12380</td>\n    </tr>\n    <tr>\n      <th>Non-Indigenous</th>\n      <td>291700</td>\n    </tr>\n    <tr>\n      <th>Not stated</th>\n      <td>697</td>\n    </tr>\n    <tr>\n      <th rowspan=\"3\" valign=\"top\">2014</th>\n      <th>Indigenous</th>\n      <td>12817</td>\n    </tr>\n    <tr>\n      <th>Non-Indigenous</th>\n      <td>294521</td>\n    </tr>\n    <tr>\n      <th>Not stated</th>\n      <td>506</td>\n    </tr>\n    <tr>\n      <th rowspan=\"3\" valign=\"top\">2015</th>\n      <th>Indigenous</th>\n      <td>13017</td>\n    </tr>\n    <tr>\n      <th>Non-Indigenous</th>\n      <td>290888</td>\n    </tr>\n    <tr>\n      <th>Not stated</th>\n      <td>363</td>\n    </tr>\n    <tr>\n      <th rowspan=\"3\" valign=\"top\">2016</th>\n      <th>Indigenous</th>\n      <td>13608</td>\n    </tr>\n    <tr>\n      <th>Non-Indigenous</th>\n      <td>295629</td>\n    </tr>\n    <tr>\n      <th>Not stated</th>\n      <td>1010</td>\n    </tr>\n    <tr>\n      <th rowspan=\"3\" valign=\"top\">2017</th>\n      <th>Indigenous</th>\n      <td>13551</td>\n    </tr>\n    <tr>\n      <th>Non-Indigenous</th>\n      <td>286762</td>\n    </tr>\n    <tr>\n      <th>Not stated</th>\n      <td>782</td>\n    </tr>\n    <tr>\n      <th rowspan=\"3\" valign=\"top\">2018</th>\n      <th>Indigenous</th>\n      <td>27508</td>\n    </tr>\n    <tr>\n      <th>Non-Indigenous</th>\n      <td>568336</td>\n    </tr>\n    <tr>\n      <th>Not stated</th>\n      <td>1416</td>\n    </tr>\n  </tbody>\n</table>\n</div>"
     },
     "metadata": {},
     "execution_count": 18
    }
   ],
   "source": [
    "# Count the total number of indigenous woman who gave birth between 2010 and 2018 per year\n",
    "drop = mothers_df.loc[mothers_df[\"topic\"]== \"Indigenous status (mother)\"]\n",
    "\n",
    "# Group by year and Indigenous Status\n",
    "indigenous_year = drop.groupby([\"year\", \"topic_disaggregation\"])\n",
    "\n",
    "indigenous_status_year = indigenous_year[\"count\"].sum()\n",
    "\n",
    "indigenous_year_df = pd.DataFrame ({\"Number of Indigenous Woman Who Gave Birth\":indigenous_status_year})\n",
    "\n",
    "# Display the data frame\n",
    "indigenous_year_df"
   ]
  },
  {
   "cell_type": "code",
   "execution_count": 19,
   "metadata": {},
   "outputs": [
    {
     "output_type": "execute_result",
     "data": {
      "text/plain": [
       "                      Number of Woman Who Gave Birth\n",
       "topic_disaggregation                                \n",
       "ACT                                            60761\n",
       "NSW                                           955446\n",
       "NT                                             38800\n",
       "QLD                                           611176\n",
       "SA                                            197279\n",
       "TAS                                            57653\n",
       "VIC                                           770304\n",
       "WA                                            334440"
      ],
      "text/html": "<div>\n<style scoped>\n    .dataframe tbody tr th:only-of-type {\n        vertical-align: middle;\n    }\n\n    .dataframe tbody tr th {\n        vertical-align: top;\n    }\n\n    .dataframe thead th {\n        text-align: right;\n    }\n</style>\n<table border=\"1\" class=\"dataframe\">\n  <thead>\n    <tr style=\"text-align: right;\">\n      <th></th>\n      <th>Number of Woman Who Gave Birth</th>\n    </tr>\n    <tr>\n      <th>topic_disaggregation</th>\n      <th></th>\n    </tr>\n  </thead>\n  <tbody>\n    <tr>\n      <th>ACT</th>\n      <td>60761</td>\n    </tr>\n    <tr>\n      <th>NSW</th>\n      <td>955446</td>\n    </tr>\n    <tr>\n      <th>NT</th>\n      <td>38800</td>\n    </tr>\n    <tr>\n      <th>QLD</th>\n      <td>611176</td>\n    </tr>\n    <tr>\n      <th>SA</th>\n      <td>197279</td>\n    </tr>\n    <tr>\n      <th>TAS</th>\n      <td>57653</td>\n    </tr>\n    <tr>\n      <th>VIC</th>\n      <td>770304</td>\n    </tr>\n    <tr>\n      <th>WA</th>\n      <td>334440</td>\n    </tr>\n  </tbody>\n</table>\n</div>"
     },
     "metadata": {},
     "execution_count": 19
    }
   ],
   "source": [
    "# Count the total number of woman who gave birth in each state between 2010 and 2018\n",
    "statedropped = mothers_df.loc[mothers_df[\"topic\"]== \"State and territory of birth\"]\n",
    "# dropped = dropped.loc[dropped[\"topic_disaggregation\"]!= \"Not stated\"]\n",
    "\n",
    "# Group by state\n",
    "birth_state = statedropped.groupby([\"topic_disaggregation\"])\n",
    "\n",
    "birth_state_count = birth_state[\"count\"].sum()\n",
    "\n",
    "birth_state_df = pd.DataFrame ({\"Number of Woman Who Gave Birth\":birth_state_count})\n",
    "\n",
    "# Display the data frame\n",
    "birth_state_df"
   ]
  },
  {
   "cell_type": "code",
   "execution_count": 20,
   "metadata": {},
   "outputs": [
    {
     "output_type": "execute_result",
     "data": {
      "text/plain": [
       "                           Number of Woman Who Gave Birth\n",
       "year topic_disaggregation                                \n",
       "2010 ACT                                             5826\n",
       "     NSW                                            94993\n",
       "     NT                                              3830\n",
       "     QLD                                            61020\n",
       "     SA                                             19666\n",
       "...                                                   ...\n",
       "2018 QLD                                           119248\n",
       "     SA                                             38088\n",
       "     TAS                                            10872\n",
       "     VIC                                           155466\n",
       "     WA                                             65948\n",
       "\n",
       "[72 rows x 1 columns]"
      ],
      "text/html": "<div>\n<style scoped>\n    .dataframe tbody tr th:only-of-type {\n        vertical-align: middle;\n    }\n\n    .dataframe tbody tr th {\n        vertical-align: top;\n    }\n\n    .dataframe thead th {\n        text-align: right;\n    }\n</style>\n<table border=\"1\" class=\"dataframe\">\n  <thead>\n    <tr style=\"text-align: right;\">\n      <th></th>\n      <th></th>\n      <th>Number of Woman Who Gave Birth</th>\n    </tr>\n    <tr>\n      <th>year</th>\n      <th>topic_disaggregation</th>\n      <th></th>\n    </tr>\n  </thead>\n  <tbody>\n    <tr>\n      <th rowspan=\"5\" valign=\"top\">2010</th>\n      <th>ACT</th>\n      <td>5826</td>\n    </tr>\n    <tr>\n      <th>NSW</th>\n      <td>94993</td>\n    </tr>\n    <tr>\n      <th>NT</th>\n      <td>3830</td>\n    </tr>\n    <tr>\n      <th>QLD</th>\n      <td>61020</td>\n    </tr>\n    <tr>\n      <th>SA</th>\n      <td>19666</td>\n    </tr>\n    <tr>\n      <th>...</th>\n      <th>...</th>\n      <td>...</td>\n    </tr>\n    <tr>\n      <th rowspan=\"5\" valign=\"top\">2018</th>\n      <th>QLD</th>\n      <td>119248</td>\n    </tr>\n    <tr>\n      <th>SA</th>\n      <td>38088</td>\n    </tr>\n    <tr>\n      <th>TAS</th>\n      <td>10872</td>\n    </tr>\n    <tr>\n      <th>VIC</th>\n      <td>155466</td>\n    </tr>\n    <tr>\n      <th>WA</th>\n      <td>65948</td>\n    </tr>\n  </tbody>\n</table>\n<p>72 rows × 1 columns</p>\n</div>"
     },
     "metadata": {},
     "execution_count": 20
    }
   ],
   "source": [
    "# Count the total number of woman who gave birth in each state between 2010 and 2018\n",
    "statedropped = mothers_df.loc[mothers_df[\"topic\"]== \"State and territory of birth\"]\n",
    "# dropped = dropped.loc[dropped[\"topic_disaggregation\"]!= \"Not stated\"]\n",
    "\n",
    "# Group by year and state\n",
    "birth_state = statedropped.groupby([\"year\", \"topic_disaggregation\"])\n",
    "\n",
    "birth_state_count = birth_state[\"count\"].sum()\n",
    "\n",
    "birth_state_df = pd.DataFrame ({\"Number of Woman Who Gave Birth\":birth_state_count})\n",
    "\n",
    "# Display the data frame\n",
    "birth_state_df"
   ]
  },
  {
   "cell_type": "code",
   "execution_count": 21,
   "metadata": {},
   "outputs": [
    {
     "output_type": "execute_result",
     "data": {
      "text/plain": [
       "  babies_term                  topic topic_disaggregation  year   count  \\\n",
       "0    Pre-term  Admission to SCN/NICU             Admitted  2018   11839   \n",
       "1    Pre-term  Admission to SCN/NICU         Not admitted  2018    2945   \n",
       "2    Pre-term  Admission to SCN/NICU           Not stated  2018      33   \n",
       "3        Term  Admission to SCN/NICU             Admitted  2018   19917   \n",
       "4        Term  Admission to SCN/NICU         Not admitted  2018  136360   \n",
       "\n",
       "   year_total  percent_total  \n",
       "0       31838           37.2  \n",
       "1      139691            2.1  \n",
       "2        1227            2.7  \n",
       "3       31838           62.6  \n",
       "4      139691           97.6  "
      ],
      "text/html": "<div>\n<style scoped>\n    .dataframe tbody tr th:only-of-type {\n        vertical-align: middle;\n    }\n\n    .dataframe tbody tr th {\n        vertical-align: top;\n    }\n\n    .dataframe thead th {\n        text-align: right;\n    }\n</style>\n<table border=\"1\" class=\"dataframe\">\n  <thead>\n    <tr style=\"text-align: right;\">\n      <th></th>\n      <th>babies_term</th>\n      <th>topic</th>\n      <th>topic_disaggregation</th>\n      <th>year</th>\n      <th>count</th>\n      <th>year_total</th>\n      <th>percent_total</th>\n    </tr>\n  </thead>\n  <tbody>\n    <tr>\n      <th>0</th>\n      <td>Pre-term</td>\n      <td>Admission to SCN/NICU</td>\n      <td>Admitted</td>\n      <td>2018</td>\n      <td>11839</td>\n      <td>31838</td>\n      <td>37.2</td>\n    </tr>\n    <tr>\n      <th>1</th>\n      <td>Pre-term</td>\n      <td>Admission to SCN/NICU</td>\n      <td>Not admitted</td>\n      <td>2018</td>\n      <td>2945</td>\n      <td>139691</td>\n      <td>2.1</td>\n    </tr>\n    <tr>\n      <th>2</th>\n      <td>Pre-term</td>\n      <td>Admission to SCN/NICU</td>\n      <td>Not stated</td>\n      <td>2018</td>\n      <td>33</td>\n      <td>1227</td>\n      <td>2.7</td>\n    </tr>\n    <tr>\n      <th>3</th>\n      <td>Term</td>\n      <td>Admission to SCN/NICU</td>\n      <td>Admitted</td>\n      <td>2018</td>\n      <td>19917</td>\n      <td>31838</td>\n      <td>62.6</td>\n    </tr>\n    <tr>\n      <th>4</th>\n      <td>Term</td>\n      <td>Admission to SCN/NICU</td>\n      <td>Not admitted</td>\n      <td>2018</td>\n      <td>136360</td>\n      <td>139691</td>\n      <td>97.6</td>\n    </tr>\n  </tbody>\n</table>\n</div>"
     },
     "metadata": {},
     "execution_count": 21
    }
   ],
   "source": [
    "# Read in csv for Mothers Birth Country\n",
    "mothersbirth = \"finaldata/Table_4.1.csv\"\n",
    "mothersbirth_df = pd.read_csv(mothersbirth)\n",
    "mothersbirth_df.head()"
   ]
  },
  {
   "cell_type": "code",
   "execution_count": 22,
   "metadata": {},
   "outputs": [
    {
     "output_type": "execute_result",
     "data": {
      "text/plain": [
       "Index(['babies_term', 'topic', 'topic_disaggregation', 'year', 'count',\n",
       "       'year_total', 'percent_total'],\n",
       "      dtype='object')"
      ]
     },
     "metadata": {},
     "execution_count": 22
    }
   ],
   "source": [
    "# View all columns for df to decide what to keep\n",
    "mothersbirth_df.columns"
   ]
  },
  {
   "cell_type": "code",
   "execution_count": 23,
   "metadata": {},
   "outputs": [
    {
     "output_type": "stream",
     "name": "stdout",
     "text": [
      "<class 'pandas.core.frame.DataFrame'>\nRangeIndex: 2646 entries, 0 to 2645\nData columns (total 7 columns):\n #   Column                Non-Null Count  Dtype  \n---  ------                --------------  -----  \n 0   babies_term           2646 non-null   object \n 1   topic                 2646 non-null   object \n 2   topic_disaggregation  2646 non-null   object \n 3   year                  2646 non-null   int64  \n 4   count                 2646 non-null   int64  \n 5   year_total            2646 non-null   int64  \n 6   percent_total         2646 non-null   float64\ndtypes: float64(1), int64(3), object(3)\nmemory usage: 144.8+ KB\n"
     ]
    }
   ],
   "source": [
    "# Print datatypes\n",
    "mothersbirth_df.info()"
   ]
  },
  {
   "cell_type": "code",
   "execution_count": 24,
   "metadata": {},
   "outputs": [
    {
     "output_type": "execute_result",
     "data": {
      "text/plain": [
       "                        number_women_gave_birth\n",
       "maternal_birth_country                         \n",
       "Born in Australia                       2061860\n",
       "Born overseas                            994962\n",
       "Not stated                                15132"
      ],
      "text/html": "<div>\n<style scoped>\n    .dataframe tbody tr th:only-of-type {\n        vertical-align: middle;\n    }\n\n    .dataframe tbody tr th {\n        vertical-align: top;\n    }\n\n    .dataframe thead th {\n        text-align: right;\n    }\n</style>\n<table border=\"1\" class=\"dataframe\">\n  <thead>\n    <tr style=\"text-align: right;\">\n      <th></th>\n      <th>number_women_gave_birth</th>\n    </tr>\n    <tr>\n      <th>maternal_birth_country</th>\n      <th></th>\n    </tr>\n  </thead>\n  <tbody>\n    <tr>\n      <th>Born in Australia</th>\n      <td>2061860</td>\n    </tr>\n    <tr>\n      <th>Born overseas</th>\n      <td>994962</td>\n    </tr>\n    <tr>\n      <th>Not stated</th>\n      <td>15132</td>\n    </tr>\n  </tbody>\n</table>\n</div>"
     },
     "metadata": {},
     "execution_count": 24
    }
   ],
   "source": [
    "# Drop any values's in the topic column that don't relate to the mothers birth country\n",
    "dropped = mothersbirth_df.loc[mothersbirth_df[\"topic\"]== \"Country of birth (mother)\"]\n",
    "\n",
    "# Group data by maternal country of birth\n",
    "countryofbirth = dropped.groupby(\"topic_disaggregation\")\n",
    "\n",
    "# Find the total count of each mother per country\n",
    "countofmothers = countryofbirth[\"count\"].sum()\n",
    "\n",
    "# Create a new dataframe to hold calculations for percentage and count of each gender\n",
    "countofmothers_df = pd.DataFrame({\"number_women_gave_birth\": countofmothers})\n",
    "\n",
    "\n",
    "# Add index name and sort by Age\n",
    "countofmothers_df.index.name = \"maternal_birth_country\"\n",
    "\n",
    "\n",
    "# Display the data frame\n",
    "countofmothers_df"
   ]
  },
  {
   "cell_type": "code",
   "execution_count": 25,
   "metadata": {},
   "outputs": [
    {
     "output_type": "execute_result",
     "data": {
      "text/plain": [
       "                           number_women_gave_birth\n",
       "year topic_disaggregation                         \n",
       "2010 Born in Australia                      214457\n",
       "     Born overseas                           83996\n",
       "     Not stated                               1762\n",
       "2011 Born in Australia                      212860\n",
       "     Born overseas                           87697\n",
       "     Not stated                               1468\n",
       "2012 Born in Australia                      215009\n",
       "     Born overseas                           95541\n",
       "     Not stated                               1701\n",
       "2013 Born in Australia                      211905\n",
       "     Born overseas                           95891\n",
       "     Not stated                               1693\n",
       "2014 Born in Australia                      209188\n",
       "     Born overseas                          101644\n",
       "     Not stated                               1716\n",
       "2015 Born in Australia                      205817\n",
       "     Born overseas                          101502\n",
       "     Not stated                               1568\n",
       "2016 Born in Australia                      205224\n",
       "     Born overseas                          107880\n",
       "     Not stated                               1710\n",
       "2017 Born in Australia                      197168\n",
       "     Born overseas                          107165\n",
       "     Not stated                               1334\n",
       "2018 Born in Australia                      390232\n",
       "     Born overseas                          213646\n",
       "     Not stated                               2180"
      ],
      "text/html": "<div>\n<style scoped>\n    .dataframe tbody tr th:only-of-type {\n        vertical-align: middle;\n    }\n\n    .dataframe tbody tr th {\n        vertical-align: top;\n    }\n\n    .dataframe thead th {\n        text-align: right;\n    }\n</style>\n<table border=\"1\" class=\"dataframe\">\n  <thead>\n    <tr style=\"text-align: right;\">\n      <th></th>\n      <th></th>\n      <th>number_women_gave_birth</th>\n    </tr>\n    <tr>\n      <th>year</th>\n      <th>topic_disaggregation</th>\n      <th></th>\n    </tr>\n  </thead>\n  <tbody>\n    <tr>\n      <th rowspan=\"3\" valign=\"top\">2010</th>\n      <th>Born in Australia</th>\n      <td>214457</td>\n    </tr>\n    <tr>\n      <th>Born overseas</th>\n      <td>83996</td>\n    </tr>\n    <tr>\n      <th>Not stated</th>\n      <td>1762</td>\n    </tr>\n    <tr>\n      <th rowspan=\"3\" valign=\"top\">2011</th>\n      <th>Born in Australia</th>\n      <td>212860</td>\n    </tr>\n    <tr>\n      <th>Born overseas</th>\n      <td>87697</td>\n    </tr>\n    <tr>\n      <th>Not stated</th>\n      <td>1468</td>\n    </tr>\n    <tr>\n      <th rowspan=\"3\" valign=\"top\">2012</th>\n      <th>Born in Australia</th>\n      <td>215009</td>\n    </tr>\n    <tr>\n      <th>Born overseas</th>\n      <td>95541</td>\n    </tr>\n    <tr>\n      <th>Not stated</th>\n      <td>1701</td>\n    </tr>\n    <tr>\n      <th rowspan=\"3\" valign=\"top\">2013</th>\n      <th>Born in Australia</th>\n      <td>211905</td>\n    </tr>\n    <tr>\n      <th>Born overseas</th>\n      <td>95891</td>\n    </tr>\n    <tr>\n      <th>Not stated</th>\n      <td>1693</td>\n    </tr>\n    <tr>\n      <th rowspan=\"3\" valign=\"top\">2014</th>\n      <th>Born in Australia</th>\n      <td>209188</td>\n    </tr>\n    <tr>\n      <th>Born overseas</th>\n      <td>101644</td>\n    </tr>\n    <tr>\n      <th>Not stated</th>\n      <td>1716</td>\n    </tr>\n    <tr>\n      <th rowspan=\"3\" valign=\"top\">2015</th>\n      <th>Born in Australia</th>\n      <td>205817</td>\n    </tr>\n    <tr>\n      <th>Born overseas</th>\n      <td>101502</td>\n    </tr>\n    <tr>\n      <th>Not stated</th>\n      <td>1568</td>\n    </tr>\n    <tr>\n      <th rowspan=\"3\" valign=\"top\">2016</th>\n      <th>Born in Australia</th>\n      <td>205224</td>\n    </tr>\n    <tr>\n      <th>Born overseas</th>\n      <td>107880</td>\n    </tr>\n    <tr>\n      <th>Not stated</th>\n      <td>1710</td>\n    </tr>\n    <tr>\n      <th rowspan=\"3\" valign=\"top\">2017</th>\n      <th>Born in Australia</th>\n      <td>197168</td>\n    </tr>\n    <tr>\n      <th>Born overseas</th>\n      <td>107165</td>\n    </tr>\n    <tr>\n      <th>Not stated</th>\n      <td>1334</td>\n    </tr>\n    <tr>\n      <th rowspan=\"3\" valign=\"top\">2018</th>\n      <th>Born in Australia</th>\n      <td>390232</td>\n    </tr>\n    <tr>\n      <th>Born overseas</th>\n      <td>213646</td>\n    </tr>\n    <tr>\n      <th>Not stated</th>\n      <td>2180</td>\n    </tr>\n  </tbody>\n</table>\n</div>"
     },
     "metadata": {},
     "execution_count": 25
    }
   ],
   "source": [
    "# Drop any values's in the topic column that don't relate to the mothers birth country\n",
    "dropped = mothersbirth_df.loc[mothersbirth_df[\"topic\"]== \"Country of birth (mother)\"]\n",
    "\n",
    "# Group data by maternal country of birth and year\n",
    "countryofbirth = dropped.groupby([\"year\", \"topic_disaggregation\"])\n",
    "\n",
    "# Find the total count of each mother per country\n",
    "countofmothers = countryofbirth[\"count\"].sum()\n",
    "\n",
    "# Create a new dataframe to hold calculations for percentage and count of each gender\n",
    "countofmothers_df = pd.DataFrame({\"number_women_gave_birth\": countofmothers})\n",
    "\n",
    "# Add index name and sort by Age\n",
    "countofmothers_df.index.name = \"maternal_birth_country\"\n",
    "\n",
    "\n",
    "# Display the data frame\n",
    "countofmothers_df"
   ]
  },
  {
   "cell_type": "code",
   "execution_count": 26,
   "metadata": {},
   "outputs": [
    {
     "output_type": "execute_result",
     "data": {
      "text/plain": [
       "  place_of_birth                      topic topic_disaggregation  year  \\\n",
       "0       Hospital  Country of birth (mother)    Born in Australia  2018   \n",
       "1       Hospital  Country of birth (mother)        Born overseas  2018   \n",
       "2       Hospital  Country of birth (mother)           Not stated  2018   \n",
       "3   Birth centre  Country of birth (mother)    Born in Australia  2018   \n",
       "4   Birth centre  Country of birth (mother)        Born overseas  2018   \n",
       "\n",
       "    count  year_total  percent_total  \n",
       "0  184638      192172           96.1  \n",
       "1  102141      105383           96.9  \n",
       "2     810        1075           75.3  \n",
       "3    5631      192172            2.9  \n",
       "4    2552      105383            2.4  "
      ],
      "text/html": "<div>\n<style scoped>\n    .dataframe tbody tr th:only-of-type {\n        vertical-align: middle;\n    }\n\n    .dataframe tbody tr th {\n        vertical-align: top;\n    }\n\n    .dataframe thead th {\n        text-align: right;\n    }\n</style>\n<table border=\"1\" class=\"dataframe\">\n  <thead>\n    <tr style=\"text-align: right;\">\n      <th></th>\n      <th>place_of_birth</th>\n      <th>topic</th>\n      <th>topic_disaggregation</th>\n      <th>year</th>\n      <th>count</th>\n      <th>year_total</th>\n      <th>percent_total</th>\n    </tr>\n  </thead>\n  <tbody>\n    <tr>\n      <th>0</th>\n      <td>Hospital</td>\n      <td>Country of birth (mother)</td>\n      <td>Born in Australia</td>\n      <td>2018</td>\n      <td>184638</td>\n      <td>192172</td>\n      <td>96.1</td>\n    </tr>\n    <tr>\n      <th>1</th>\n      <td>Hospital</td>\n      <td>Country of birth (mother)</td>\n      <td>Born overseas</td>\n      <td>2018</td>\n      <td>102141</td>\n      <td>105383</td>\n      <td>96.9</td>\n    </tr>\n    <tr>\n      <th>2</th>\n      <td>Hospital</td>\n      <td>Country of birth (mother)</td>\n      <td>Not stated</td>\n      <td>2018</td>\n      <td>810</td>\n      <td>1075</td>\n      <td>75.3</td>\n    </tr>\n    <tr>\n      <th>3</th>\n      <td>Birth centre</td>\n      <td>Country of birth (mother)</td>\n      <td>Born in Australia</td>\n      <td>2018</td>\n      <td>5631</td>\n      <td>192172</td>\n      <td>2.9</td>\n    </tr>\n    <tr>\n      <th>4</th>\n      <td>Birth centre</td>\n      <td>Country of birth (mother)</td>\n      <td>Born overseas</td>\n      <td>2018</td>\n      <td>2552</td>\n      <td>105383</td>\n      <td>2.4</td>\n    </tr>\n  </tbody>\n</table>\n</div>"
     },
     "metadata": {},
     "execution_count": 26
    }
   ],
   "source": [
    "# Read in csv for birth location\n",
    "birthlocation = \"finaldata/Table_3.1.csv\"\n",
    "birthlocation_df = pd.read_csv(birthlocation)\n",
    "birthlocation_df.head()"
   ]
  },
  {
   "cell_type": "code",
   "execution_count": 27,
   "metadata": {},
   "outputs": [
    {
     "output_type": "stream",
     "name": "stdout",
     "text": [
      "<class 'pandas.core.frame.DataFrame'>\nRangeIndex: 1730 entries, 0 to 1729\nData columns (total 7 columns):\n #   Column                Non-Null Count  Dtype  \n---  ------                --------------  -----  \n 0   place_of_birth        1730 non-null   object \n 1   topic                 1730 non-null   object \n 2   topic_disaggregation  1730 non-null   object \n 3   year                  1730 non-null   int64  \n 4   count                 1730 non-null   int64  \n 5   year_total            1730 non-null   int64  \n 6   percent_total         1730 non-null   float64\ndtypes: float64(1), int64(3), object(3)\nmemory usage: 94.7+ KB\n"
     ]
    }
   ],
   "source": [
    "# Print datatypes\n",
    "birthlocation_df.info()"
   ]
  },
  {
   "cell_type": "code",
   "execution_count": 28,
   "metadata": {},
   "outputs": [
    {
     "output_type": "execute_result",
     "data": {
      "text/plain": [
       "3025859"
      ]
     },
     "metadata": {},
     "execution_count": 28
    }
   ],
   "source": [
    "# Isolate one set of data, as data is replicated across multiple topics \n",
    "placeofbirthfilter = birthlocation_df.loc[birthlocation_df[\"topic\"]== \"Country of birth (mother)\"]\n",
    "\n",
    "# Find the total count of each mother that gave birth in different locations\n",
    "totalcount = placeofbirthfilter[\"count\"].sum()\n",
    "totalcount"
   ]
  },
  {
   "cell_type": "code",
   "execution_count": 29,
   "metadata": {},
   "outputs": [
    {
     "output_type": "execute_result",
     "data": {
      "text/plain": [
       "                number_of_women_per_birthplace\n",
       "place_of_birth                                \n",
       "Birth centre                             66344\n",
       "Home                                     10071\n",
       "Hospital                               2934691\n",
       "Not stated                                 751\n",
       "Other                                    14002"
      ],
      "text/html": "<div>\n<style scoped>\n    .dataframe tbody tr th:only-of-type {\n        vertical-align: middle;\n    }\n\n    .dataframe tbody tr th {\n        vertical-align: top;\n    }\n\n    .dataframe thead th {\n        text-align: right;\n    }\n</style>\n<table border=\"1\" class=\"dataframe\">\n  <thead>\n    <tr style=\"text-align: right;\">\n      <th></th>\n      <th>number_of_women_per_birthplace</th>\n    </tr>\n    <tr>\n      <th>place_of_birth</th>\n      <th></th>\n    </tr>\n  </thead>\n  <tbody>\n    <tr>\n      <th>Birth centre</th>\n      <td>66344</td>\n    </tr>\n    <tr>\n      <th>Home</th>\n      <td>10071</td>\n    </tr>\n    <tr>\n      <th>Hospital</th>\n      <td>2934691</td>\n    </tr>\n    <tr>\n      <th>Not stated</th>\n      <td>751</td>\n    </tr>\n    <tr>\n      <th>Other</th>\n      <td>14002</td>\n    </tr>\n  </tbody>\n</table>\n</div>"
     },
     "metadata": {},
     "execution_count": 29
    }
   ],
   "source": [
    "# Group data by place of birth\n",
    "placeofbirth = placeofbirthfilter.groupby(\"place_of_birth\")\n",
    "\n",
    "# Find the total count of each mother per place of birth\n",
    "countofbirthplace = placeofbirth[\"count\"].sum()\n",
    "\n",
    "# # Create a new dataframe to hold the number of women who gave birth per place of birth\n",
    "countofbirthplace_df = pd.DataFrame({\"number_of_women_per_birthplace\": countofbirthplace})\n",
    "\n",
    "# Display the data frame\n",
    "countofbirthplace_df"
   ]
  },
  {
   "cell_type": "code",
   "execution_count": 30,
   "metadata": {},
   "outputs": [
    {
     "output_type": "execute_result",
     "data": {
      "text/plain": [
       "      number_of_women_per_year\n",
       "year                          \n",
       "2010                    295455\n",
       "2011                    297343\n",
       "2012                    307570\n",
       "2013                    304777\n",
       "2014                    307844\n",
       "2015                    304268\n",
       "2016                    310247\n",
       "2017                    301095\n",
       "2018                    597260"
      ],
      "text/html": "<div>\n<style scoped>\n    .dataframe tbody tr th:only-of-type {\n        vertical-align: middle;\n    }\n\n    .dataframe tbody tr th {\n        vertical-align: top;\n    }\n\n    .dataframe thead th {\n        text-align: right;\n    }\n</style>\n<table border=\"1\" class=\"dataframe\">\n  <thead>\n    <tr style=\"text-align: right;\">\n      <th></th>\n      <th>number_of_women_per_year</th>\n    </tr>\n    <tr>\n      <th>year</th>\n      <th></th>\n    </tr>\n  </thead>\n  <tbody>\n    <tr>\n      <th>2010</th>\n      <td>295455</td>\n    </tr>\n    <tr>\n      <th>2011</th>\n      <td>297343</td>\n    </tr>\n    <tr>\n      <th>2012</th>\n      <td>307570</td>\n    </tr>\n    <tr>\n      <th>2013</th>\n      <td>304777</td>\n    </tr>\n    <tr>\n      <th>2014</th>\n      <td>307844</td>\n    </tr>\n    <tr>\n      <th>2015</th>\n      <td>304268</td>\n    </tr>\n    <tr>\n      <th>2016</th>\n      <td>310247</td>\n    </tr>\n    <tr>\n      <th>2017</th>\n      <td>301095</td>\n    </tr>\n    <tr>\n      <th>2018</th>\n      <td>597260</td>\n    </tr>\n  </tbody>\n</table>\n</div>"
     },
     "metadata": {},
     "execution_count": 30
    }
   ],
   "source": [
    "# Group data by year\n",
    "yearfilter = placeofbirthfilter.groupby([\"year\"])\n",
    "\n",
    "# Find the total count of each mother that gave birth in different locations each year\n",
    "totalyearcount = yearfilter[\"count\"].sum()\n",
    "\n",
    "# Create a new dataframe to hold the number of women who gave birth per place of birth\n",
    "countofyear_df = pd.DataFrame({\"number_of_women_per_year\": totalyearcount})\n",
    "countofyear_df"
   ]
  },
  {
   "cell_type": "code",
   "execution_count": 31,
   "metadata": {},
   "outputs": [
    {
     "output_type": "execute_result",
     "data": {
      "text/plain": [
       "                     number_of_women_per_birthplace\n",
       "year place_of_birth                                \n",
       "2010 Birth centre                              6361\n",
       "     Home                                      1281\n",
       "     Hospital                                286238\n",
       "     Not stated                                 288\n",
       "     Other                                     1287\n",
       "2011 Birth centre                              6614\n",
       "     Home                                      1223\n",
       "     Hospital                                288182\n",
       "     Not stated                                 202\n",
       "     Other                                     1122\n",
       "2012 Birth centre                              6942\n",
       "     Home                                      1177\n",
       "     Hospital                                298083\n",
       "     Not stated                                  35\n",
       "     Other                                     1333\n",
       "2013 Birth centre                              6085\n",
       "     Home                                       958\n",
       "     Hospital                                296611\n",
       "     Not stated                                 139\n",
       "     Other                                      984\n",
       "2014 Birth centre                              5546\n",
       "     Home                                       923\n",
       "     Hospital                                300282\n",
       "     Not stated                                  13\n",
       "     Other                                     1080\n",
       "2015 Birth centre                              5491\n",
       "     Home                                       910\n",
       "     Hospital                                296602\n",
       "     Not stated                                   0\n",
       "     Other                                     1265\n",
       "2016 Birth centre                              5640\n",
       "     Home                                       905\n",
       "     Hospital                                302463\n",
       "     Not stated                                   2\n",
       "     Other                                     1237\n",
       "2017 Birth centre                              7247\n",
       "     Home                                       806\n",
       "     Hospital                                291052\n",
       "     Not stated                                  16\n",
       "     Other                                     1974\n",
       "2018 Birth centre                             16418\n",
       "     Home                                      1888\n",
       "     Hospital                                575178\n",
       "     Not stated                                  56\n",
       "     Other                                     3720"
      ],
      "text/html": "<div>\n<style scoped>\n    .dataframe tbody tr th:only-of-type {\n        vertical-align: middle;\n    }\n\n    .dataframe tbody tr th {\n        vertical-align: top;\n    }\n\n    .dataframe thead th {\n        text-align: right;\n    }\n</style>\n<table border=\"1\" class=\"dataframe\">\n  <thead>\n    <tr style=\"text-align: right;\">\n      <th></th>\n      <th></th>\n      <th>number_of_women_per_birthplace</th>\n    </tr>\n    <tr>\n      <th>year</th>\n      <th>place_of_birth</th>\n      <th></th>\n    </tr>\n  </thead>\n  <tbody>\n    <tr>\n      <th rowspan=\"5\" valign=\"top\">2010</th>\n      <th>Birth centre</th>\n      <td>6361</td>\n    </tr>\n    <tr>\n      <th>Home</th>\n      <td>1281</td>\n    </tr>\n    <tr>\n      <th>Hospital</th>\n      <td>286238</td>\n    </tr>\n    <tr>\n      <th>Not stated</th>\n      <td>288</td>\n    </tr>\n    <tr>\n      <th>Other</th>\n      <td>1287</td>\n    </tr>\n    <tr>\n      <th rowspan=\"5\" valign=\"top\">2011</th>\n      <th>Birth centre</th>\n      <td>6614</td>\n    </tr>\n    <tr>\n      <th>Home</th>\n      <td>1223</td>\n    </tr>\n    <tr>\n      <th>Hospital</th>\n      <td>288182</td>\n    </tr>\n    <tr>\n      <th>Not stated</th>\n      <td>202</td>\n    </tr>\n    <tr>\n      <th>Other</th>\n      <td>1122</td>\n    </tr>\n    <tr>\n      <th rowspan=\"5\" valign=\"top\">2012</th>\n      <th>Birth centre</th>\n      <td>6942</td>\n    </tr>\n    <tr>\n      <th>Home</th>\n      <td>1177</td>\n    </tr>\n    <tr>\n      <th>Hospital</th>\n      <td>298083</td>\n    </tr>\n    <tr>\n      <th>Not stated</th>\n      <td>35</td>\n    </tr>\n    <tr>\n      <th>Other</th>\n      <td>1333</td>\n    </tr>\n    <tr>\n      <th rowspan=\"5\" valign=\"top\">2013</th>\n      <th>Birth centre</th>\n      <td>6085</td>\n    </tr>\n    <tr>\n      <th>Home</th>\n      <td>958</td>\n    </tr>\n    <tr>\n      <th>Hospital</th>\n      <td>296611</td>\n    </tr>\n    <tr>\n      <th>Not stated</th>\n      <td>139</td>\n    </tr>\n    <tr>\n      <th>Other</th>\n      <td>984</td>\n    </tr>\n    <tr>\n      <th rowspan=\"5\" valign=\"top\">2014</th>\n      <th>Birth centre</th>\n      <td>5546</td>\n    </tr>\n    <tr>\n      <th>Home</th>\n      <td>923</td>\n    </tr>\n    <tr>\n      <th>Hospital</th>\n      <td>300282</td>\n    </tr>\n    <tr>\n      <th>Not stated</th>\n      <td>13</td>\n    </tr>\n    <tr>\n      <th>Other</th>\n      <td>1080</td>\n    </tr>\n    <tr>\n      <th rowspan=\"5\" valign=\"top\">2015</th>\n      <th>Birth centre</th>\n      <td>5491</td>\n    </tr>\n    <tr>\n      <th>Home</th>\n      <td>910</td>\n    </tr>\n    <tr>\n      <th>Hospital</th>\n      <td>296602</td>\n    </tr>\n    <tr>\n      <th>Not stated</th>\n      <td>0</td>\n    </tr>\n    <tr>\n      <th>Other</th>\n      <td>1265</td>\n    </tr>\n    <tr>\n      <th rowspan=\"5\" valign=\"top\">2016</th>\n      <th>Birth centre</th>\n      <td>5640</td>\n    </tr>\n    <tr>\n      <th>Home</th>\n      <td>905</td>\n    </tr>\n    <tr>\n      <th>Hospital</th>\n      <td>302463</td>\n    </tr>\n    <tr>\n      <th>Not stated</th>\n      <td>2</td>\n    </tr>\n    <tr>\n      <th>Other</th>\n      <td>1237</td>\n    </tr>\n    <tr>\n      <th rowspan=\"5\" valign=\"top\">2017</th>\n      <th>Birth centre</th>\n      <td>7247</td>\n    </tr>\n    <tr>\n      <th>Home</th>\n      <td>806</td>\n    </tr>\n    <tr>\n      <th>Hospital</th>\n      <td>291052</td>\n    </tr>\n    <tr>\n      <th>Not stated</th>\n      <td>16</td>\n    </tr>\n    <tr>\n      <th>Other</th>\n      <td>1974</td>\n    </tr>\n    <tr>\n      <th rowspan=\"5\" valign=\"top\">2018</th>\n      <th>Birth centre</th>\n      <td>16418</td>\n    </tr>\n    <tr>\n      <th>Home</th>\n      <td>1888</td>\n    </tr>\n    <tr>\n      <th>Hospital</th>\n      <td>575178</td>\n    </tr>\n    <tr>\n      <th>Not stated</th>\n      <td>56</td>\n    </tr>\n    <tr>\n      <th>Other</th>\n      <td>3720</td>\n    </tr>\n  </tbody>\n</table>\n</div>"
     },
     "metadata": {},
     "execution_count": 31
    }
   ],
   "source": [
    "# Group data by place of birth and year\n",
    "placeofbirth = placeofbirthfilter.groupby([\"year\", \"place_of_birth\"])\n",
    "\n",
    "# Find the total count of each mother per place of birth\n",
    "countofbirthplace = placeofbirth[\"count\"].sum()\n",
    "\n",
    "# # Create a new dataframe to hold the number of women who gave birth per place of birth\n",
    "countofbirthplace_df = pd.DataFrame({\"number_of_women_per_birthplace\": countofbirthplace})\n",
    "\n",
    "# Display the data frame\n",
    "countofbirthplace_df"
   ]
  },
  {
   "cell_type": "code",
   "execution_count": 32,
   "metadata": {},
   "outputs": [],
   "source": [
    "# Connect to postgres database\n",
    "connection_string = (f'{username}:{password}@{hostname}:5432/mothersandbabies')\n",
    "engine = create_engine(f'postgresql://{connection_string}')"
   ]
  },
  {
   "cell_type": "code",
   "execution_count": 33,
   "metadata": {},
   "outputs": [
    {
     "output_type": "execute_result",
     "data": {
      "text/plain": [
       "['mothers', 'mothersbirthcountry', 'birthlocation']"
      ]
     },
     "metadata": {},
     "execution_count": 33
    }
   ],
   "source": [
    "# Check available tables in postgres database\n",
    "engine.table_names()"
   ]
  },
  {
   "cell_type": "code",
   "execution_count": 34,
   "metadata": {},
   "outputs": [],
   "source": [
    "# Load panda's dataframe to postgres sql table\n",
    "mothers_df.to_sql(name='mothers', con=engine, if_exists='append', index=True)\n",
    "mothersbirth_df.to_sql(name='mothersbirthcountry', con=engine, if_exists='append', index=True)\n",
    "birthlocation_df.to_sql(name='birthlocation', con=engine, if_exists='append', index=True)"
   ]
  }
 ]
}