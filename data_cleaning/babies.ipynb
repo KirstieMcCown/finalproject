{
 "metadata": {
  "language_info": {
   "codemirror_mode": {
    "name": "ipython",
    "version": 3
   },
   "file_extension": ".py",
   "mimetype": "text/x-python",
   "name": "python",
   "nbconvert_exporter": "python",
   "pygments_lexer": "ipython3",
   "version": "3.6.12-final"
  },
  "orig_nbformat": 2,
  "kernelspec": {
   "name": "python3",
   "display_name": "Python 3.6.12 64-bit ('PythonAdv': conda)",
   "metadata": {
    "interpreter": {
     "hash": "6340ebdd750fb120c69d52905c3e0f3fc3af95b9464c226bc98001ae2708df00"
    }
   }
  }
 },
 "nbformat": 4,
 "nbformat_minor": 2,
 "cells": [
  {
   "cell_type": "code",
   "execution_count": 1,
   "metadata": {},
   "outputs": [],
   "source": [
    "import pandas as pd"
   ]
  },
  {
   "cell_type": "code",
   "execution_count": 2,
   "metadata": {},
   "outputs": [],
   "source": [
    "from sqlalchemy import create_engine\n",
    "from config import database\n",
    "from config import username\n",
    "from config import password\n",
    "from config import hostname"
   ]
  },
  {
   "cell_type": "code",
   "execution_count": 3,
   "metadata": {},
   "outputs": [
    {
     "output_type": "execute_result",
     "data": {
      "text/plain": [
       "  babies_term                  topic topic_disaggregation  year   count  \\\n",
       "0    Pre-term  Admission to SCN/NICU             Admitted  2018   11839   \n",
       "1    Pre-term  Admission to SCN/NICU         Not admitted  2018    2945   \n",
       "2    Pre-term  Admission to SCN/NICU           Not stated  2018      33   \n",
       "3        Term  Admission to SCN/NICU             Admitted  2018   19917   \n",
       "4        Term  Admission to SCN/NICU         Not admitted  2018  136360   \n",
       "\n",
       "   year_total  percent_total  lat  long  \n",
       "0       31838           37.2  NaN   NaN  \n",
       "1      139691            2.1  NaN   NaN  \n",
       "2        1227            2.7  NaN   NaN  \n",
       "3       31838           62.6  NaN   NaN  \n",
       "4      139691           97.6  NaN   NaN  "
      ],
      "text/html": "<div>\n<style scoped>\n    .dataframe tbody tr th:only-of-type {\n        vertical-align: middle;\n    }\n\n    .dataframe tbody tr th {\n        vertical-align: top;\n    }\n\n    .dataframe thead th {\n        text-align: right;\n    }\n</style>\n<table border=\"1\" class=\"dataframe\">\n  <thead>\n    <tr style=\"text-align: right;\">\n      <th></th>\n      <th>babies_term</th>\n      <th>topic</th>\n      <th>topic_disaggregation</th>\n      <th>year</th>\n      <th>count</th>\n      <th>year_total</th>\n      <th>percent_total</th>\n      <th>lat</th>\n      <th>long</th>\n    </tr>\n  </thead>\n  <tbody>\n    <tr>\n      <th>0</th>\n      <td>Pre-term</td>\n      <td>Admission to SCN/NICU</td>\n      <td>Admitted</td>\n      <td>2018</td>\n      <td>11839</td>\n      <td>31838</td>\n      <td>37.2</td>\n      <td>NaN</td>\n      <td>NaN</td>\n    </tr>\n    <tr>\n      <th>1</th>\n      <td>Pre-term</td>\n      <td>Admission to SCN/NICU</td>\n      <td>Not admitted</td>\n      <td>2018</td>\n      <td>2945</td>\n      <td>139691</td>\n      <td>2.1</td>\n      <td>NaN</td>\n      <td>NaN</td>\n    </tr>\n    <tr>\n      <th>2</th>\n      <td>Pre-term</td>\n      <td>Admission to SCN/NICU</td>\n      <td>Not stated</td>\n      <td>2018</td>\n      <td>33</td>\n      <td>1227</td>\n      <td>2.7</td>\n      <td>NaN</td>\n      <td>NaN</td>\n    </tr>\n    <tr>\n      <th>3</th>\n      <td>Term</td>\n      <td>Admission to SCN/NICU</td>\n      <td>Admitted</td>\n      <td>2018</td>\n      <td>19917</td>\n      <td>31838</td>\n      <td>62.6</td>\n      <td>NaN</td>\n      <td>NaN</td>\n    </tr>\n    <tr>\n      <th>4</th>\n      <td>Term</td>\n      <td>Admission to SCN/NICU</td>\n      <td>Not admitted</td>\n      <td>2018</td>\n      <td>136360</td>\n      <td>139691</td>\n      <td>97.6</td>\n      <td>NaN</td>\n      <td>NaN</td>\n    </tr>\n  </tbody>\n</table>\n</div>"
     },
     "metadata": {},
     "execution_count": 3
    }
   ],
   "source": [
    "# Read in csv\n",
    "babies = \"finaldata/Table_4.1.csv\"\n",
    "babies_df = pd.read_csv(babies)\n",
    "babies_df.head()"
   ]
  },
  {
   "cell_type": "code",
   "execution_count": 4,
   "metadata": {},
   "outputs": [
    {
     "output_type": "execute_result",
     "data": {
      "text/plain": [
       "Index(['babies_term', 'topic', 'topic_disaggregation', 'year', 'count',\n",
       "       'year_total', 'percent_total', 'lat', 'long'],\n",
       "      dtype='object')"
      ]
     },
     "metadata": {},
     "execution_count": 4
    }
   ],
   "source": [
    "# View all columns for df to decide what to keep\n",
    "babies_df.columns"
   ]
  },
  {
   "cell_type": "code",
   "execution_count": 5,
   "metadata": {},
   "outputs": [
    {
     "output_type": "stream",
     "name": "stdout",
     "text": [
      "<class 'pandas.core.frame.DataFrame'>\nRangeIndex: 2646 entries, 0 to 2645\nData columns (total 9 columns):\n #   Column                Non-Null Count  Dtype  \n---  ------                --------------  -----  \n 0   babies_term           2646 non-null   object \n 1   topic                 2646 non-null   object \n 2   topic_disaggregation  2646 non-null   object \n 3   year                  2646 non-null   int64  \n 4   count                 2646 non-null   int64  \n 5   year_total            2646 non-null   int64  \n 6   percent_total         2646 non-null   float64\n 7   lat                   320 non-null    float64\n 8   long                  320 non-null    float64\ndtypes: float64(3), int64(3), object(3)\nmemory usage: 186.2+ KB\n"
     ]
    }
   ],
   "source": [
    "# Print \n",
    "babies_df.info()"
   ]
  },
  {
   "cell_type": "code",
   "execution_count": 6,
   "metadata": {},
   "outputs": [
    {
     "output_type": "execute_result",
     "data": {
      "text/plain": [
       "babies_term              object\n",
       "topic                    object\n",
       "topic_disaggregation     object\n",
       "year                      int64\n",
       "count                     int64\n",
       "year_total                int64\n",
       "percent_total           float64\n",
       "lat                     float64\n",
       "long                    float64\n",
       "dtype: object"
      ]
     },
     "metadata": {},
     "execution_count": 6
    }
   ],
   "source": [
    "# Check and change data types if required\n",
    "babies_df.dtypes"
   ]
  },
  {
   "cell_type": "code",
   "execution_count": 7,
   "metadata": {},
   "outputs": [
    {
     "output_type": "execute_result",
     "data": {
      "text/plain": [
       "   Number of Babies Born\n",
       "0               47552179"
      ],
      "text/html": "<div>\n<style scoped>\n    .dataframe tbody tr th:only-of-type {\n        vertical-align: middle;\n    }\n\n    .dataframe tbody tr th {\n        vertical-align: top;\n    }\n\n    .dataframe thead th {\n        text-align: right;\n    }\n</style>\n<table border=\"1\" class=\"dataframe\">\n  <thead>\n    <tr style=\"text-align: right;\">\n      <th></th>\n      <th>Number of Babies Born</th>\n    </tr>\n  </thead>\n  <tbody>\n    <tr>\n      <th>0</th>\n      <td>47552179</td>\n    </tr>\n  </tbody>\n</table>\n</div>"
     },
     "metadata": {},
     "execution_count": 7
    }
   ],
   "source": [
    "# Count the total number of babies born between 2010 and 2018\n",
    "total_births = babies_df[\"count\"].sum()\n",
    "total_births_df = pd.DataFrame ({\"Number of Babies Born\":[total_births]})\n",
    "\n",
    "# Display the data frame\n",
    "total_births_df"
   ]
  },
  {
   "cell_type": "code",
   "execution_count": 8,
   "metadata": {},
   "outputs": [],
   "source": [
    "# Connect to postgres database\n",
    "connection_string = (f'{username}:{password}@{hostname}:5432/mothersandbabies')\n",
    "engine = create_engine(f'postgresql://{connection_string}')"
   ]
  },
  {
   "cell_type": "code",
   "execution_count": 9,
   "metadata": {},
   "outputs": [
    {
     "output_type": "execute_result",
     "data": {
      "text/plain": [
       "['babies',\n",
       " 'numberchildrenadopted',\n",
       " 'adoptionsbytype',\n",
       " 'mothers',\n",
       " 'mothersbirthcountry',\n",
       " 'birthlocation',\n",
       " 'ageofbirthmother',\n",
       " 'adoptionbyageandgender',\n",
       " 'parentrelationship',\n",
       " 'adoptiveparentrelationship',\n",
       " 'typeofadoption',\n",
       " 'intercountry_bycountryoforigin',\n",
       " 'intercountry_byagegroup',\n",
       " 'intercountry_bysiblinggroup',\n",
       " 'adoptionprocesstime',\n",
       " 'babiessexcount',\n",
       " 'yearcount',\n",
       " 'averageage',\n",
       " 'birthstate',\n",
       " 'termbabiescount']"
      ]
     },
     "metadata": {},
     "execution_count": 9
    }
   ],
   "source": [
    "# Check available tables in postgres database\n",
    "engine.table_names()"
   ]
  },
  {
   "cell_type": "code",
   "execution_count": 10,
   "metadata": {},
   "outputs": [],
   "source": [
    "# Load panda's dataframe to postgres sql table\n",
    "babies_df.to_sql(name='babies', con=engine, if_exists='append', index=True)"
   ]
  },
  {
   "cell_type": "code",
   "execution_count": 11,
   "metadata": {},
   "outputs": [
    {
     "output_type": "execute_result",
     "data": {
      "text/plain": [
       "                                       babies_count\n",
       "year babies_term topic_disaggregation              \n",
       "2010 Not stated  Female                          20\n",
       "                 Male                            43\n",
       "     Post-term   Female                        1125\n",
       "                 Male                          1235\n",
       "     Pre-term    Female                       11455\n",
       "                 Male                         13273\n",
       "     Term        Female                      133861\n",
       "                 Male                        138999\n",
       "2011 Not stated  Female                          31\n",
       "                 Male                            36\n",
       "     Post-term   Female                         966\n",
       "                 Male                          1122\n",
       "     Pre-term    Female                       11679\n",
       "                 Male                         13386\n",
       "     Term        Female                      133985\n",
       "                 Male                        140661\n",
       "2012 Not stated  Female                          39\n",
       "                 Male                            33\n",
       "     Post-term   Female                         907\n",
       "                 Male                           984"
      ],
      "text/html": "<div>\n<style scoped>\n    .dataframe tbody tr th:only-of-type {\n        vertical-align: middle;\n    }\n\n    .dataframe tbody tr th {\n        vertical-align: top;\n    }\n\n    .dataframe thead th {\n        text-align: right;\n    }\n</style>\n<table border=\"1\" class=\"dataframe\">\n  <thead>\n    <tr style=\"text-align: right;\">\n      <th></th>\n      <th></th>\n      <th></th>\n      <th>babies_count</th>\n    </tr>\n    <tr>\n      <th>year</th>\n      <th>babies_term</th>\n      <th>topic_disaggregation</th>\n      <th></th>\n    </tr>\n  </thead>\n  <tbody>\n    <tr>\n      <th rowspan=\"8\" valign=\"top\">2010</th>\n      <th rowspan=\"2\" valign=\"top\">Not stated</th>\n      <th>Female</th>\n      <td>20</td>\n    </tr>\n    <tr>\n      <th>Male</th>\n      <td>43</td>\n    </tr>\n    <tr>\n      <th rowspan=\"2\" valign=\"top\">Post-term</th>\n      <th>Female</th>\n      <td>1125</td>\n    </tr>\n    <tr>\n      <th>Male</th>\n      <td>1235</td>\n    </tr>\n    <tr>\n      <th rowspan=\"2\" valign=\"top\">Pre-term</th>\n      <th>Female</th>\n      <td>11455</td>\n    </tr>\n    <tr>\n      <th>Male</th>\n      <td>13273</td>\n    </tr>\n    <tr>\n      <th rowspan=\"2\" valign=\"top\">Term</th>\n      <th>Female</th>\n      <td>133861</td>\n    </tr>\n    <tr>\n      <th>Male</th>\n      <td>138999</td>\n    </tr>\n    <tr>\n      <th rowspan=\"8\" valign=\"top\">2011</th>\n      <th rowspan=\"2\" valign=\"top\">Not stated</th>\n      <th>Female</th>\n      <td>31</td>\n    </tr>\n    <tr>\n      <th>Male</th>\n      <td>36</td>\n    </tr>\n    <tr>\n      <th rowspan=\"2\" valign=\"top\">Post-term</th>\n      <th>Female</th>\n      <td>966</td>\n    </tr>\n    <tr>\n      <th>Male</th>\n      <td>1122</td>\n    </tr>\n    <tr>\n      <th rowspan=\"2\" valign=\"top\">Pre-term</th>\n      <th>Female</th>\n      <td>11679</td>\n    </tr>\n    <tr>\n      <th>Male</th>\n      <td>13386</td>\n    </tr>\n    <tr>\n      <th rowspan=\"2\" valign=\"top\">Term</th>\n      <th>Female</th>\n      <td>133985</td>\n    </tr>\n    <tr>\n      <th>Male</th>\n      <td>140661</td>\n    </tr>\n    <tr>\n      <th rowspan=\"4\" valign=\"top\">2012</th>\n      <th rowspan=\"2\" valign=\"top\">Not stated</th>\n      <th>Female</th>\n      <td>39</td>\n    </tr>\n    <tr>\n      <th>Male</th>\n      <td>33</td>\n    </tr>\n    <tr>\n      <th rowspan=\"2\" valign=\"top\">Post-term</th>\n      <th>Female</th>\n      <td>907</td>\n    </tr>\n    <tr>\n      <th>Male</th>\n      <td>984</td>\n    </tr>\n  </tbody>\n</table>\n</div>"
     },
     "metadata": {},
     "execution_count": 11
    }
   ],
   "source": [
    "# Count the total number of babies born per year based on term and sex\n",
    "dropped = babies_df.loc[babies_df[\"topic\"]== \"Sex\"]\n",
    "dropped = dropped.loc[dropped[\"topic_disaggregation\"]!= \"Indeterminate/Not stated\"]\n",
    "\n",
    "birth_term = dropped.groupby([\"year\", \"babies_term\", \"topic_disaggregation\"])\n",
    "\n",
    "babies_count = birth_term[\"count\"].sum()\n",
    "\n",
    "babies_count_df = pd.DataFrame ({\"babies_count\":babies_count})\n",
    "\n",
    "# Display the data frame\n",
    "babies_count_df.head(20)"
   ]
  },
  {
   "cell_type": "code",
   "execution_count": 12,
   "metadata": {},
   "outputs": [
    {
     "output_type": "execute_result",
     "data": {
      "text/plain": [
       "                                  babies_count\n",
       "topic_disaggregation babies_term              \n",
       "Female               Not stated            500\n",
       "                     Post-term            7924\n",
       "                     Pre-term           121207\n",
       "                     Term              1362081\n",
       "Male                 Not stated            552\n",
       "                     Post-term            8586\n",
       "                     Pre-term           140954\n",
       "                     Term              1428777"
      ],
      "text/html": "<div>\n<style scoped>\n    .dataframe tbody tr th:only-of-type {\n        vertical-align: middle;\n    }\n\n    .dataframe tbody tr th {\n        vertical-align: top;\n    }\n\n    .dataframe thead th {\n        text-align: right;\n    }\n</style>\n<table border=\"1\" class=\"dataframe\">\n  <thead>\n    <tr style=\"text-align: right;\">\n      <th></th>\n      <th></th>\n      <th>babies_count</th>\n    </tr>\n    <tr>\n      <th>topic_disaggregation</th>\n      <th>babies_term</th>\n      <th></th>\n    </tr>\n  </thead>\n  <tbody>\n    <tr>\n      <th rowspan=\"4\" valign=\"top\">Female</th>\n      <th>Not stated</th>\n      <td>500</td>\n    </tr>\n    <tr>\n      <th>Post-term</th>\n      <td>7924</td>\n    </tr>\n    <tr>\n      <th>Pre-term</th>\n      <td>121207</td>\n    </tr>\n    <tr>\n      <th>Term</th>\n      <td>1362081</td>\n    </tr>\n    <tr>\n      <th rowspan=\"4\" valign=\"top\">Male</th>\n      <th>Not stated</th>\n      <td>552</td>\n    </tr>\n    <tr>\n      <th>Post-term</th>\n      <td>8586</td>\n    </tr>\n    <tr>\n      <th>Pre-term</th>\n      <td>140954</td>\n    </tr>\n    <tr>\n      <th>Term</th>\n      <td>1428777</td>\n    </tr>\n  </tbody>\n</table>\n</div>"
     },
     "metadata": {},
     "execution_count": 12
    }
   ],
   "source": [
    "# Count the total number of babies born per year based on term and sex\n",
    "dropped = babies_df.loc[babies_df[\"topic\"]== \"Sex\"]\n",
    "dropped = dropped.loc[dropped[\"topic_disaggregation\"]!= \"Indeterminate/Not stated\"]\n",
    "\n",
    "birth_term = dropped.groupby([\"topic_disaggregation\", \"babies_term\"])\n",
    "\n",
    "babies_count = birth_term[\"count\"].sum()\n",
    "\n",
    "babies_count_df2 = pd.DataFrame ({\"babies_count\":babies_count})\n",
    "\n",
    "# Display the data frame\n",
    "babies_count_df2.head(20)"
   ]
  },
  {
   "cell_type": "code",
   "execution_count": 13,
   "metadata": {},
   "outputs": [
    {
     "output_type": "execute_result",
     "data": {
      "text/plain": [
       "      babies_count\n",
       "year              \n",
       "2010       3760519\n",
       "2011       3780238\n",
       "2012       5045193\n",
       "2013       5010371\n",
       "2014       5062028\n",
       "2015       5001371\n",
       "2016       5096228\n",
       "2017       4933955\n",
       "2018       9862276"
      ],
      "text/html": "<div>\n<style scoped>\n    .dataframe tbody tr th:only-of-type {\n        vertical-align: middle;\n    }\n\n    .dataframe tbody tr th {\n        vertical-align: top;\n    }\n\n    .dataframe thead th {\n        text-align: right;\n    }\n</style>\n<table border=\"1\" class=\"dataframe\">\n  <thead>\n    <tr style=\"text-align: right;\">\n      <th></th>\n      <th>babies_count</th>\n    </tr>\n    <tr>\n      <th>year</th>\n      <th></th>\n    </tr>\n  </thead>\n  <tbody>\n    <tr>\n      <th>2010</th>\n      <td>3760519</td>\n    </tr>\n    <tr>\n      <th>2011</th>\n      <td>3780238</td>\n    </tr>\n    <tr>\n      <th>2012</th>\n      <td>5045193</td>\n    </tr>\n    <tr>\n      <th>2013</th>\n      <td>5010371</td>\n    </tr>\n    <tr>\n      <th>2014</th>\n      <td>5062028</td>\n    </tr>\n    <tr>\n      <th>2015</th>\n      <td>5001371</td>\n    </tr>\n    <tr>\n      <th>2016</th>\n      <td>5096228</td>\n    </tr>\n    <tr>\n      <th>2017</th>\n      <td>4933955</td>\n    </tr>\n    <tr>\n      <th>2018</th>\n      <td>9862276</td>\n    </tr>\n  </tbody>\n</table>\n</div>"
     },
     "metadata": {},
     "execution_count": 13
    }
   ],
   "source": [
    "# Count the total number of babies born per year\n",
    "peryear = babies_df.groupby([\"year\"])\n",
    "\n",
    "babies_yearcount = peryear[\"count\"].sum()\n",
    "\n",
    "babies_yearcount_df = pd.DataFrame ({\"babies_count\":babies_yearcount})\n",
    "\n",
    "# Display the data frame\n",
    "babies_yearcount_df.head(20)"
   ]
  },
  {
   "cell_type": "code",
   "execution_count": 14,
   "metadata": {},
   "outputs": [
    {
     "output_type": "execute_result",
     "data": {
      "text/plain": [
       "                           babies_count\n",
       "year topic_disaggregation              \n",
       "2010 Other multiples                222\n",
       "     Singleton                   290773\n",
       "     Twins                         9220\n",
       "2011 Other multiples                228\n",
       "     Singleton                   292736\n",
       "     Twins                         9060\n",
       "2012 Other multiples                191\n",
       "     Singleton                   301025\n",
       "     Twins                         9062\n",
       "2013 Other multiples                249\n",
       "     Singleton                   300148\n",
       "     Twins                         9092\n",
       "2014 Other multiples                219\n",
       "     Singleton                   303207\n",
       "     Twins                         9116\n",
       "2015 Other multiples                237\n",
       "     Singleton                   299728\n",
       "     Twins                         8922\n",
       "2016 Other multiples                  0\n",
       "     Singleton                   305734\n",
       "     Twins                         8818\n",
       "2017 Other multiples                  0\n",
       "     Singleton                   296579\n",
       "     Twins                           32\n",
       "2018 Other multiples                378\n",
       "     Singleton                   585868\n",
       "     Twins                        11402"
      ],
      "text/html": "<div>\n<style scoped>\n    .dataframe tbody tr th:only-of-type {\n        vertical-align: middle;\n    }\n\n    .dataframe tbody tr th {\n        vertical-align: top;\n    }\n\n    .dataframe thead th {\n        text-align: right;\n    }\n</style>\n<table border=\"1\" class=\"dataframe\">\n  <thead>\n    <tr style=\"text-align: right;\">\n      <th></th>\n      <th></th>\n      <th>babies_count</th>\n    </tr>\n    <tr>\n      <th>year</th>\n      <th>topic_disaggregation</th>\n      <th></th>\n    </tr>\n  </thead>\n  <tbody>\n    <tr>\n      <th rowspan=\"3\" valign=\"top\">2010</th>\n      <th>Other multiples</th>\n      <td>222</td>\n    </tr>\n    <tr>\n      <th>Singleton</th>\n      <td>290773</td>\n    </tr>\n    <tr>\n      <th>Twins</th>\n      <td>9220</td>\n    </tr>\n    <tr>\n      <th rowspan=\"3\" valign=\"top\">2011</th>\n      <th>Other multiples</th>\n      <td>228</td>\n    </tr>\n    <tr>\n      <th>Singleton</th>\n      <td>292736</td>\n    </tr>\n    <tr>\n      <th>Twins</th>\n      <td>9060</td>\n    </tr>\n    <tr>\n      <th rowspan=\"3\" valign=\"top\">2012</th>\n      <th>Other multiples</th>\n      <td>191</td>\n    </tr>\n    <tr>\n      <th>Singleton</th>\n      <td>301025</td>\n    </tr>\n    <tr>\n      <th>Twins</th>\n      <td>9062</td>\n    </tr>\n    <tr>\n      <th rowspan=\"3\" valign=\"top\">2013</th>\n      <th>Other multiples</th>\n      <td>249</td>\n    </tr>\n    <tr>\n      <th>Singleton</th>\n      <td>300148</td>\n    </tr>\n    <tr>\n      <th>Twins</th>\n      <td>9092</td>\n    </tr>\n    <tr>\n      <th rowspan=\"3\" valign=\"top\">2014</th>\n      <th>Other multiples</th>\n      <td>219</td>\n    </tr>\n    <tr>\n      <th>Singleton</th>\n      <td>303207</td>\n    </tr>\n    <tr>\n      <th>Twins</th>\n      <td>9116</td>\n    </tr>\n    <tr>\n      <th rowspan=\"3\" valign=\"top\">2015</th>\n      <th>Other multiples</th>\n      <td>237</td>\n    </tr>\n    <tr>\n      <th>Singleton</th>\n      <td>299728</td>\n    </tr>\n    <tr>\n      <th>Twins</th>\n      <td>8922</td>\n    </tr>\n    <tr>\n      <th rowspan=\"3\" valign=\"top\">2016</th>\n      <th>Other multiples</th>\n      <td>0</td>\n    </tr>\n    <tr>\n      <th>Singleton</th>\n      <td>305734</td>\n    </tr>\n    <tr>\n      <th>Twins</th>\n      <td>8818</td>\n    </tr>\n    <tr>\n      <th rowspan=\"3\" valign=\"top\">2017</th>\n      <th>Other multiples</th>\n      <td>0</td>\n    </tr>\n    <tr>\n      <th>Singleton</th>\n      <td>296579</td>\n    </tr>\n    <tr>\n      <th>Twins</th>\n      <td>32</td>\n    </tr>\n    <tr>\n      <th rowspan=\"3\" valign=\"top\">2018</th>\n      <th>Other multiples</th>\n      <td>378</td>\n    </tr>\n    <tr>\n      <th>Singleton</th>\n      <td>585868</td>\n    </tr>\n    <tr>\n      <th>Twins</th>\n      <td>11402</td>\n    </tr>\n  </tbody>\n</table>\n</div>"
     },
     "metadata": {},
     "execution_count": 14
    }
   ],
   "source": [
    "# Count the total number of babies born per year based on plurality\n",
    "plural = babies_df.loc[babies_df[\"topic\"]== \"Plurality\"]\n",
    "pluraldropped = plural.loc[plural[\"topic_disaggregation\"]!= \"Not stated\"]\n",
    "\n",
    "byyear = pluraldropped.groupby([\"year\", \"topic_disaggregation\"])\n",
    "\n",
    "plural_count = byyear[\"count\"].sum()\n",
    "\n",
    "plural_count_df = pd.DataFrame ({\"babies_count\":plural_count})\n",
    "\n",
    "# Display the data frame\n",
    "plural_count_df.head(30)"
   ]
  },
  {
   "cell_type": "code",
   "execution_count": 15,
   "metadata": {},
   "outputs": [
    {
     "output_type": "execute_result",
     "data": {
      "text/plain": [
       "                           babies_count\n",
       "year topic_disaggregation              \n",
       "2010 ACT                           5946\n",
       "     NSW                          96486\n",
       "     NT                            3883\n",
       "     QLD                          62025\n",
       "     SA                           20001\n",
       "     TAS                           6137\n",
       "     VIC                          74472\n",
       "     WA                           31265\n",
       "2011 ACT                           5702\n",
       "     NSW                          97238\n",
       "     NT                            3927\n",
       "     QLD                          62171\n",
       "     SA                           20344\n",
       "     TAS                           6323\n",
       "     VIC                          74116\n",
       "     WA                           32204\n",
       "2012 ACT                           6144\n",
       "     NSW                          99507\n",
       "     NT                            4030\n",
       "     QLD                          63709\n",
       "     SA                           20666\n",
       "     TAS                           5940\n",
       "     VIC                          78393\n",
       "     WA                           33862\n",
       "2013 ACT                           6264\n",
       "     NSW                          96968\n",
       "     NT                            4061\n",
       "     QLD                          63157\n",
       "     SA                           20263\n",
       "     TAS                           6021"
      ],
      "text/html": "<div>\n<style scoped>\n    .dataframe tbody tr th:only-of-type {\n        vertical-align: middle;\n    }\n\n    .dataframe tbody tr th {\n        vertical-align: top;\n    }\n\n    .dataframe thead th {\n        text-align: right;\n    }\n</style>\n<table border=\"1\" class=\"dataframe\">\n  <thead>\n    <tr style=\"text-align: right;\">\n      <th></th>\n      <th></th>\n      <th>babies_count</th>\n    </tr>\n    <tr>\n      <th>year</th>\n      <th>topic_disaggregation</th>\n      <th></th>\n    </tr>\n  </thead>\n  <tbody>\n    <tr>\n      <th rowspan=\"8\" valign=\"top\">2010</th>\n      <th>ACT</th>\n      <td>5946</td>\n    </tr>\n    <tr>\n      <th>NSW</th>\n      <td>96486</td>\n    </tr>\n    <tr>\n      <th>NT</th>\n      <td>3883</td>\n    </tr>\n    <tr>\n      <th>QLD</th>\n      <td>62025</td>\n    </tr>\n    <tr>\n      <th>SA</th>\n      <td>20001</td>\n    </tr>\n    <tr>\n      <th>TAS</th>\n      <td>6137</td>\n    </tr>\n    <tr>\n      <th>VIC</th>\n      <td>74472</td>\n    </tr>\n    <tr>\n      <th>WA</th>\n      <td>31265</td>\n    </tr>\n    <tr>\n      <th rowspan=\"8\" valign=\"top\">2011</th>\n      <th>ACT</th>\n      <td>5702</td>\n    </tr>\n    <tr>\n      <th>NSW</th>\n      <td>97238</td>\n    </tr>\n    <tr>\n      <th>NT</th>\n      <td>3927</td>\n    </tr>\n    <tr>\n      <th>QLD</th>\n      <td>62171</td>\n    </tr>\n    <tr>\n      <th>SA</th>\n      <td>20344</td>\n    </tr>\n    <tr>\n      <th>TAS</th>\n      <td>6323</td>\n    </tr>\n    <tr>\n      <th>VIC</th>\n      <td>74116</td>\n    </tr>\n    <tr>\n      <th>WA</th>\n      <td>32204</td>\n    </tr>\n    <tr>\n      <th rowspan=\"8\" valign=\"top\">2012</th>\n      <th>ACT</th>\n      <td>6144</td>\n    </tr>\n    <tr>\n      <th>NSW</th>\n      <td>99507</td>\n    </tr>\n    <tr>\n      <th>NT</th>\n      <td>4030</td>\n    </tr>\n    <tr>\n      <th>QLD</th>\n      <td>63709</td>\n    </tr>\n    <tr>\n      <th>SA</th>\n      <td>20666</td>\n    </tr>\n    <tr>\n      <th>TAS</th>\n      <td>5940</td>\n    </tr>\n    <tr>\n      <th>VIC</th>\n      <td>78393</td>\n    </tr>\n    <tr>\n      <th>WA</th>\n      <td>33862</td>\n    </tr>\n    <tr>\n      <th rowspan=\"6\" valign=\"top\">2013</th>\n      <th>ACT</th>\n      <td>6264</td>\n    </tr>\n    <tr>\n      <th>NSW</th>\n      <td>96968</td>\n    </tr>\n    <tr>\n      <th>NT</th>\n      <td>4061</td>\n    </tr>\n    <tr>\n      <th>QLD</th>\n      <td>63157</td>\n    </tr>\n    <tr>\n      <th>SA</th>\n      <td>20263</td>\n    </tr>\n    <tr>\n      <th>TAS</th>\n      <td>6021</td>\n    </tr>\n  </tbody>\n</table>\n</div>"
     },
     "metadata": {},
     "execution_count": 15
    }
   ],
   "source": [
    "# Count the total number of babies born per year based per state\n",
    "babies_state = babies_df.loc[babies_df[\"topic\"]== \"State and territory of birth\"]\n",
    "\n",
    "state_per_year = babies_state.groupby([\"year\", \"topic_disaggregation\"])\n",
    "\n",
    "state_count = state_per_year[\"count\"].sum()\n",
    "\n",
    "babiesbirthstate = pd.DataFrame ({\"babies_count\":state_count})\n",
    "\n",
    "# Display the data frame\n",
    "babiesbirthstate.head(30)"
   ]
  },
  {
   "cell_type": "code",
   "execution_count": 16,
   "metadata": {},
   "outputs": [
    {
     "output_type": "execute_result",
     "data": {
      "text/plain": [
       "                                                  count\n",
       "year topic_disaggregation lat        long              \n",
       "2010 ACT                  -35.282001 149.128998    5946\n",
       "     NSW                  -32.256943 148.601105   96486\n",
       "     NT                   -12.462827 130.841782    3883\n",
       "     QLD                  -27.470125 153.021072   62025\n",
       "     SA                   -32.492500 137.765839   20001\n",
       "...                                                 ...\n",
       "2018 QLD                  -27.470125 153.021072  120966\n",
       "     SA                   -32.492500 137.765839   38666\n",
       "     TAS                  -42.880554 147.324997   11032\n",
       "     VIC                  -36.757786 144.278702  157818\n",
       "     WA                   -32.056946 115.743889   66854\n",
       "\n",
       "[72 rows x 1 columns]"
      ],
      "text/html": "<div>\n<style scoped>\n    .dataframe tbody tr th:only-of-type {\n        vertical-align: middle;\n    }\n\n    .dataframe tbody tr th {\n        vertical-align: top;\n    }\n\n    .dataframe thead th {\n        text-align: right;\n    }\n</style>\n<table border=\"1\" class=\"dataframe\">\n  <thead>\n    <tr style=\"text-align: right;\">\n      <th></th>\n      <th></th>\n      <th></th>\n      <th></th>\n      <th>count</th>\n    </tr>\n    <tr>\n      <th>year</th>\n      <th>topic_disaggregation</th>\n      <th>lat</th>\n      <th>long</th>\n      <th></th>\n    </tr>\n  </thead>\n  <tbody>\n    <tr>\n      <th rowspan=\"5\" valign=\"top\">2010</th>\n      <th>ACT</th>\n      <th>-35.282001</th>\n      <th>149.128998</th>\n      <td>5946</td>\n    </tr>\n    <tr>\n      <th>NSW</th>\n      <th>-32.256943</th>\n      <th>148.601105</th>\n      <td>96486</td>\n    </tr>\n    <tr>\n      <th>NT</th>\n      <th>-12.462827</th>\n      <th>130.841782</th>\n      <td>3883</td>\n    </tr>\n    <tr>\n      <th>QLD</th>\n      <th>-27.470125</th>\n      <th>153.021072</th>\n      <td>62025</td>\n    </tr>\n    <tr>\n      <th>SA</th>\n      <th>-32.492500</th>\n      <th>137.765839</th>\n      <td>20001</td>\n    </tr>\n    <tr>\n      <th>...</th>\n      <th>...</th>\n      <th>...</th>\n      <th>...</th>\n      <td>...</td>\n    </tr>\n    <tr>\n      <th rowspan=\"5\" valign=\"top\">2018</th>\n      <th>QLD</th>\n      <th>-27.470125</th>\n      <th>153.021072</th>\n      <td>120966</td>\n    </tr>\n    <tr>\n      <th>SA</th>\n      <th>-32.492500</th>\n      <th>137.765839</th>\n      <td>38666</td>\n    </tr>\n    <tr>\n      <th>TAS</th>\n      <th>-42.880554</th>\n      <th>147.324997</th>\n      <td>11032</td>\n    </tr>\n    <tr>\n      <th>VIC</th>\n      <th>-36.757786</th>\n      <th>144.278702</th>\n      <td>157818</td>\n    </tr>\n    <tr>\n      <th>WA</th>\n      <th>-32.056946</th>\n      <th>115.743889</th>\n      <td>66854</td>\n    </tr>\n  </tbody>\n</table>\n<p>72 rows × 1 columns</p>\n</div>"
     },
     "metadata": {},
     "execution_count": 16
    }
   ],
   "source": [
    "# Count the total number of woman who gave birth in each state between 2010 and 2018\n",
    "statedropped = babies_df.loc[babies_df[\"topic\"]== \"State and territory of birth\"]\n",
    "\n",
    "# Group by year and state\n",
    "birth_state = statedropped.groupby([\"year\", \"topic_disaggregation\", \"lat\", \"long\"])\n",
    "\n",
    "birth_state_count = birth_state[\"count\"].sum()\n",
    "\n",
    "birth_state_df_year = pd.DataFrame ({\"count\":birth_state_count})\n",
    "\n",
    "# Display the data frame\n",
    "birth_state_df_year"
   ]
  },
  {
   "cell_type": "code",
   "execution_count": 17,
   "metadata": {},
   "outputs": [],
   "source": [
    "# Load panda's dataframe to postgres sql table\n",
    "birth_state_df_year.to_sql(name='babiesbirthstate', con=engine, if_exists='append', index=True)"
   ]
  },
  {
   "cell_type": "code",
   "execution_count": null,
   "metadata": {},
   "outputs": [],
   "source": []
  },
  {
   "cell_type": "code",
   "execution_count": 13,
   "metadata": {},
   "outputs": [],
   "source": [
    "# Export file as a CSV, without the Pandas index, with the header\n",
    "plural_count_df.to_csv(\"../machine_learning/termbabiescount.csv\", index=False, header=True)"
   ]
  },
  {
   "cell_type": "code",
   "execution_count": 15,
   "metadata": {},
   "outputs": [],
   "source": [
    "# Load panda's dataframe to postgres sql table\n",
    "babies_count_df2.to_sql(name='babiessexcount', con=engine, if_exists='append', index=True)"
   ]
  },
  {
   "cell_type": "code",
   "execution_count": 29,
   "metadata": {},
   "outputs": [],
   "source": [
    "# Load panda's dataframe to postgres sql table\n",
    "babies_count_df.to_sql(name='termbabiescount', con=engine, if_exists='append', index=True)"
   ]
  },
  {
   "cell_type": "code",
   "execution_count": 30,
   "metadata": {},
   "outputs": [],
   "source": [
    "# Export file as a CSV, without the Pandas index, with the header\n",
    "babies_count_df.to_csv(\"../machine_learning/termbabiescount.csv\", index=False, header=True)"
   ]
  }
 ]
}