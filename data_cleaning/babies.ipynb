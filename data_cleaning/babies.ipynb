{
 "metadata": {
  "language_info": {
   "codemirror_mode": {
    "name": "ipython",
    "version": 3
   },
   "file_extension": ".py",
   "mimetype": "text/x-python",
   "name": "python",
   "nbconvert_exporter": "python",
   "pygments_lexer": "ipython3",
   "version": "3.6.12-final"
  },
  "orig_nbformat": 2,
  "kernelspec": {
   "name": "python3",
   "display_name": "Python 3.6.12 64-bit",
   "metadata": {
    "interpreter": {
     "hash": "6340ebdd750fb120c69d52905c3e0f3fc3af95b9464c226bc98001ae2708df00"
    }
   }
  }
 },
 "nbformat": 4,
 "nbformat_minor": 2,
 "cells": [
  {
   "cell_type": "code",
   "execution_count": 1,
   "metadata": {},
   "outputs": [],
   "source": [
    "import pandas as pd"
   ]
  },
  {
   "cell_type": "code",
   "execution_count": 2,
   "metadata": {},
   "outputs": [],
   "source": [
    "from sqlalchemy import create_engine\n",
    "from config import database\n",
    "from config import username\n",
    "from config import password\n",
    "from config import hostname"
   ]
  },
  {
   "cell_type": "code",
   "execution_count": 3,
   "metadata": {},
   "outputs": [
    {
     "output_type": "execute_result",
     "data": {
      "text/plain": [
       "  babies_term                  topic topic_disaggregation  year   count  \\\n",
       "0    Pre-term  Admission to SCN/NICU             Admitted  2018   11839   \n",
       "1    Pre-term  Admission to SCN/NICU         Not admitted  2018    2945   \n",
       "2    Pre-term  Admission to SCN/NICU           Not stated  2018      33   \n",
       "3        Term  Admission to SCN/NICU             Admitted  2018   19917   \n",
       "4        Term  Admission to SCN/NICU         Not admitted  2018  136360   \n",
       "\n",
       "   year_total  percent_total  \n",
       "0       31838           37.2  \n",
       "1      139691            2.1  \n",
       "2        1227            2.7  \n",
       "3       31838           62.6  \n",
       "4      139691           97.6  "
      ],
      "text/html": "<div>\n<style scoped>\n    .dataframe tbody tr th:only-of-type {\n        vertical-align: middle;\n    }\n\n    .dataframe tbody tr th {\n        vertical-align: top;\n    }\n\n    .dataframe thead th {\n        text-align: right;\n    }\n</style>\n<table border=\"1\" class=\"dataframe\">\n  <thead>\n    <tr style=\"text-align: right;\">\n      <th></th>\n      <th>babies_term</th>\n      <th>topic</th>\n      <th>topic_disaggregation</th>\n      <th>year</th>\n      <th>count</th>\n      <th>year_total</th>\n      <th>percent_total</th>\n    </tr>\n  </thead>\n  <tbody>\n    <tr>\n      <th>0</th>\n      <td>Pre-term</td>\n      <td>Admission to SCN/NICU</td>\n      <td>Admitted</td>\n      <td>2018</td>\n      <td>11839</td>\n      <td>31838</td>\n      <td>37.2</td>\n    </tr>\n    <tr>\n      <th>1</th>\n      <td>Pre-term</td>\n      <td>Admission to SCN/NICU</td>\n      <td>Not admitted</td>\n      <td>2018</td>\n      <td>2945</td>\n      <td>139691</td>\n      <td>2.1</td>\n    </tr>\n    <tr>\n      <th>2</th>\n      <td>Pre-term</td>\n      <td>Admission to SCN/NICU</td>\n      <td>Not stated</td>\n      <td>2018</td>\n      <td>33</td>\n      <td>1227</td>\n      <td>2.7</td>\n    </tr>\n    <tr>\n      <th>3</th>\n      <td>Term</td>\n      <td>Admission to SCN/NICU</td>\n      <td>Admitted</td>\n      <td>2018</td>\n      <td>19917</td>\n      <td>31838</td>\n      <td>62.6</td>\n    </tr>\n    <tr>\n      <th>4</th>\n      <td>Term</td>\n      <td>Admission to SCN/NICU</td>\n      <td>Not admitted</td>\n      <td>2018</td>\n      <td>136360</td>\n      <td>139691</td>\n      <td>97.6</td>\n    </tr>\n  </tbody>\n</table>\n</div>"
     },
     "metadata": {},
     "execution_count": 3
    }
   ],
   "source": [
    "# Read in csv\n",
    "babies = \"finaldata/Table_4.1.csv\"\n",
    "babies_df = pd.read_csv(babies)\n",
    "babies_df.head()"
   ]
  },
  {
   "cell_type": "code",
   "execution_count": 4,
   "metadata": {},
   "outputs": [
    {
     "output_type": "execute_result",
     "data": {
      "text/plain": [
       "Index(['babies_term', 'topic', 'topic_disaggregation', 'year', 'count',\n",
       "       'year_total', 'percent_total'],\n",
       "      dtype='object')"
      ]
     },
     "metadata": {},
     "execution_count": 4
    }
   ],
   "source": [
    "# View all columns for df to decide what to keep\n",
    "babies_df.columns"
   ]
  },
  {
   "cell_type": "code",
   "execution_count": 5,
   "metadata": {},
   "outputs": [
    {
     "output_type": "stream",
     "name": "stdout",
     "text": [
      "<class 'pandas.core.frame.DataFrame'>\nRangeIndex: 2646 entries, 0 to 2645\nData columns (total 7 columns):\n #   Column                Non-Null Count  Dtype  \n---  ------                --------------  -----  \n 0   babies_term           2646 non-null   object \n 1   topic                 2646 non-null   object \n 2   topic_disaggregation  2646 non-null   object \n 3   year                  2646 non-null   int64  \n 4   count                 2646 non-null   int64  \n 5   year_total            2646 non-null   int64  \n 6   percent_total         2646 non-null   float64\ndtypes: float64(1), int64(3), object(3)\nmemory usage: 144.8+ KB\n"
     ]
    }
   ],
   "source": [
    "# Print \n",
    "babies_df.info()"
   ]
  },
  {
   "cell_type": "code",
   "execution_count": 6,
   "metadata": {},
   "outputs": [
    {
     "output_type": "execute_result",
     "data": {
      "text/plain": [
       "babies_term              object\n",
       "topic                    object\n",
       "topic_disaggregation     object\n",
       "year                      int64\n",
       "count                     int64\n",
       "year_total                int64\n",
       "percent_total           float64\n",
       "dtype: object"
      ]
     },
     "metadata": {},
     "execution_count": 6
    }
   ],
   "source": [
    "# Check and change data types if required\n",
    "babies_df.dtypes"
   ]
  },
  {
   "cell_type": "code",
   "execution_count": 8,
   "metadata": {},
   "outputs": [],
   "source": [
    "# Connect to postgres database\n",
    "connection_string = (f'{username}:{password}@{hostname}:5432/mothersandbabies')\n",
    "engine = create_engine(f'postgresql://{connection_string}')"
   ]
  },
  {
   "cell_type": "code",
   "execution_count": 14,
   "metadata": {},
   "outputs": [
    {
     "output_type": "execute_result",
     "data": {
      "text/plain": [
       "['babies',\n",
       " 'numberchildrenadopted',\n",
       " 'adoptionsbytype',\n",
       " 'mothers',\n",
       " 'mothersbirthcountry',\n",
       " 'birthlocation',\n",
       " 'ageofbirthmother',\n",
       " 'adoptionbyageandgender',\n",
       " 'parentrelationship',\n",
       " 'adoptiveparentrelationship',\n",
       " 'typeofadoption',\n",
       " 'babiessexcount',\n",
       " 'intercountry_bycountryoforigin',\n",
       " 'intercountry_byagegroup',\n",
       " 'intercountry_bysiblinggroup',\n",
       " 'adoptionprocesstime',\n",
       " 'yearcount',\n",
       " 'averageage',\n",
       " 'birthstate',\n",
       " 'termbabiescount']"
      ]
     },
     "metadata": {},
     "execution_count": 14
    }
   ],
   "source": [
    "# Check available tables in postgres database\n",
    "engine.table_names()"
   ]
  },
  {
   "cell_type": "code",
   "execution_count": 15,
   "metadata": {},
   "outputs": [],
   "source": [
    "# Load panda's dataframe to postgres sql table\n",
    "babies_df.to_sql(name='babies', con=engine, if_exists='append', index=True)"
   ]
  },
  {
   "cell_type": "code",
   "execution_count": 10,
   "metadata": {},
   "outputs": [
    {
     "output_type": "execute_result",
     "data": {
      "text/plain": [
       "                                       babies_count\n",
       "year babies_term topic_disaggregation              \n",
       "2010 Not stated  Female                          20\n",
       "                 Male                            43\n",
       "     Post-term   Female                        1125\n",
       "                 Male                          1235\n",
       "     Pre-term    Female                       11455\n",
       "                 Male                         13273\n",
       "     Term        Female                      133861\n",
       "                 Male                        138999\n",
       "2011 Not stated  Female                          31\n",
       "                 Male                            36\n",
       "     Post-term   Female                         966\n",
       "                 Male                          1122\n",
       "     Pre-term    Female                       11679\n",
       "                 Male                         13386\n",
       "     Term        Female                      133985\n",
       "                 Male                        140661\n",
       "2012 Not stated  Female                          39\n",
       "                 Male                            33\n",
       "     Post-term   Female                         907\n",
       "                 Male                           984"
      ],
      "text/html": "<div>\n<style scoped>\n    .dataframe tbody tr th:only-of-type {\n        vertical-align: middle;\n    }\n\n    .dataframe tbody tr th {\n        vertical-align: top;\n    }\n\n    .dataframe thead th {\n        text-align: right;\n    }\n</style>\n<table border=\"1\" class=\"dataframe\">\n  <thead>\n    <tr style=\"text-align: right;\">\n      <th></th>\n      <th></th>\n      <th></th>\n      <th>babies_count</th>\n    </tr>\n    <tr>\n      <th>year</th>\n      <th>babies_term</th>\n      <th>topic_disaggregation</th>\n      <th></th>\n    </tr>\n  </thead>\n  <tbody>\n    <tr>\n      <th rowspan=\"8\" valign=\"top\">2010</th>\n      <th rowspan=\"2\" valign=\"top\">Not stated</th>\n      <th>Female</th>\n      <td>20</td>\n    </tr>\n    <tr>\n      <th>Male</th>\n      <td>43</td>\n    </tr>\n    <tr>\n      <th rowspan=\"2\" valign=\"top\">Post-term</th>\n      <th>Female</th>\n      <td>1125</td>\n    </tr>\n    <tr>\n      <th>Male</th>\n      <td>1235</td>\n    </tr>\n    <tr>\n      <th rowspan=\"2\" valign=\"top\">Pre-term</th>\n      <th>Female</th>\n      <td>11455</td>\n    </tr>\n    <tr>\n      <th>Male</th>\n      <td>13273</td>\n    </tr>\n    <tr>\n      <th rowspan=\"2\" valign=\"top\">Term</th>\n      <th>Female</th>\n      <td>133861</td>\n    </tr>\n    <tr>\n      <th>Male</th>\n      <td>138999</td>\n    </tr>\n    <tr>\n      <th rowspan=\"8\" valign=\"top\">2011</th>\n      <th rowspan=\"2\" valign=\"top\">Not stated</th>\n      <th>Female</th>\n      <td>31</td>\n    </tr>\n    <tr>\n      <th>Male</th>\n      <td>36</td>\n    </tr>\n    <tr>\n      <th rowspan=\"2\" valign=\"top\">Post-term</th>\n      <th>Female</th>\n      <td>966</td>\n    </tr>\n    <tr>\n      <th>Male</th>\n      <td>1122</td>\n    </tr>\n    <tr>\n      <th rowspan=\"2\" valign=\"top\">Pre-term</th>\n      <th>Female</th>\n      <td>11679</td>\n    </tr>\n    <tr>\n      <th>Male</th>\n      <td>13386</td>\n    </tr>\n    <tr>\n      <th rowspan=\"2\" valign=\"top\">Term</th>\n      <th>Female</th>\n      <td>133985</td>\n    </tr>\n    <tr>\n      <th>Male</th>\n      <td>140661</td>\n    </tr>\n    <tr>\n      <th rowspan=\"4\" valign=\"top\">2012</th>\n      <th rowspan=\"2\" valign=\"top\">Not stated</th>\n      <th>Female</th>\n      <td>39</td>\n    </tr>\n    <tr>\n      <th>Male</th>\n      <td>33</td>\n    </tr>\n    <tr>\n      <th rowspan=\"2\" valign=\"top\">Post-term</th>\n      <th>Female</th>\n      <td>907</td>\n    </tr>\n    <tr>\n      <th>Male</th>\n      <td>984</td>\n    </tr>\n  </tbody>\n</table>\n</div>"
     },
     "metadata": {},
     "execution_count": 10
    }
   ],
   "source": [
    "# Count the total number of babies born per year based on term and sex\n",
    "dropped = babies_df.loc[babies_df[\"topic\"]== \"Sex\"]\n",
    "dropped = dropped.loc[dropped[\"topic_disaggregation\"]!= \"Indeterminate/Not stated\"]\n",
    "\n",
    "birth_term = dropped.groupby([\"year\", \"babies_term\", \"topic_disaggregation\"])\n",
    "\n",
    "babies_count = birth_term[\"count\"].sum()\n",
    "\n",
    "babies_count_df = pd.DataFrame ({\"babies_count\":babies_count})\n",
    "\n",
    "# Display the data frame\n",
    "babies_count_df.head(20)"
   ]
  },
  {
   "cell_type": "code",
   "execution_count": 12,
   "metadata": {},
   "outputs": [
    {
     "output_type": "execute_result",
     "data": {
      "text/plain": [
       "                                  babies_count\n",
       "topic_disaggregation babies_term              \n",
       "Female               Not stated            500\n",
       "                     Post-term            7924\n",
       "                     Pre-term           121207\n",
       "                     Term              1362081\n",
       "Male                 Not stated            552\n",
       "                     Post-term            8586\n",
       "                     Pre-term           140954\n",
       "                     Term              1428777"
      ],
      "text/html": "<div>\n<style scoped>\n    .dataframe tbody tr th:only-of-type {\n        vertical-align: middle;\n    }\n\n    .dataframe tbody tr th {\n        vertical-align: top;\n    }\n\n    .dataframe thead th {\n        text-align: right;\n    }\n</style>\n<table border=\"1\" class=\"dataframe\">\n  <thead>\n    <tr style=\"text-align: right;\">\n      <th></th>\n      <th></th>\n      <th>babies_count</th>\n    </tr>\n    <tr>\n      <th>topic_disaggregation</th>\n      <th>babies_term</th>\n      <th></th>\n    </tr>\n  </thead>\n  <tbody>\n    <tr>\n      <th rowspan=\"4\" valign=\"top\">Female</th>\n      <th>Not stated</th>\n      <td>500</td>\n    </tr>\n    <tr>\n      <th>Post-term</th>\n      <td>7924</td>\n    </tr>\n    <tr>\n      <th>Pre-term</th>\n      <td>121207</td>\n    </tr>\n    <tr>\n      <th>Term</th>\n      <td>1362081</td>\n    </tr>\n    <tr>\n      <th rowspan=\"4\" valign=\"top\">Male</th>\n      <th>Not stated</th>\n      <td>552</td>\n    </tr>\n    <tr>\n      <th>Post-term</th>\n      <td>8586</td>\n    </tr>\n    <tr>\n      <th>Pre-term</th>\n      <td>140954</td>\n    </tr>\n    <tr>\n      <th>Term</th>\n      <td>1428777</td>\n    </tr>\n  </tbody>\n</table>\n</div>"
     },
     "metadata": {},
     "execution_count": 12
    }
   ],
   "source": [
    "# Count the total number of babies born per year based on term and sex\n",
    "dropped = babies_df.loc[babies_df[\"topic\"]== \"Sex\"]\n",
    "dropped = dropped.loc[dropped[\"topic_disaggregation\"]!= \"Indeterminate/Not stated\"]\n",
    "\n",
    "birth_term = dropped.groupby([\"topic_disaggregation\", \"babies_term\"])\n",
    "\n",
    "babies_count = birth_term[\"count\"].sum()\n",
    "\n",
    "babies_count_df2 = pd.DataFrame ({\"babies_count\":babies_count})\n",
    "\n",
    "# Display the data frame\n",
    "babies_count_df2.head(20)"
   ]
  },
  {
   "cell_type": "code",
   "execution_count": 8,
   "metadata": {},
   "outputs": [
    {
     "output_type": "execute_result",
     "data": {
      "text/plain": [
       "      babies_count\n",
       "year              \n",
       "2010       3760519\n",
       "2011       3780238\n",
       "2012       5045193\n",
       "2013       5010371\n",
       "2014       5062028\n",
       "2015       5001371\n",
       "2016       5096228\n",
       "2017       4933955\n",
       "2018       9862276"
      ],
      "text/html": "<div>\n<style scoped>\n    .dataframe tbody tr th:only-of-type {\n        vertical-align: middle;\n    }\n\n    .dataframe tbody tr th {\n        vertical-align: top;\n    }\n\n    .dataframe thead th {\n        text-align: right;\n    }\n</style>\n<table border=\"1\" class=\"dataframe\">\n  <thead>\n    <tr style=\"text-align: right;\">\n      <th></th>\n      <th>babies_count</th>\n    </tr>\n    <tr>\n      <th>year</th>\n      <th></th>\n    </tr>\n  </thead>\n  <tbody>\n    <tr>\n      <th>2010</th>\n      <td>3760519</td>\n    </tr>\n    <tr>\n      <th>2011</th>\n      <td>3780238</td>\n    </tr>\n    <tr>\n      <th>2012</th>\n      <td>5045193</td>\n    </tr>\n    <tr>\n      <th>2013</th>\n      <td>5010371</td>\n    </tr>\n    <tr>\n      <th>2014</th>\n      <td>5062028</td>\n    </tr>\n    <tr>\n      <th>2015</th>\n      <td>5001371</td>\n    </tr>\n    <tr>\n      <th>2016</th>\n      <td>5096228</td>\n    </tr>\n    <tr>\n      <th>2017</th>\n      <td>4933955</td>\n    </tr>\n    <tr>\n      <th>2018</th>\n      <td>9862276</td>\n    </tr>\n  </tbody>\n</table>\n</div>"
     },
     "metadata": {},
     "execution_count": 8
    }
   ],
   "source": [
    "# Count the total number of babies born per year\n",
    "peryear = babies_df.groupby([\"year\"])\n",
    "\n",
    "babies_yearcount = peryear[\"count\"].sum()\n",
    "\n",
    "babies_yearcount_df = pd.DataFrame ({\"babies_count\":babies_yearcount})\n",
    "\n",
    "# Display the data frame\n",
    "babies_yearcount_df.head(20)"
   ]
  },
  {
   "cell_type": "code",
   "execution_count": 14,
   "metadata": {},
   "outputs": [
    {
     "output_type": "execute_result",
     "data": {
      "text/plain": [
       "                           babies_count\n",
       "year topic_disaggregation              \n",
       "2010 Other multiples                222\n",
       "     Singleton                   290773\n",
       "     Twins                         9220\n",
       "2011 Other multiples                228\n",
       "     Singleton                   292736\n",
       "     Twins                         9060\n",
       "2012 Other multiples                191\n",
       "     Singleton                   301025\n",
       "     Twins                         9062\n",
       "2013 Other multiples                249\n",
       "     Singleton                   300148\n",
       "     Twins                         9092\n",
       "2014 Other multiples                219\n",
       "     Singleton                   303207\n",
       "     Twins                         9116\n",
       "2015 Other multiples                237\n",
       "     Singleton                   299728\n",
       "     Twins                         8922\n",
       "2016 Other multiples                  0\n",
       "     Singleton                   305734\n",
       "     Twins                         8818\n",
       "2017 Other multiples                  0\n",
       "     Singleton                   296579\n",
       "     Twins                           32\n",
       "2018 Other multiples                378\n",
       "     Singleton                   585868\n",
       "     Twins                        11402"
      ],
      "text/html": "<div>\n<style scoped>\n    .dataframe tbody tr th:only-of-type {\n        vertical-align: middle;\n    }\n\n    .dataframe tbody tr th {\n        vertical-align: top;\n    }\n\n    .dataframe thead th {\n        text-align: right;\n    }\n</style>\n<table border=\"1\" class=\"dataframe\">\n  <thead>\n    <tr style=\"text-align: right;\">\n      <th></th>\n      <th></th>\n      <th>babies_count</th>\n    </tr>\n    <tr>\n      <th>year</th>\n      <th>topic_disaggregation</th>\n      <th></th>\n    </tr>\n  </thead>\n  <tbody>\n    <tr>\n      <th rowspan=\"3\" valign=\"top\">2010</th>\n      <th>Other multiples</th>\n      <td>222</td>\n    </tr>\n    <tr>\n      <th>Singleton</th>\n      <td>290773</td>\n    </tr>\n    <tr>\n      <th>Twins</th>\n      <td>9220</td>\n    </tr>\n    <tr>\n      <th rowspan=\"3\" valign=\"top\">2011</th>\n      <th>Other multiples</th>\n      <td>228</td>\n    </tr>\n    <tr>\n      <th>Singleton</th>\n      <td>292736</td>\n    </tr>\n    <tr>\n      <th>Twins</th>\n      <td>9060</td>\n    </tr>\n    <tr>\n      <th rowspan=\"3\" valign=\"top\">2012</th>\n      <th>Other multiples</th>\n      <td>191</td>\n    </tr>\n    <tr>\n      <th>Singleton</th>\n      <td>301025</td>\n    </tr>\n    <tr>\n      <th>Twins</th>\n      <td>9062</td>\n    </tr>\n    <tr>\n      <th rowspan=\"3\" valign=\"top\">2013</th>\n      <th>Other multiples</th>\n      <td>249</td>\n    </tr>\n    <tr>\n      <th>Singleton</th>\n      <td>300148</td>\n    </tr>\n    <tr>\n      <th>Twins</th>\n      <td>9092</td>\n    </tr>\n    <tr>\n      <th rowspan=\"3\" valign=\"top\">2014</th>\n      <th>Other multiples</th>\n      <td>219</td>\n    </tr>\n    <tr>\n      <th>Singleton</th>\n      <td>303207</td>\n    </tr>\n    <tr>\n      <th>Twins</th>\n      <td>9116</td>\n    </tr>\n    <tr>\n      <th rowspan=\"3\" valign=\"top\">2015</th>\n      <th>Other multiples</th>\n      <td>237</td>\n    </tr>\n    <tr>\n      <th>Singleton</th>\n      <td>299728</td>\n    </tr>\n    <tr>\n      <th>Twins</th>\n      <td>8922</td>\n    </tr>\n    <tr>\n      <th rowspan=\"3\" valign=\"top\">2016</th>\n      <th>Other multiples</th>\n      <td>0</td>\n    </tr>\n    <tr>\n      <th>Singleton</th>\n      <td>305734</td>\n    </tr>\n    <tr>\n      <th>Twins</th>\n      <td>8818</td>\n    </tr>\n    <tr>\n      <th rowspan=\"3\" valign=\"top\">2017</th>\n      <th>Other multiples</th>\n      <td>0</td>\n    </tr>\n    <tr>\n      <th>Singleton</th>\n      <td>296579</td>\n    </tr>\n    <tr>\n      <th>Twins</th>\n      <td>32</td>\n    </tr>\n    <tr>\n      <th rowspan=\"3\" valign=\"top\">2018</th>\n      <th>Other multiples</th>\n      <td>378</td>\n    </tr>\n    <tr>\n      <th>Singleton</th>\n      <td>585868</td>\n    </tr>\n    <tr>\n      <th>Twins</th>\n      <td>11402</td>\n    </tr>\n  </tbody>\n</table>\n</div>"
     },
     "metadata": {},
     "execution_count": 14
    }
   ],
   "source": [
    "# Count the total number of babies born per year based on plurality\n",
    "plural = babies_df.loc[babies_df[\"topic\"]== \"Plurality\"]\n",
    "pluraldropped = plural.loc[plural[\"topic_disaggregation\"]!= \"Not stated\"]\n",
    "\n",
    "byyear = pluraldropped.groupby([\"year\", \"topic_disaggregation\"])\n",
    "\n",
    "plural_count = byyear[\"count\"].sum()\n",
    "\n",
    "plural_count_df = pd.DataFrame ({\"babies_count\":plural_count})\n",
    "\n",
    "# Display the data frame\n",
    "plural_count_df.head(30)"
   ]
  },
  {
   "cell_type": "code",
   "execution_count": 13,
   "metadata": {},
   "outputs": [],
   "source": [
    "# Export file as a CSV, without the Pandas index, with the header\n",
    "plural_count_df.to_csv(\"../machine_learning/termbabiescount.csv\", index=False, header=True)"
   ]
  },
  {
   "cell_type": "code",
   "execution_count": 15,
   "metadata": {},
   "outputs": [],
   "source": [
    "# Load panda's dataframe to postgres sql table\n",
    "babies_count_df2.to_sql(name='babiessexcount', con=engine, if_exists='append', index=True)"
   ]
  },
  {
   "cell_type": "code",
   "execution_count": 29,
   "metadata": {},
   "outputs": [],
   "source": [
    "# Load panda's dataframe to postgres sql table\n",
    "babies_count_df.to_sql(name='termbabiescount', con=engine, if_exists='append', index=True)"
   ]
  },
  {
   "cell_type": "code",
   "execution_count": 30,
   "metadata": {},
   "outputs": [],
   "source": [
    "# Export file as a CSV, without the Pandas index, with the header\n",
    "babies_count_df.to_csv(\"../machine_learning/termbabiescount.csv\", index=False, header=True)"
   ]
  },
  {
   "cell_type": "code",
   "execution_count": null,
   "metadata": {},
   "outputs": [],
   "source": [
    "# # Count the total number of woman who gave birth between 2010 and 2018\n",
    "# total_births = mothers_df[\"count\"].sum()\n",
    "# total_births_df = pd.DataFrame ({\"Number of Woman who Gave Birth\":[total_births]})\n",
    "\n",
    "# # Display the data frame\n",
    "# total_births_df"
   ]
  },
  {
   "cell_type": "code",
   "execution_count": null,
   "metadata": {},
   "outputs": [],
   "source": [
    "# # Group data by age\n",
    "# age = mothers_df.groupby(\"age_group\")\n",
    "\n",
    "# # Find the total count of each age\n",
    "# age_count = age[\"count\"].sum()\n",
    "\n",
    "# # Find the percentage of each age\n",
    "# age_percent = age_count/total_births*100\n",
    "\n",
    "# # # Create a new dataframe to hold calculations for percentage and count of each gender\n",
    "# age_df = pd.DataFrame({\"Number of Woman who Gave Birth\": age_count, \"Percentage of Each Age Group 2010 - 2018\": age_percent})\n",
    "\n",
    "# # # Sort values in descedning order \n",
    "# age_df.sort_values(by=[\"Number of Woman who Gave Birth\"], inplace = True, ascending = False)\n",
    "\n",
    "# # # Convert Percentage of births to float, then format\n",
    "# age_df[\"Percentage of Each Age Group 2010 - 2018\"] = age_df[\"Percentage of Each Age Group 2010 - 2018\"].astype(float).map(\"{:,.2f}%\".format)\n",
    "\n",
    "# # Add index name and sort by Age\n",
    "# age_df.index.name = \"age_group\"\n",
    "# age_df.sort_values(by=[\"age_group\"], inplace = True, ascending = True)\n",
    "\n",
    "# # # Display the data frame\n",
    "# age_df"
   ]
  },
  {
   "cell_type": "code",
   "execution_count": null,
   "metadata": {},
   "outputs": [],
   "source": [
    "# # Add Data in to show per year\n",
    "\n",
    "# # Group data by age\n",
    "# age = mothers_df.groupby([\"year\", \"age_group\"])\n",
    "\n",
    "# # Find the total count of each age\n",
    "# age_count = age[\"count\"].sum()\n",
    "# age_count\n",
    "# # Find the total count of births per year\n",
    "# year = mothers_df.groupby(\"year\")\n",
    "# year_count = year[\"count\"].sum()\n",
    "# # year_count\n",
    "\n",
    "# # Find the percentage of each age\n",
    "# age_percent = age_count/year_count*100\n",
    "\n",
    "# # # # Create a new dataframe to hold calculations for percentage and count of each gender\n",
    "# age_df = pd.DataFrame({\"Number of Woman who Gave Birth\": age_count, \"Percentage per Year\": age_percent})\n",
    "\n",
    "# # # # Sort values in descedning order \n",
    "# age_df.sort_values(by=[\"Number of Woman who Gave Birth\"], inplace = True, ascending = False)\n",
    "\n",
    "# # # Convert Percentage of births to float, then format\n",
    "# age_df[\"Percentage per Year\"] = age_df[\"Percentage per Year\"].astype(float).map(\"{:,.2f}%\".format)\n",
    "\n",
    "# # Add index name and sort by year then age_group\n",
    "# age_df.sort_values(by=[\"year\", \"age_group\"], inplace = True, ascending = True)\n",
    "\n",
    "# # # Display the data frame\n",
    "# age_df.tail(60)"
   ]
  },
  {
   "cell_type": "code",
   "execution_count": null,
   "metadata": {},
   "outputs": [],
   "source": [
    "# # Average ages per year - REMOVE 0 Values first - 0 was not known information\n",
    "\n",
    "# # Drop any 0's in the age_group column\n",
    "# droped = mothers_df.loc[mothers_df[\"age_group\"]!= \"0\"]\n",
    "\n",
    "# # Group data by year\n",
    "# year = droped.groupby([\"year\"])\n",
    "\n",
    "# # Find the average age\n",
    "# age_count = year[\"age_group\"].mean()\n",
    "\n",
    "# # Create a new dataframe to hold calculations for percentage and count of each gender\n",
    "# avg_age = pd.DataFrame({\"Average Age\": age_count})\n",
    "\n",
    "# # Add index name and sort by year then age_group\n",
    "# avg_age.sort_values(by=[\"year\"], inplace = True, ascending = True)\n",
    "\n",
    "# # # Display the data frame\n",
    "# avg_age"
   ]
  },
  {
   "cell_type": "code",
   "execution_count": null,
   "metadata": {},
   "outputs": [],
   "source": [
    "# # Total Births Per Year \n",
    "\n",
    "# # Group data by year\n",
    "# year = mothers_df.groupby(\"year\")\n",
    "\n",
    "# # Find the total sum of births for each year\n",
    "# totalperyear = year[\"count\"].sum()\n",
    "\n",
    "# # Find the percentage of each age\n",
    "# total_percent = totalperyear/total_births*100\n",
    "\n",
    "# # Find the average age\n",
    "# age_count = year[\"age_group\"].mean()\n",
    "\n",
    "# # # Create a new dataframe to hold calculations for percentage and count of each gender\n",
    "# year_df = pd.DataFrame({\"Number of Woman who Gave Birth\": totalperyear, \"Percentage of Each Year\": total_percent, \"Average Age of Mothers at Birth\" : age_count})\n",
    "\n",
    "# # # Sort values in descedning order \n",
    "# year_df.sort_values(by=[\"Number of Woman who Gave Birth\"], inplace = True, ascending = False)\n",
    "\n",
    "# # # Convert Percentage of births each year to float, and format. Format average age\n",
    "# year_df[\"Percentage of Each Year\"] = year_df[\"Percentage of Each Year\"].astype(float).map(\"{:,.2f}%\".format)\n",
    "# year_df[\"Average Age of Mothers at Birth\"] = year_df[\"Average Age of Mothers at Birth\"].map(\"{:,.2f}\".format)\n",
    "\n",
    "# # Add index name and sort by year then age_group\n",
    "# year_df.sort_values(by=[\"year\"], inplace = True, ascending = True)\n",
    "\n",
    "# # # Display the data frame\n",
    "# year_df"
   ]
  },
  {
   "cell_type": "code",
   "execution_count": null,
   "metadata": {},
   "outputs": [],
   "source": [
    "# # Drop any 0's in the age_group column\n",
    "# droped = mothers_df.loc[mothers_df[\"age_group\"]!= \"0\"]\n",
    "\n",
    "# # Group data by year\n",
    "# year = droped.groupby([\"year\"])\n",
    "\n",
    "# # Find the average age\n",
    "# age_count = year[\"age_group\"].mean()\n",
    "\n",
    "# # Create a new dataframe to hold calculations for percentage and count of each gender\n",
    "# avg_age = pd.DataFrame({\"Average Age\": age_count})\n",
    "\n",
    "# # Add index name and sort by year then age_group\n",
    "# avg_age.sort_values(by=[\"year\"], inplace = True, ascending = True)\n",
    "\n",
    "# # # Display the data frame\n",
    "# avg_age"
   ]
  },
  {
   "cell_type": "code",
   "execution_count": null,
   "metadata": {},
   "outputs": [],
   "source": [
    "# # Count the total number of woman who gave birth between 2010 and 2018 in either private or public hospitals\n",
    "# dropped = mothers_df.loc[mothers_df[\"topic\"]== \"Hospital sector\"]\n",
    "# dropped = dropped.loc[dropped[\"topic_disaggregation\"]!= \"Not stated\"]\n",
    "\n",
    "# # Group by private or public\n",
    "# birth_locations = dropped.groupby([\"topic_disaggregation\"])\n",
    "\n",
    "# birth_locations_count = birth_locations[\"count\"].sum()\n",
    "\n",
    "# birth_locations_df = pd.DataFrame ({\"Number of Woman Who Gave Birth\":birth_locations_count})\n",
    "\n",
    "# # Display the data frame\n",
    "# birth_locations_df"
   ]
  },
  {
   "cell_type": "code",
   "execution_count": null,
   "metadata": {},
   "outputs": [],
   "source": [
    "# # Count the total number of woman who gave birth between 2010 and 2018 each year in either private or public hospitals\n",
    "# dropped = mothers_df.loc[mothers_df[\"topic\"]== \"Hospital sector\"]\n",
    "# dropped = dropped.loc[dropped[\"topic_disaggregation\"]!= \"Not stated\"]\n",
    "\n",
    "# # Group by private or public\n",
    "# birth_locations = dropped.groupby([\"year\", \"topic_disaggregation\"])\n",
    "\n",
    "# birth_locations_count = birth_locations[\"count\"].sum()\n",
    "\n",
    "# birth_locations_df = pd.DataFrame ({\"Number of Woman Who Gave Birth\":birth_locations_count})\n",
    "\n",
    "# # Display the data frame\n",
    "# birth_locations_df"
   ]
  },
  {
   "cell_type": "code",
   "execution_count": null,
   "metadata": {},
   "outputs": [],
   "source": [
    "# # Count the total number of indigenous woman who gave birth between 2010 and 2018\n",
    "# drop = mothers_df.loc[mothers_df[\"topic\"]== \"Indigenous status (mother)\"]\n",
    "# # dropped = dropped.loc[dropped[\"topic_disaggregation\"]!= \"Not stated\"]\n",
    "\n",
    "# # Group by Indigenous Status\n",
    "# indigenous = drop.groupby([\"topic_disaggregation\"])\n",
    "\n",
    "# indigenous_status = indigenous[\"count\"].sum()\n",
    "\n",
    "# indigenous_df = pd.DataFrame ({\"Number of Indigenous Woman Who Gave Birth\":indigenous_status})\n",
    "\n",
    "# # Display the data frame\n",
    "# indigenous_df"
   ]
  },
  {
   "cell_type": "code",
   "execution_count": null,
   "metadata": {},
   "outputs": [],
   "source": [
    "# # Count the total number of indigenous woman who gave birth between 2010 and 2018 per year\n",
    "# drop = mothers_df.loc[mothers_df[\"topic\"]== \"Indigenous status (mother)\"]\n",
    "\n",
    "# # Group by year and Indigenous Status\n",
    "# indigenous_year = drop.groupby([\"year\", \"topic_disaggregation\"])\n",
    "\n",
    "# indigenous_status_year = indigenous_year[\"count\"].sum()\n",
    "\n",
    "# indigenous_year_df = pd.DataFrame ({\"Number of Indigenous Woman Who Gave Birth\":indigenous_status_year})\n",
    "\n",
    "# # Display the data frame\n",
    "# indigenous_year_df"
   ]
  },
  {
   "cell_type": "code",
   "execution_count": null,
   "metadata": {},
   "outputs": [],
   "source": [
    "# # Count the total number of woman who gave birth in each state between 2010 and 2018\n",
    "# statedropped = mothers_df.loc[mothers_df[\"topic\"]== \"State and territory of birth\"]\n",
    "# # dropped = dropped.loc[dropped[\"topic_disaggregation\"]!= \"Not stated\"]\n",
    "\n",
    "# # Group by state\n",
    "# birth_state = statedropped.groupby([\"topic_disaggregation\"])\n",
    "\n",
    "# birth_state_count = birth_state[\"count\"].sum()\n",
    "\n",
    "# birth_state_df = pd.DataFrame ({\"Number of Woman Who Gave Birth\":birth_state_count})\n",
    "\n",
    "# # Display the data frame\n",
    "# birth_state_df"
   ]
  },
  {
   "cell_type": "code",
   "execution_count": null,
   "metadata": {},
   "outputs": [],
   "source": [
    "# # Count the total number of woman who gave birth in each state between 2010 and 2018\n",
    "# statedropped = mothers_df.loc[mothers_df[\"topic\"]== \"State and territory of birth\"]\n",
    "# # dropped = dropped.loc[dropped[\"topic_disaggregation\"]!= \"Not stated\"]\n",
    "\n",
    "# # Group by year and state\n",
    "# birth_state = statedropped.groupby([\"year\", \"topic_disaggregation\"])\n",
    "\n",
    "# birth_state_count = birth_state[\"count\"].sum()\n",
    "\n",
    "# birth_state_df = pd.DataFrame ({\"Number of Woman Who Gave Birth\":birth_state_count})\n",
    "\n",
    "# # Display the data frame\n",
    "# birth_state_df"
   ]
  },
  {
   "cell_type": "code",
   "execution_count": null,
   "metadata": {},
   "outputs": [],
   "source": [
    "# # Read in csv for Mothers Birth Country\n",
    "# mothersbirth = \"finaldata/Table_4.1.csv\"\n",
    "# mothersbirth_df = pd.read_csv(mothersbirth)\n",
    "# mothersbirth_df.head()"
   ]
  },
  {
   "cell_type": "code",
   "execution_count": null,
   "metadata": {},
   "outputs": [],
   "source": [
    "# # View all columns for df to decide what to keep\n",
    "# mothersbirth_df.columns"
   ]
  },
  {
   "cell_type": "code",
   "execution_count": null,
   "metadata": {},
   "outputs": [],
   "source": [
    "# # Print datatypes\n",
    "# mothersbirth_df.info()"
   ]
  },
  {
   "cell_type": "code",
   "execution_count": null,
   "metadata": {},
   "outputs": [],
   "source": [
    "# # Drop any values's in the topic column that don't relate to the mothers birth country\n",
    "# dropped = mothersbirth_df.loc[mothersbirth_df[\"topic\"]== \"Country of birth (mother)\"]\n",
    "\n",
    "# # Group data by maternal country of birth\n",
    "# countryofbirth = dropped.groupby(\"topic_disaggregation\")\n",
    "\n",
    "# # Find the total count of each mother per country\n",
    "# countofmothers = countryofbirth[\"count\"].sum()\n",
    "\n",
    "# # Create a new dataframe to hold calculations for percentage and count of each gender\n",
    "# countofmothers_df = pd.DataFrame({\"number_women_gave_birth\": countofmothers})\n",
    "\n",
    "\n",
    "# # Add index name and sort by Age\n",
    "# countofmothers_df.index.name = \"maternal_birth_country\"\n",
    "\n",
    "\n",
    "# # Display the data frame\n",
    "# countofmothers_df"
   ]
  },
  {
   "cell_type": "code",
   "execution_count": null,
   "metadata": {},
   "outputs": [],
   "source": [
    "# # Drop any values's in the topic column that don't relate to the mothers birth country\n",
    "# dropped = mothersbirth_df.loc[mothersbirth_df[\"topic\"]== \"Country of birth (mother)\"]\n",
    "\n",
    "# # Group data by maternal country of birth and year\n",
    "# countryofbirth = dropped.groupby([\"year\", \"topic_disaggregation\"])\n",
    "\n",
    "# # Find the total count of each mother per country\n",
    "# countofmothers = countryofbirth[\"count\"].sum()\n",
    "\n",
    "# # Create a new dataframe to hold calculations for percentage and count of each gender\n",
    "# countofmothers_df = pd.DataFrame({\"number_women_gave_birth\": countofmothers})\n",
    "\n",
    "# # Add index name and sort by Age\n",
    "# countofmothers_df.index.name = \"maternal_birth_country\"\n",
    "\n",
    "\n",
    "# # Display the data frame\n",
    "# countofmothers_df"
   ]
  },
  {
   "cell_type": "code",
   "execution_count": null,
   "metadata": {},
   "outputs": [],
   "source": [
    "# # Read in csv for birth location\n",
    "# birthlocation = \"finaldata/Table_3.1.csv\"\n",
    "# birthlocation_df = pd.read_csv(birthlocation)\n",
    "# birthlocation_df.head()"
   ]
  },
  {
   "cell_type": "code",
   "execution_count": null,
   "metadata": {},
   "outputs": [],
   "source": [
    "# # Print datatypes\n",
    "# birthlocation_df.info()"
   ]
  },
  {
   "cell_type": "code",
   "execution_count": null,
   "metadata": {},
   "outputs": [],
   "source": [
    "# # Isolate one set of data, as data is replicated across multiple topics \n",
    "# placeofbirthfilter = birthlocation_df.loc[birthlocation_df[\"topic\"]== \"Country of birth (mother)\"]\n",
    "\n",
    "# # Find the total count of each mother that gave birth in different locations\n",
    "# totalcount = placeofbirthfilter[\"count\"].sum()\n",
    "# totalcount"
   ]
  },
  {
   "cell_type": "code",
   "execution_count": null,
   "metadata": {},
   "outputs": [],
   "source": [
    "# # Group data by place of birth\n",
    "# placeofbirth = placeofbirthfilter.groupby(\"place_of_birth\")\n",
    "\n",
    "# # Find the total count of each mother per place of birth\n",
    "# countofbirthplace = placeofbirth[\"count\"].sum()\n",
    "\n",
    "# # # Create a new dataframe to hold the number of women who gave birth per place of birth\n",
    "# countofbirthplace_df = pd.DataFrame({\"number_of_women_per_birthplace\": countofbirthplace})\n",
    "\n",
    "# # Display the data frame\n",
    "# countofbirthplace_df"
   ]
  },
  {
   "cell_type": "code",
   "execution_count": null,
   "metadata": {},
   "outputs": [],
   "source": [
    "# # Group data by year\n",
    "# yearfilter = placeofbirthfilter.groupby([\"year\"])\n",
    "\n",
    "# # Find the total count of each mother that gave birth in different locations each year\n",
    "# totalyearcount = yearfilter[\"count\"].sum()\n",
    "\n",
    "# # Create a new dataframe to hold the number of women who gave birth per place of birth\n",
    "# countofyear_df = pd.DataFrame({\"number_of_women_per_year\": totalyearcount})\n",
    "# countofyear_df"
   ]
  }
 ]
}