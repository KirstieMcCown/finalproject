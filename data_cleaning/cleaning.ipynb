{
 "metadata": {
  "language_info": {
   "codemirror_mode": {
    "name": "ipython",
    "version": 3
   },
   "file_extension": ".py",
   "mimetype": "text/x-python",
   "name": "python",
   "nbconvert_exporter": "python",
   "pygments_lexer": "ipython3",
   "version": "3.6.12-final"
  },
  "orig_nbformat": 2,
  "kernelspec": {
   "name": "Python 3.6.12 64-bit ('PythonAdv': conda)",
   "display_name": "Python 3.6.12 64-bit ('PythonAdv': conda)",
   "metadata": {
    "interpreter": {
     "hash": "6340ebdd750fb120c69d52905c3e0f3fc3af95b9464c226bc98001ae2708df00"
    }
   }
  }
 },
 "nbformat": 4,
 "nbformat_minor": 2,
 "cells": [
  {
   "cell_type": "code",
   "execution_count": null,
   "metadata": {},
   "outputs": [],
   "source": [
    "import pandas as pd"
   ]
  },
  {
   "cell_type": "code",
   "execution_count": null,
   "metadata": {},
   "outputs": [],
   "source": [
    "from sqlalchemy import create_engine"
   ]
  },
  {
   "cell_type": "code",
   "execution_count": null,
   "metadata": {},
   "outputs": [],
   "source": [
    "# Read in csv\n",
    "table = \"finaldata/Table_1.2.csv\"\n",
    "table_df = pd.read_csv(table)\n",
    "table_df.head()"
   ]
  },
  {
   "cell_type": "code",
   "execution_count": null,
   "metadata": {},
   "outputs": [],
   "source": [
    "# View all columns for df to decide what to keep\n",
    "table_df.columns"
   ]
  },
  {
   "cell_type": "code",
   "execution_count": null,
   "metadata": {},
   "outputs": [],
   "source": [
    "# Print \n",
    "table_df.info()"
   ]
  },
  {
   "cell_type": "code",
   "execution_count": null,
   "metadata": {},
   "outputs": [],
   "source": [
    "# Remove any unnecessary columns from df\n",
    "columns_list = ['Sub-group disaggregation', 'Topic','Topic disaggregation', 'Current/Trend', 'Year', 'Numerator','Denominator', 'Per cent']\n",
    "\n",
    "\n",
    "mothers = table_df[columns_list].copy()\n",
    "mothers\n"
   ]
  },
  {
   "cell_type": "code",
   "execution_count": null,
   "metadata": {},
   "outputs": [],
   "source": [
    "# Rename columns\n",
    "\n",
    "mothers_df = mothers.rename(columns={\"Sub-group disaggregation\" : \"age_group\", \"Topic\" : \"topic\", \"Topic disaggregation\" : \"topic_disaggregation\", \"Current/Trend\" : \"current/trend\", \"Year\" : \"year\", \"Numerator\" : \"count\", \"Denominator\" : \"year_total\", \"Per cent\" : \"percent_total\"})\n",
    "\n",
    "mothers_df.head(20)"
   ]
  },
  {
   "cell_type": "code",
   "execution_count": null,
   "metadata": {},
   "outputs": [],
   "source": [
    "# Check and change data types if required\n",
    "mothers_df.dtypes"
   ]
  },
  {
   "cell_type": "code",
   "execution_count": null,
   "metadata": {},
   "outputs": [],
   "source": [
    "# Count the total number of woman who gave birth between 2010 and 2018\n",
    "total_births = mothers_df[\"count\"].sum()\n",
    "total_births_df = pd.DataFrame ({\"Number of Woman who Gave Birth\":[total_births]})\n",
    "\n",
    "# Display the data frame\n",
    "total_births_df"
   ]
  },
  {
   "cell_type": "code",
   "execution_count": null,
   "metadata": {},
   "outputs": [],
   "source": [
    "# Group data by age\n",
    "age = mothers_df.groupby(\"age_group\")\n",
    "\n",
    "# Find the total count of each age\n",
    "age_count = age[\"count\"].sum()\n",
    "\n",
    "# Find the percentage of each age\n",
    "age_percent = age_count/total_births*100\n",
    "\n",
    "# # Create a new dataframe to hold calculations for percentage and count of each gender\n",
    "age_df = pd.DataFrame({\"Number of Woman who Gave Birth\": age_count, \"Percentage of Each Age Group 2010 - 2018\": age_percent})\n",
    "\n",
    "# # Sort values in descedning order \n",
    "age_df.sort_values(by=[\"Number of Woman who Gave Birth\"], inplace = True, ascending = False)\n",
    "\n",
    "# # Convert Percentage of births to float, then format\n",
    "age_df[\"Percentage of Each Age Group 2010 - 2018\"] = age_df[\"Percentage of Each Age Group 2010 - 2018\"].astype(float).map(\"{:,.2f}%\".format)\n",
    "\n",
    "# Add index name and sort by Age\n",
    "age_df.index.name = \"age_group\"\n",
    "age_df.sort_values(by=[\"age_group\"], inplace = True, ascending = True)\n",
    "\n",
    "# # Display the data frame\n",
    "age_df"
   ]
  },
  {
   "cell_type": "code",
   "execution_count": null,
   "metadata": {},
   "outputs": [],
   "source": [
    "# Add Data in to show per year\n",
    "\n",
    "# Group data by age\n",
    "age = mothers_df.groupby([\"year\", \"age_group\"])\n",
    "\n",
    "# Find the total count of each age\n",
    "age_count = age[\"count\"].sum()\n",
    "age_count\n",
    "# Find the total count of births per year\n",
    "year = mothers_df.groupby(\"year\")\n",
    "year_count = year[\"count\"].sum()\n",
    "# year_count\n",
    "\n",
    "# Find the percentage of each age\n",
    "age_percent = age_count/year_count*100\n",
    "\n",
    "# # # Create a new dataframe to hold calculations for percentage and count of each gender\n",
    "age_df = pd.DataFrame({\"Number of Woman who Gave Birth\": age_count, \"Percentage per Year\": age_percent})\n",
    "\n",
    "# # # Sort values in descedning order \n",
    "age_df.sort_values(by=[\"Number of Woman who Gave Birth\"], inplace = True, ascending = False)\n",
    "\n",
    "# # Convert Percentage of births to float, then format\n",
    "age_df[\"Percentage per Year\"] = age_df[\"Percentage per Year\"].astype(float).map(\"{:,.2f}%\".format)\n",
    "\n",
    "# Add index name and sort by year then age_group\n",
    "age_df.sort_values(by=[\"year\", \"age_group\"], inplace = True, ascending = True)\n",
    "\n",
    "# # Display the data frame\n",
    "age_df.tail(60)"
   ]
  },
  {
   "cell_type": "code",
   "execution_count": null,
   "metadata": {},
   "outputs": [],
   "source": [
    "# Average ages per year - REMOVE 0 Values first - 0 was not known information\n",
    "\n",
    "# Drop any 0's in the age_group column\n",
    "droped = mothers_df.loc[mothersage_df[\"age_group\"]!= \"0\"]\n",
    "\n",
    "# Group data by year\n",
    "year = droped.groupby([\"year\"])\n",
    "\n",
    "# Find the average age\n",
    "age_count = year[\"age_group\"].mean()\n",
    "\n",
    "# Create a new dataframe to hold calculations for percentage and count of each gender\n",
    "avg_age = pd.DataFrame({\"Average Age\": age_count})\n",
    "\n",
    "# Add index name and sort by year then age_group\n",
    "avg_age.sort_values(by=[\"year\"], inplace = True, ascending = True)\n",
    "\n",
    "# # Display the data frame\n",
    "avg_age"
   ]
  },
  {
   "cell_type": "code",
   "execution_count": null,
   "metadata": {},
   "outputs": [],
   "source": [
    "# Total Births Per Year \n",
    "\n",
    "# Group data by year\n",
    "year = mothers_df.groupby(\"year\")\n",
    "\n",
    "# Find the total sum of births for each year\n",
    "totalperyear = year[\"count\"].sum()\n",
    "\n",
    "# Find the percentage of each age\n",
    "total_percent = totalperyear/total_births*100\n",
    "\n",
    "# Find the average age\n",
    "age_count = year[\"age_group\"].mean()\n",
    "\n",
    "# # Create a new dataframe to hold calculations for percentage and count of each gender\n",
    "year_df = pd.DataFrame({\"Number of Woman who Gave Birth\": totalperyear, \"Percentage of Each Year\": total_percent, \"Average Age of Mothers at Birth\" : age_count})\n",
    "\n",
    "# # Sort values in descedning order \n",
    "year_df.sort_values(by=[\"Number of Woman who Gave Birth\"], inplace = True, ascending = False)\n",
    "\n",
    "# # Convert Percentage of births each year to float, and format. Format average age\n",
    "year_df[\"Percentage of Each Year\"] = year_df[\"Percentage of Each Year\"].astype(float).map(\"{:,.2f}%\".format)\n",
    "year_df[\"Average Age of Mothers at Birth\"] = year_df[\"Average Age of Mothers at Birth\"].map(\"{:,.2f}\".format)\n",
    "\n",
    "# Add index name and sort by year then age_group\n",
    "year_df.sort_values(by=[\"year\"], inplace = True, ascending = True)\n",
    "\n",
    "# # Display the data frame\n",
    "year_df"
   ]
  },
  {
   "cell_type": "code",
   "execution_count": null,
   "metadata": {},
   "outputs": [],
   "source": []
  },
  {
   "cell_type": "code",
   "execution_count": null,
   "metadata": {},
   "outputs": [],
   "source": [
    "# Drop any 0's in the age_group column\n",
    "droped = mothers_df.loc[mothersage_df[\"age_group\"]!= \"0\"]\n",
    "\n",
    "# Group data by year\n",
    "year = droped.groupby([\"year\"])\n",
    "\n",
    "# Find the average age\n",
    "age_count = year[\"age_group\"].mean()\n",
    "\n",
    "# Create a new dataframe to hold calculations for percentage and count of each gender\n",
    "avg_age = pd.DataFrame({\"Average Age\": age_count})\n",
    "\n",
    "# Add index name and sort by year then age_group\n",
    "avg_age.sort_values(by=[\"year\"], inplace = True, ascending = True)\n",
    "\n",
    "# # Display the data frame\n",
    "avg_age"
   ]
  },
  {
   "cell_type": "code",
   "execution_count": null,
   "metadata": {},
   "outputs": [],
   "source": [
    "# Count the total number of woman who gave birth between 2010 and 2018 in either private or public hospitals\n",
    "dropped = mothers_df.loc[mothersage_df[\"topic\"]== \"Hospital sector\"]\n",
    "dropped = dropped.loc[dropped[\"topic_disaggregation\"]!= \"Not stated\"]\n",
    "\n",
    "# Group by private or public\n",
    "birth_locations = dropped.groupby([\"topic_disaggregation\"])\n",
    "\n",
    "birth_locations_count = birth_locations[\"count\"].sum()\n",
    "\n",
    "birth_locations_df = pd.DataFrame ({\"Number of Woman Who Gave Birth\":birth_locations_count})\n",
    "\n",
    "# Display the data frame\n",
    "birth_locations_df"
   ]
  },
  {
   "cell_type": "code",
   "execution_count": null,
   "metadata": {},
   "outputs": [],
   "source": [
    "# Count the total number of woman who gave birth between 2010 and 2018 each year in either private or public hospitals\n",
    "dropped = mothers_df.loc[mothersage_df[\"topic\"]== \"Hospital sector\"]\n",
    "dropped = dropped.loc[dropped[\"topic_disaggregation\"]!= \"Not stated\"]\n",
    "\n",
    "# Group by private or public\n",
    "birth_locations = dropped.groupby([\"year\", \"topic_disaggregation\"])\n",
    "\n",
    "birth_locations_count = birth_locations[\"count\"].sum()\n",
    "\n",
    "birth_locations_df = pd.DataFrame ({\"Number of Woman Who Gave Birth\":birth_locations_count})\n",
    "\n",
    "# Display the data frame\n",
    "birth_locations_df"
   ]
  },
  {
   "cell_type": "code",
   "execution_count": null,
   "metadata": {},
   "outputs": [],
   "source": [
    "# Count the total number of indigenous woman who gave birth between 2010 and 2018\n",
    "drop = mothers_df.loc[mothersage_df[\"topic\"]== \"Indigenous status (mother)\"]\n",
    "# dropped = dropped.loc[dropped[\"topic_disaggregation\"]!= \"Not stated\"]\n",
    "\n",
    "# Group by Indigenous Status\n",
    "indigenous = drop.groupby([\"topic_disaggregation\"])\n",
    "\n",
    "indigenous_status = indigenous[\"count\"].sum()\n",
    "\n",
    "indigenous_df = pd.DataFrame ({\"Number of Indigenous Woman Who Gave Birth\":indigenous_status})\n",
    "\n",
    "# Display the data frame\n",
    "indigenous_df"
   ]
  },
  {
   "cell_type": "code",
   "execution_count": null,
   "metadata": {},
   "outputs": [],
   "source": [
    "# Count the total number of indigenous woman who gave birth between 2010 and 2018 per year\n",
    "drop = mothers_df.loc[mothersage_df[\"topic\"]== \"Indigenous status (mother)\"]\n",
    "\n",
    "# Group by year and Indigenous Status\n",
    "indigenous_year = drop.groupby([\"year\", \"topic_disaggregation\"])\n",
    "\n",
    "indigenous_status_year = indigenous_year[\"count\"].sum()\n",
    "\n",
    "indigenous_year_df = pd.DataFrame ({\"Number of Indigenous Woman Who Gave Birth\":indigenous_status_year})\n",
    "\n",
    "# Display the data frame\n",
    "indigenous_year_df"
   ]
  },
  {
   "cell_type": "code",
   "execution_count": null,
   "metadata": {},
   "outputs": [],
   "source": [
    "# Count the total number of woman who gave birth in each state between 2010 and 2018\n",
    "statedropped = mothers_df.loc[mothersage_df[\"topic\"]== \"State and territory of birth\"]\n",
    "# dropped = dropped.loc[dropped[\"topic_disaggregation\"]!= \"Not stated\"]\n",
    "\n",
    "# Group by state\n",
    "birth_state = statedropped.groupby([\"topic_disaggregation\"])\n",
    "\n",
    "birth_state_count = birth_state[\"count\"].sum()\n",
    "\n",
    "birth_state_df = pd.DataFrame ({\"Number of Woman Who Gave Birth\":birth_state_count})\n",
    "\n",
    "# Display the data frame\n",
    "birth_state_df"
   ]
  },
  {
   "cell_type": "code",
   "execution_count": null,
   "metadata": {},
   "outputs": [],
   "source": [
    "# Count the total number of woman who gave birth in each state between 2010 and 2018\n",
    "statedropped = mothers_df.loc[mothersage_df[\"topic\"]== \"State and territory of birth\"]\n",
    "# dropped = dropped.loc[dropped[\"topic_disaggregation\"]!= \"Not stated\"]\n",
    "\n",
    "# Group by year and state\n",
    "birth_state = statedropped.groupby([\"year\", \"topic_disaggregation\"])\n",
    "\n",
    "birth_state_count = birth_state[\"count\"].sum()\n",
    "\n",
    "birth_state_df = pd.DataFrame ({\"Number of Woman Who Gave Birth\":birth_state_count})\n",
    "\n",
    "# Display the data frame\n",
    "birth_state_df"
   ]
  },
  {
   "cell_type": "code",
   "execution_count": null,
   "metadata": {},
   "outputs": [],
   "source": [
    "# Connect to postgres database\n",
    "connection_string = \"postgres:postgres@localhost:5432/oil_db\"\n",
    "engine = create_engine(f'postgresql://{connection_string}')"
   ]
  },
  {
   "cell_type": "code",
   "execution_count": null,
   "metadata": {},
   "outputs": [],
   "source": [
    "# Check available tables in postgres database\n",
    "engine.table_names()"
   ]
  },
  {
   "cell_type": "code",
   "execution_count": null,
   "metadata": {},
   "outputs": [],
   "source": [
    "# Load panda's dataframe to postgres sql table\n",
    "cleaned_oil.to_sql(name='cleaned_oil', con=engine, if_exists='append', index=True)\n",
    "cleaned_accidents.to_sql(name='cleaned_accidents', con=engine, if_exists='append', index=True)"
   ]
  }
 ]
}