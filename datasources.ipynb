{
 "metadata": {
  "language_info": {
   "codemirror_mode": {
    "name": "ipython",
    "version": 3
   },
   "file_extension": ".py",
   "mimetype": "text/x-python",
   "name": "python",
   "nbconvert_exporter": "python",
   "pygments_lexer": "ipython3",
   "version": "3.7.6-final"
  },
  "orig_nbformat": 2,
  "kernelspec": {
   "name": "python3",
   "display_name": "Python 3.7.6 64-bit (conda)",
   "metadata": {
    "interpreter": {
     "hash": "5d9eea19acdaf7e3e412d56b629327a4f6f5540afb1b96c218bba492e55113e5"
    }
   }
  }
 },
 "nbformat": 4,
 "nbformat_minor": 2,
 "cells": [
  {
   "cell_type": "code",
   "execution_count": 1,
   "metadata": {},
   "outputs": [],
   "source": [
    "# Dependencies\n",
    "import pandas as pd"
   ]
  },
  {
   "cell_type": "code",
   "execution_count": 2,
   "metadata": {},
   "outputs": [],
   "source": [
    "# Store filepath in a variable\n",
    "datacsv = \"datasummary.csv\""
   ]
  },
  {
   "cell_type": "code",
   "execution_count": 3,
   "metadata": {},
   "outputs": [],
   "source": [
    "# Read our Data file with the pandas library as a DataFrame\n",
    "datasources = pd.read_csv(datacsv)"
   ]
  },
  {
   "cell_type": "code",
   "execution_count": 4,
   "metadata": {},
   "outputs": [
    {
     "output_type": "execute_result",
     "data": {
      "text/plain": [
       "                       Use   \\\n",
       "0                     Plots   \n",
       "1  Plots & Machine Learning   \n",
       "\n",
       "                                              Source  \\\n",
       "0  https://www.aihw.gov.au/reports-data/health-we...   \n",
       "1  https://www.aihw.gov.au/reports-data/populatio...   \n",
       "\n",
       "                                         Data  \n",
       "0             Adoptions Australia 1998 - 2019  \n",
       "1  Australia's Mothers and Babies 2010 - 2018  "
      ],
      "text/html": "<div>\n<style scoped>\n    .dataframe tbody tr th:only-of-type {\n        vertical-align: middle;\n    }\n\n    .dataframe tbody tr th {\n        vertical-align: top;\n    }\n\n    .dataframe thead th {\n        text-align: right;\n    }\n</style>\n<table border=\"1\" class=\"dataframe\">\n  <thead>\n    <tr style=\"text-align: right;\">\n      <th></th>\n      <th>Use</th>\n      <th>Source</th>\n      <th>Data</th>\n    </tr>\n  </thead>\n  <tbody>\n    <tr>\n      <th>0</th>\n      <td>Plots</td>\n      <td>https://www.aihw.gov.au/reports-data/health-we...</td>\n      <td>Adoptions Australia 1998 - 2019</td>\n    </tr>\n    <tr>\n      <th>1</th>\n      <td>Plots &amp; Machine Learning</td>\n      <td>https://www.aihw.gov.au/reports-data/populatio...</td>\n      <td>Australia's Mothers and Babies 2010 - 2018</td>\n    </tr>\n  </tbody>\n</table>\n</div>"
     },
     "metadata": {},
     "execution_count": 4
    }
   ],
   "source": [
    "# View DataFrame\n",
    "datasources"
   ]
  },
  {
   "cell_type": "code",
   "execution_count": 5,
   "metadata": {},
   "outputs": [],
   "source": [
    "# Save DataFrame to HTML File\n",
    "datasources_html = datasources.to_html(\"datasources.html\", index=False)"
   ]
  }
 ]
}