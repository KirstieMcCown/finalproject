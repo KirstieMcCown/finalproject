{
 "metadata": {
  "language_info": {
   "codemirror_mode": {
    "name": "ipython",
    "version": 3
   },
   "file_extension": ".py",
   "mimetype": "text/x-python",
   "name": "python",
   "nbconvert_exporter": "python",
   "pygments_lexer": "ipython3",
   "version": "3.7.6-final"
  },
  "orig_nbformat": 2,
  "kernelspec": {
   "name": "Python 3.7.6 64-bit ('base': conda)",
   "display_name": "Python 3.7.6 64-bit ('base': conda)",
   "metadata": {
    "interpreter": {
     "hash": "5d9eea19acdaf7e3e412d56b629327a4f6f5540afb1b96c218bba492e55113e5"
    }
   }
  }
 },
 "nbformat": 4,
 "nbformat_minor": 2,
 "cells": [
  {
   "cell_type": "code",
   "execution_count": 1,
   "metadata": {},
   "outputs": [],
   "source": [
    "# Dependencies\n",
    "import pandas as pd"
   ]
  },
  {
   "cell_type": "code",
   "execution_count": 2,
   "metadata": {},
   "outputs": [],
   "source": [
    "# Store filepath in a variable\n",
    "datacsv = \"datasummary.csv\""
   ]
  },
  {
   "cell_type": "code",
   "execution_count": 3,
   "metadata": {},
   "outputs": [],
   "source": [
    "# Read our Data file with the pandas library as a DataFrame\n",
    "datasources = pd.read_csv(datacsv)"
   ]
  },
  {
   "cell_type": "code",
   "execution_count": 4,
   "metadata": {},
   "outputs": [
    {
     "output_type": "execute_result",
     "data": {
      "text/plain": [
       "                             Use                         File Name  \\\n",
       "0         Leaflet Chloropleth Map  IBRA7_regions_26sep2015.geojson   \n",
       "1               CSV Data Cleaning                      dataone.csv   \n",
       "2                           Plots                 20200929spcs.csv   \n",
       "3  Pink Polygons in Australia Map               CM_Zones_shapefile   \n",
       "\n",
       "                                              Source  \\\n",
       "0  https://data.gov.au/data/dataset/2016-soe-bio-...   \n",
       "1  https://www.environment.gov.au/sprat-public/ac...   \n",
       "2  https://data.gov.au/dataset/ds-dga-ae652011-f3...   \n",
       "3  https://data.gov.au/data/dataset/conservation-...   \n",
       "\n",
       "                                            Data Use  \n",
       "0  2016 SoE Biodiversity Number of EPBC species i...  \n",
       "1               Species Profile and Threats Database  \n",
       "2     Threatened Species State Lists - 29 Sept  2020  \n",
       "3         Conservation Management Zones of Australia  "
      ],
      "text/html": "<div>\n<style scoped>\n    .dataframe tbody tr th:only-of-type {\n        vertical-align: middle;\n    }\n\n    .dataframe tbody tr th {\n        vertical-align: top;\n    }\n\n    .dataframe thead th {\n        text-align: right;\n    }\n</style>\n<table border=\"1\" class=\"dataframe\">\n  <thead>\n    <tr style=\"text-align: right;\">\n      <th></th>\n      <th>Use</th>\n      <th>File Name</th>\n      <th>Source</th>\n      <th>Data Use</th>\n    </tr>\n  </thead>\n  <tbody>\n    <tr>\n      <th>0</th>\n      <td>Leaflet Chloropleth Map</td>\n      <td>IBRA7_regions_26sep2015.geojson</td>\n      <td>https://data.gov.au/data/dataset/2016-soe-bio-...</td>\n      <td>2016 SoE Biodiversity Number of EPBC species i...</td>\n    </tr>\n    <tr>\n      <th>1</th>\n      <td>CSV Data Cleaning</td>\n      <td>dataone.csv</td>\n      <td>https://www.environment.gov.au/sprat-public/ac...</td>\n      <td>Species Profile and Threats Database</td>\n    </tr>\n    <tr>\n      <th>2</th>\n      <td>Plots</td>\n      <td>20200929spcs.csv</td>\n      <td>https://data.gov.au/dataset/ds-dga-ae652011-f3...</td>\n      <td>Threatened Species State Lists - 29 Sept  2020</td>\n    </tr>\n    <tr>\n      <th>3</th>\n      <td>Pink Polygons in Australia Map</td>\n      <td>CM_Zones_shapefile</td>\n      <td>https://data.gov.au/data/dataset/conservation-...</td>\n      <td>Conservation Management Zones of Australia</td>\n    </tr>\n  </tbody>\n</table>\n</div>"
     },
     "metadata": {},
     "execution_count": 4
    }
   ],
   "source": [
    "# View DataFrame\n",
    "datasources"
   ]
  },
  {
   "cell_type": "code",
   "execution_count": 5,
   "metadata": {},
   "outputs": [],
   "source": [
    "# Save DataFrame to HTML File\n",
    "datasources_html = datasources.to_html(\"datasources.html\", index=False)"
   ]
  }
 ]
}